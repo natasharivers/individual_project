{
 "cells": [
  {
   "cell_type": "markdown",
   "metadata": {},
   "source": [
    "# Drug Related Overdose Deaths\n",
    "## Individual Project- Regression\n",
    "### Natasha Rivers\n",
    "#### July 14, 2021"
   ]
  },
  {
   "cell_type": "markdown",
   "metadata": {},
   "source": [
    "<hr style=\"border:1px solid black\"> </hr>"
   ]
  },
  {
   "cell_type": "markdown",
   "metadata": {},
   "source": [
    "## Project Scope"
   ]
  },
  {
   "cell_type": "markdown",
   "metadata": {},
   "source": [
    "**Methodology Used**: Regression\n",
    "\n",
    "**Target Variable**: Age\n",
    "\n",
    "**Primary Question**: Does age play a role in drug related deaths?"
   ]
  },
  {
   "cell_type": "markdown",
   "metadata": {},
   "source": [
    "<hr style=\"border:1px solid black\"> </hr>"
   ]
  },
  {
   "cell_type": "markdown",
   "metadata": {},
   "source": [
    "## Executive Summary"
   ]
  },
  {
   "cell_type": "markdown",
   "metadata": {},
   "source": [
    "- There is not a single indicator of what causes drug related deaths.\n",
    "- OLS model performed best. Outperforming baseline, LassoLars and TweedieRegressor models"
   ]
  },
  {
   "cell_type": "markdown",
   "metadata": {},
   "source": [
    "|Model                                | rmse_train   | rmse_validate  | r^2\n",
    "|-------------------------------------|--------------|----------------|---------\n",
    "|mean_baseline                        | 12.240       | 12.536         | 0.000\n",
    "|OLS                                  | 12.119       | 12.381         | 0.024\n",
    "|LassoLars (alpha 2)                  | 12.240       | 12.536         | 0.000\n",
    "|TweedieRegressor (power 1, alpha 2)  | 12.121       | 12.384         | 0.024\n"
   ]
  },
  {
   "cell_type": "markdown",
   "metadata": {},
   "source": [
    "<hr style=\"border:3px solid black\"> </hr>"
   ]
  },
  {
   "cell_type": "markdown",
   "metadata": {},
   "source": [
    "# Imports"
   ]
  },
  {
   "cell_type": "code",
   "execution_count": 1,
   "metadata": {},
   "outputs": [],
   "source": [
    "import pandas as pd\n",
    "import numpy as np\n",
    "from scipy import stats\n",
    "\n",
    "#visualization\n",
    "import matplotlib.pyplot as plt\n",
    "import seaborn as sns\n",
    "\n",
    "#custom modules\n",
    "import acquire\n",
    "import prepare\n",
    "\n",
    "#ignore warnings\n",
    "import warnings\n",
    "warnings.filterwarnings(\"ignore\")\n",
    "\n",
    "#from sklearn.feature_selection import RFE, SelectKBest, f_regression\n",
    "from sklearn.linear_model import LinearRegression, TweedieRegressor, LassoLars\n",
    "from sklearn.metrics import mean_squared_error, explained_variance_score"
   ]
  },
  {
   "cell_type": "markdown",
   "metadata": {},
   "source": [
    "<hr style=\"border:2px solid black\"> </hr>"
   ]
  },
  {
   "cell_type": "markdown",
   "metadata": {},
   "source": [
    "# Acquire"
   ]
  },
  {
   "cell_type": "code",
   "execution_count": 2,
   "metadata": {},
   "outputs": [],
   "source": [
    "#function from acquire.py\n",
    "df = acquire.od_deaths_df()"
   ]
  },
  {
   "cell_type": "code",
   "execution_count": 3,
   "metadata": {},
   "outputs": [
    {
     "data": {
      "text/html": [
       "<div>\n",
       "<style scoped>\n",
       "    .dataframe tbody tr th:only-of-type {\n",
       "        vertical-align: middle;\n",
       "    }\n",
       "\n",
       "    .dataframe tbody tr th {\n",
       "        vertical-align: top;\n",
       "    }\n",
       "\n",
       "    .dataframe thead th {\n",
       "        text-align: right;\n",
       "    }\n",
       "</style>\n",
       "<table border=\"1\" class=\"dataframe\">\n",
       "  <thead>\n",
       "    <tr style=\"text-align: right;\">\n",
       "      <th></th>\n",
       "      <th>Unnamed: 0</th>\n",
       "      <th>ID</th>\n",
       "      <th>Date</th>\n",
       "      <th>DateType</th>\n",
       "      <th>Age</th>\n",
       "      <th>Sex</th>\n",
       "      <th>Race</th>\n",
       "      <th>ResidenceCity</th>\n",
       "      <th>ResidenceCounty</th>\n",
       "      <th>ResidenceState</th>\n",
       "      <th>...</th>\n",
       "      <th>Tramad</th>\n",
       "      <th>Morphine_NotHeroin</th>\n",
       "      <th>Hydromorphone</th>\n",
       "      <th>Other</th>\n",
       "      <th>OpiateNOS</th>\n",
       "      <th>AnyOpioid</th>\n",
       "      <th>MannerofDeath</th>\n",
       "      <th>DeathCityGeo</th>\n",
       "      <th>ResidenceCityGeo</th>\n",
       "      <th>InjuryCityGeo</th>\n",
       "    </tr>\n",
       "  </thead>\n",
       "  <tbody>\n",
       "    <tr>\n",
       "      <th>0</th>\n",
       "      <td>0</td>\n",
       "      <td>14-0273</td>\n",
       "      <td>06/28/2014 12:00:00 AM</td>\n",
       "      <td>1.0</td>\n",
       "      <td>NaN</td>\n",
       "      <td>NaN</td>\n",
       "      <td>NaN</td>\n",
       "      <td>NaN</td>\n",
       "      <td>NaN</td>\n",
       "      <td>NaN</td>\n",
       "      <td>...</td>\n",
       "      <td>0</td>\n",
       "      <td>0</td>\n",
       "      <td>0</td>\n",
       "      <td>NaN</td>\n",
       "      <td>0</td>\n",
       "      <td>0</td>\n",
       "      <td>Accident</td>\n",
       "      <td>CT\\n(41.575155, -72.738288)</td>\n",
       "      <td>CT\\n(41.575155, -72.738288)</td>\n",
       "      <td>CT\\n(41.575155, -72.738288)</td>\n",
       "    </tr>\n",
       "    <tr>\n",
       "      <th>1</th>\n",
       "      <td>1</td>\n",
       "      <td>13-0102</td>\n",
       "      <td>03/21/2013 12:00:00 AM</td>\n",
       "      <td>0.0</td>\n",
       "      <td>48.0</td>\n",
       "      <td>Male</td>\n",
       "      <td>Black</td>\n",
       "      <td>NORWALK</td>\n",
       "      <td>NaN</td>\n",
       "      <td>NaN</td>\n",
       "      <td>...</td>\n",
       "      <td>0</td>\n",
       "      <td>0</td>\n",
       "      <td>0</td>\n",
       "      <td>NaN</td>\n",
       "      <td>0</td>\n",
       "      <td>0</td>\n",
       "      <td>Accident</td>\n",
       "      <td>Norwalk, CT\\n(41.11805, -73.412906)</td>\n",
       "      <td>NORWALK, CT\\n(41.11805, -73.412906)</td>\n",
       "      <td>CT\\n(41.575155, -72.738288)</td>\n",
       "    </tr>\n",
       "    <tr>\n",
       "      <th>2</th>\n",
       "      <td>2</td>\n",
       "      <td>16-0165</td>\n",
       "      <td>03/13/2016 12:00:00 AM</td>\n",
       "      <td>0.0</td>\n",
       "      <td>30.0</td>\n",
       "      <td>Female</td>\n",
       "      <td>White</td>\n",
       "      <td>SANDY HOOK</td>\n",
       "      <td>FAIRFIELD</td>\n",
       "      <td>CT</td>\n",
       "      <td>...</td>\n",
       "      <td>0</td>\n",
       "      <td>0</td>\n",
       "      <td>0</td>\n",
       "      <td>NaN</td>\n",
       "      <td>0</td>\n",
       "      <td>1</td>\n",
       "      <td>Accident</td>\n",
       "      <td>Danbury, CT\\n(41.393666, -73.451539)</td>\n",
       "      <td>SANDY HOOK, CT\\n(41.419998, -73.282501)</td>\n",
       "      <td>NaN</td>\n",
       "    </tr>\n",
       "    <tr>\n",
       "      <th>3</th>\n",
       "      <td>3</td>\n",
       "      <td>16-0208</td>\n",
       "      <td>03/31/2016 12:00:00 AM</td>\n",
       "      <td>0.0</td>\n",
       "      <td>23.0</td>\n",
       "      <td>Male</td>\n",
       "      <td>White</td>\n",
       "      <td>RYE</td>\n",
       "      <td>WESTCHESTER</td>\n",
       "      <td>NY</td>\n",
       "      <td>...</td>\n",
       "      <td>0</td>\n",
       "      <td>0</td>\n",
       "      <td>0</td>\n",
       "      <td>NaN</td>\n",
       "      <td>0</td>\n",
       "      <td>1</td>\n",
       "      <td>Accident</td>\n",
       "      <td>Greenwich, CT\\n(41.026526, -73.628549)</td>\n",
       "      <td>NaN</td>\n",
       "      <td>NaN</td>\n",
       "    </tr>\n",
       "    <tr>\n",
       "      <th>4</th>\n",
       "      <td>4</td>\n",
       "      <td>13-0052</td>\n",
       "      <td>02/13/2013 12:00:00 AM</td>\n",
       "      <td>0.0</td>\n",
       "      <td>22.0</td>\n",
       "      <td>Male</td>\n",
       "      <td>Asian, Other</td>\n",
       "      <td>FLUSHING</td>\n",
       "      <td>QUEENS</td>\n",
       "      <td>NaN</td>\n",
       "      <td>...</td>\n",
       "      <td>0</td>\n",
       "      <td>0</td>\n",
       "      <td>0</td>\n",
       "      <td>NaN</td>\n",
       "      <td>0</td>\n",
       "      <td>0</td>\n",
       "      <td>Accident</td>\n",
       "      <td>Greenwich, CT\\n(41.026526, -73.628549)</td>\n",
       "      <td>NaN</td>\n",
       "      <td>CT\\n(41.575155, -72.738288)</td>\n",
       "    </tr>\n",
       "  </tbody>\n",
       "</table>\n",
       "<p>5 rows × 42 columns</p>\n",
       "</div>"
      ],
      "text/plain": [
       "   Unnamed: 0       ID                    Date  DateType   Age     Sex  \\\n",
       "0           0  14-0273  06/28/2014 12:00:00 AM       1.0   NaN     NaN   \n",
       "1           1  13-0102  03/21/2013 12:00:00 AM       0.0  48.0    Male   \n",
       "2           2  16-0165  03/13/2016 12:00:00 AM       0.0  30.0  Female   \n",
       "3           3  16-0208  03/31/2016 12:00:00 AM       0.0  23.0    Male   \n",
       "4           4  13-0052  02/13/2013 12:00:00 AM       0.0  22.0    Male   \n",
       "\n",
       "           Race ResidenceCity ResidenceCounty ResidenceState  ... Tramad  \\\n",
       "0           NaN           NaN             NaN            NaN  ...      0   \n",
       "1         Black       NORWALK             NaN            NaN  ...      0   \n",
       "2         White    SANDY HOOK       FAIRFIELD             CT  ...      0   \n",
       "3         White           RYE     WESTCHESTER             NY  ...      0   \n",
       "4  Asian, Other      FLUSHING          QUEENS            NaN  ...      0   \n",
       "\n",
       "  Morphine_NotHeroin Hydromorphone Other OpiateNOS AnyOpioid MannerofDeath  \\\n",
       "0                  0             0   NaN         0         0      Accident   \n",
       "1                  0             0   NaN         0         0      Accident   \n",
       "2                  0             0   NaN         0         1      Accident   \n",
       "3                  0             0   NaN         0         1      Accident   \n",
       "4                  0             0   NaN         0         0      Accident   \n",
       "\n",
       "                             DeathCityGeo  \\\n",
       "0             CT\\n(41.575155, -72.738288)   \n",
       "1     Norwalk, CT\\n(41.11805, -73.412906)   \n",
       "2    Danbury, CT\\n(41.393666, -73.451539)   \n",
       "3  Greenwich, CT\\n(41.026526, -73.628549)   \n",
       "4  Greenwich, CT\\n(41.026526, -73.628549)   \n",
       "\n",
       "                          ResidenceCityGeo                InjuryCityGeo  \n",
       "0              CT\\n(41.575155, -72.738288)  CT\\n(41.575155, -72.738288)  \n",
       "1      NORWALK, CT\\n(41.11805, -73.412906)  CT\\n(41.575155, -72.738288)  \n",
       "2  SANDY HOOK, CT\\n(41.419998, -73.282501)                          NaN  \n",
       "3                                      NaN                          NaN  \n",
       "4                                      NaN  CT\\n(41.575155, -72.738288)  \n",
       "\n",
       "[5 rows x 42 columns]"
      ]
     },
     "execution_count": 3,
     "metadata": {},
     "output_type": "execute_result"
    }
   ],
   "source": [
    "df.head()"
   ]
  },
  {
   "cell_type": "code",
   "execution_count": 4,
   "metadata": {},
   "outputs": [
    {
     "name": "stdout",
     "output_type": "stream",
     "text": [
      "<class 'pandas.core.frame.DataFrame'>\n",
      "RangeIndex: 5105 entries, 0 to 5104\n",
      "Data columns (total 42 columns):\n",
      " #   Column               Non-Null Count  Dtype  \n",
      "---  ------               --------------  -----  \n",
      " 0   Unnamed: 0           5105 non-null   int64  \n",
      " 1   ID                   5105 non-null   object \n",
      " 2   Date                 5103 non-null   object \n",
      " 3   DateType             5103 non-null   float64\n",
      " 4   Age                  5102 non-null   float64\n",
      " 5   Sex                  5099 non-null   object \n",
      " 6   Race                 5092 non-null   object \n",
      " 7   ResidenceCity        4932 non-null   object \n",
      " 8   ResidenceCounty      4308 non-null   object \n",
      " 9   ResidenceState       3556 non-null   object \n",
      " 10  DeathCity            5100 non-null   object \n",
      " 11  DeathCounty          4005 non-null   object \n",
      " 12  Location             5081 non-null   object \n",
      " 13  LocationifOther      590 non-null    object \n",
      " 14  DescriptionofInjury  4325 non-null   object \n",
      " 15  InjuryPlace          5039 non-null   object \n",
      " 16  InjuryCity           3349 non-null   object \n",
      " 17  InjuryCounty         2364 non-null   object \n",
      " 18  InjuryState          1424 non-null   object \n",
      " 19  COD                  5105 non-null   object \n",
      " 20  OtherSignifican      169 non-null    object \n",
      " 21  Heroin               5105 non-null   int64  \n",
      " 22  Cocaine              5105 non-null   int64  \n",
      " 23  Fentanyl             5105 non-null   object \n",
      " 24  Fentanyl_Analogue    5105 non-null   float64\n",
      " 25  Oxycodone            5105 non-null   int64  \n",
      " 26  Oxymorphone          5105 non-null   int64  \n",
      " 27  Ethanol              5105 non-null   int64  \n",
      " 28  Hydrocodone          5105 non-null   int64  \n",
      " 29  Benzodiazepine       5105 non-null   int64  \n",
      " 30  Methadone            5105 non-null   int64  \n",
      " 31  Amphet               5105 non-null   int64  \n",
      " 32  Tramad               5105 non-null   int64  \n",
      " 33  Morphine_NotHeroin   5105 non-null   object \n",
      " 34  Hydromorphone        5105 non-null   int64  \n",
      " 35  Other                435 non-null    object \n",
      " 36  OpiateNOS            5105 non-null   int64  \n",
      " 37  AnyOpioid            5105 non-null   object \n",
      " 38  MannerofDeath        5095 non-null   object \n",
      " 39  DeathCityGeo         5105 non-null   object \n",
      " 40  ResidenceCityGeo     5012 non-null   object \n",
      " 41  InjuryCityGeo        5027 non-null   object \n",
      "dtypes: float64(3), int64(13), object(26)\n",
      "memory usage: 1.6+ MB\n"
     ]
    }
   ],
   "source": [
    "df.info()"
   ]
  },
  {
   "cell_type": "markdown",
   "metadata": {},
   "source": [
    "### Takeaways from Acquire:\n",
    "- imported the csv into Pandas and created a dataframe\n",
    "- original dataframe contains:\n",
    "    - 41 columns \n",
    "        - multiple data types\n",
    "    - 5105 entries\n",
    "- will likely need to:\n",
    "    - drop some columns\n",
    "    - rename columns\n",
    "    - change data types\n",
    "- dummies already appear to have been created\n",
    "- contains many nulls"
   ]
  },
  {
   "cell_type": "markdown",
   "metadata": {},
   "source": [
    "<hr style=\"border:2px solid black\"> </hr>"
   ]
  },
  {
   "cell_type": "markdown",
   "metadata": {},
   "source": [
    "# Prepare"
   ]
  },
  {
   "cell_type": "code",
   "execution_count": 5,
   "metadata": {},
   "outputs": [
    {
     "data": {
      "text/plain": [
       "Unnamed: 0                0\n",
       "ID                        0\n",
       "Date                      2\n",
       "DateType                  2\n",
       "Age                       3\n",
       "Sex                       6\n",
       "Race                     13\n",
       "ResidenceCity           173\n",
       "ResidenceCounty         797\n",
       "ResidenceState         1549\n",
       "DeathCity                 5\n",
       "DeathCounty            1100\n",
       "Location                 24\n",
       "LocationifOther        4515\n",
       "DescriptionofInjury     780\n",
       "InjuryPlace              66\n",
       "InjuryCity             1756\n",
       "InjuryCounty           2741\n",
       "InjuryState            3681\n",
       "COD                       0\n",
       "OtherSignifican        4936\n",
       "Heroin                    0\n",
       "Cocaine                   0\n",
       "Fentanyl                  0\n",
       "Fentanyl_Analogue         0\n",
       "Oxycodone                 0\n",
       "Oxymorphone               0\n",
       "Ethanol                   0\n",
       "Hydrocodone               0\n",
       "Benzodiazepine            0\n",
       "Methadone                 0\n",
       "Amphet                    0\n",
       "Tramad                    0\n",
       "Morphine_NotHeroin        0\n",
       "Hydromorphone             0\n",
       "Other                  4670\n",
       "OpiateNOS                 0\n",
       "AnyOpioid                 0\n",
       "MannerofDeath            10\n",
       "DeathCityGeo              0\n",
       "ResidenceCityGeo         93\n",
       "InjuryCityGeo            78\n",
       "dtype: int64"
      ]
     },
     "execution_count": 5,
     "metadata": {},
     "output_type": "execute_result"
    }
   ],
   "source": [
    "#look into nulls\n",
    "df.isnull().sum()"
   ]
  },
  {
   "cell_type": "code",
   "execution_count": 6,
   "metadata": {},
   "outputs": [
    {
     "data": {
      "text/plain": [
       "Accident    5066\n",
       "Pending       14\n",
       "accident      13\n",
       "Natural        1\n",
       "ACCIDENT       1\n",
       "Name: MannerofDeath, dtype: int64"
      ]
     },
     "execution_count": 6,
     "metadata": {},
     "output_type": "execute_result"
    }
   ],
   "source": [
    "#look into variations of manner of death\n",
    "df.MannerofDeath.value_counts()"
   ]
  },
  {
   "cell_type": "code",
   "execution_count": 7,
   "metadata": {},
   "outputs": [
    {
     "data": {
      "text/plain": [
       "White                     4004\n",
       "Hispanic, White            561\n",
       "Black                      433\n",
       "Hispanic, Black             24\n",
       "Unknown                     23\n",
       "Asian, Other                18\n",
       "Asian Indian                14\n",
       "Other                       11\n",
       "Chinese                      2\n",
       "Hawaiian                     1\n",
       "Native American, Other       1\n",
       "Name: Race, dtype: int64"
      ]
     },
     "execution_count": 7,
     "metadata": {},
     "output_type": "execute_result"
    }
   ],
   "source": [
    "#look into Race combinations being represented\n",
    "df.Race.value_counts()"
   ]
  },
  {
   "cell_type": "code",
   "execution_count": 8,
   "metadata": {},
   "outputs": [],
   "source": [
    "df = prepare.prep_set(df)"
   ]
  },
  {
   "cell_type": "code",
   "execution_count": 9,
   "metadata": {
    "scrolled": true
   },
   "outputs": [
    {
     "data": {
      "text/html": [
       "<div>\n",
       "<style scoped>\n",
       "    .dataframe tbody tr th:only-of-type {\n",
       "        vertical-align: middle;\n",
       "    }\n",
       "\n",
       "    .dataframe tbody tr th {\n",
       "        vertical-align: top;\n",
       "    }\n",
       "\n",
       "    .dataframe thead th {\n",
       "        text-align: right;\n",
       "    }\n",
       "</style>\n",
       "<table border=\"1\" class=\"dataframe\">\n",
       "  <thead>\n",
       "    <tr style=\"text-align: right;\">\n",
       "      <th></th>\n",
       "      <th>Date</th>\n",
       "      <th>Age</th>\n",
       "      <th>Sex</th>\n",
       "      <th>Race</th>\n",
       "      <th>ResidenceCity</th>\n",
       "      <th>DeathCity</th>\n",
       "      <th>Location</th>\n",
       "      <th>DescriptionofInjury</th>\n",
       "      <th>InjuryPlace</th>\n",
       "      <th>COD</th>\n",
       "      <th>...</th>\n",
       "      <th>Morphine_NotHeroin</th>\n",
       "      <th>Hydromorphone</th>\n",
       "      <th>OpiateNOS</th>\n",
       "      <th>AnyOpioid</th>\n",
       "      <th>MannerofDeath</th>\n",
       "      <th>Black</th>\n",
       "      <th>Hispanic</th>\n",
       "      <th>Other</th>\n",
       "      <th>Unknown</th>\n",
       "      <th>White</th>\n",
       "    </tr>\n",
       "  </thead>\n",
       "  <tbody>\n",
       "    <tr>\n",
       "      <th>0</th>\n",
       "      <td>06/28/2014 12:00:00 AM</td>\n",
       "      <td>41</td>\n",
       "      <td>Male</td>\n",
       "      <td>White</td>\n",
       "      <td>HARTFORD</td>\n",
       "      <td>HARTFORD</td>\n",
       "      <td>Residence</td>\n",
       "      <td>substance</td>\n",
       "      <td>Residence</td>\n",
       "      <td>Acute fent, hydrocod, benzodiazepine</td>\n",
       "      <td>...</td>\n",
       "      <td>0</td>\n",
       "      <td>0</td>\n",
       "      <td>0</td>\n",
       "      <td>0</td>\n",
       "      <td>Accident</td>\n",
       "      <td>0</td>\n",
       "      <td>0</td>\n",
       "      <td>0</td>\n",
       "      <td>0</td>\n",
       "      <td>1</td>\n",
       "    </tr>\n",
       "    <tr>\n",
       "      <th>1</th>\n",
       "      <td>03/21/2013 12:00:00 AM</td>\n",
       "      <td>48</td>\n",
       "      <td>Male</td>\n",
       "      <td>Black</td>\n",
       "      <td>NORWALK</td>\n",
       "      <td>NORWALK</td>\n",
       "      <td>Hospital</td>\n",
       "      <td>Substance Abuse</td>\n",
       "      <td>Residence</td>\n",
       "      <td>Cocaine Intoxication</td>\n",
       "      <td>...</td>\n",
       "      <td>0</td>\n",
       "      <td>0</td>\n",
       "      <td>0</td>\n",
       "      <td>0</td>\n",
       "      <td>Accident</td>\n",
       "      <td>1</td>\n",
       "      <td>0</td>\n",
       "      <td>0</td>\n",
       "      <td>0</td>\n",
       "      <td>0</td>\n",
       "    </tr>\n",
       "    <tr>\n",
       "      <th>2</th>\n",
       "      <td>03/13/2016 12:00:00 AM</td>\n",
       "      <td>30</td>\n",
       "      <td>Female</td>\n",
       "      <td>White</td>\n",
       "      <td>SANDY HOOK</td>\n",
       "      <td>DANBURY</td>\n",
       "      <td>Hospital</td>\n",
       "      <td>Substance Abuse</td>\n",
       "      <td>Unknown</td>\n",
       "      <td>Acute Heroin and Cocaine Intoxication</td>\n",
       "      <td>...</td>\n",
       "      <td>0</td>\n",
       "      <td>0</td>\n",
       "      <td>0</td>\n",
       "      <td>1</td>\n",
       "      <td>Accident</td>\n",
       "      <td>0</td>\n",
       "      <td>0</td>\n",
       "      <td>0</td>\n",
       "      <td>0</td>\n",
       "      <td>1</td>\n",
       "    </tr>\n",
       "    <tr>\n",
       "      <th>3</th>\n",
       "      <td>03/31/2016 12:00:00 AM</td>\n",
       "      <td>23</td>\n",
       "      <td>Male</td>\n",
       "      <td>White</td>\n",
       "      <td>RYE</td>\n",
       "      <td>GREENWICH</td>\n",
       "      <td>Hospital</td>\n",
       "      <td>substance abuse</td>\n",
       "      <td>Residence</td>\n",
       "      <td>Acute Fentanyl and Morphine Intoxication</td>\n",
       "      <td>...</td>\n",
       "      <td>0</td>\n",
       "      <td>0</td>\n",
       "      <td>0</td>\n",
       "      <td>1</td>\n",
       "      <td>Accident</td>\n",
       "      <td>0</td>\n",
       "      <td>0</td>\n",
       "      <td>0</td>\n",
       "      <td>0</td>\n",
       "      <td>1</td>\n",
       "    </tr>\n",
       "    <tr>\n",
       "      <th>4</th>\n",
       "      <td>02/13/2013 12:00:00 AM</td>\n",
       "      <td>22</td>\n",
       "      <td>Male</td>\n",
       "      <td>Other</td>\n",
       "      <td>FLUSHING</td>\n",
       "      <td>GREENWICH</td>\n",
       "      <td>Hospital</td>\n",
       "      <td>Transdermal Absorption</td>\n",
       "      <td>Other</td>\n",
       "      <td>Fentanyl Intoxication</td>\n",
       "      <td>...</td>\n",
       "      <td>0</td>\n",
       "      <td>0</td>\n",
       "      <td>0</td>\n",
       "      <td>0</td>\n",
       "      <td>Accident</td>\n",
       "      <td>0</td>\n",
       "      <td>0</td>\n",
       "      <td>1</td>\n",
       "      <td>0</td>\n",
       "      <td>0</td>\n",
       "    </tr>\n",
       "  </tbody>\n",
       "</table>\n",
       "<p>5 rows × 32 columns</p>\n",
       "</div>"
      ],
      "text/plain": [
       "                     Date  Age     Sex   Race ResidenceCity  DeathCity  \\\n",
       "0  06/28/2014 12:00:00 AM   41    Male  White      HARTFORD   HARTFORD   \n",
       "1  03/21/2013 12:00:00 AM   48    Male  Black       NORWALK    NORWALK   \n",
       "2  03/13/2016 12:00:00 AM   30  Female  White    SANDY HOOK    DANBURY   \n",
       "3  03/31/2016 12:00:00 AM   23    Male  White           RYE  GREENWICH   \n",
       "4  02/13/2013 12:00:00 AM   22    Male  Other      FLUSHING  GREENWICH   \n",
       "\n",
       "    Location     DescriptionofInjury InjuryPlace  \\\n",
       "0  Residence               substance   Residence   \n",
       "1   Hospital         Substance Abuse   Residence   \n",
       "2   Hospital         Substance Abuse     Unknown   \n",
       "3   Hospital         substance abuse   Residence   \n",
       "4   Hospital  Transdermal Absorption       Other   \n",
       "\n",
       "                                        COD  ...  Morphine_NotHeroin  \\\n",
       "0      Acute fent, hydrocod, benzodiazepine  ...                   0   \n",
       "1                      Cocaine Intoxication  ...                   0   \n",
       "2     Acute Heroin and Cocaine Intoxication  ...                   0   \n",
       "3  Acute Fentanyl and Morphine Intoxication  ...                   0   \n",
       "4                     Fentanyl Intoxication  ...                   0   \n",
       "\n",
       "   Hydromorphone OpiateNOS  AnyOpioid  MannerofDeath  Black  Hispanic  Other  \\\n",
       "0              0         0          0       Accident      0         0      0   \n",
       "1              0         0          0       Accident      1         0      0   \n",
       "2              0         0          1       Accident      0         0      0   \n",
       "3              0         0          1       Accident      0         0      0   \n",
       "4              0         0          0       Accident      0         0      1   \n",
       "\n",
       "   Unknown  White  \n",
       "0        0      1  \n",
       "1        0      0  \n",
       "2        0      1  \n",
       "3        0      1  \n",
       "4        0      0  \n",
       "\n",
       "[5 rows x 32 columns]"
      ]
     },
     "execution_count": 9,
     "metadata": {},
     "output_type": "execute_result"
    }
   ],
   "source": [
    "df.head()"
   ]
  },
  {
   "cell_type": "code",
   "execution_count": 10,
   "metadata": {},
   "outputs": [
    {
     "data": {
      "text/plain": [
       "Date                   0\n",
       "Age                    0\n",
       "Sex                    0\n",
       "Race                   0\n",
       "ResidenceCity          0\n",
       "DeathCity              0\n",
       "Location               0\n",
       "DescriptionofInjury    0\n",
       "InjuryPlace            0\n",
       "COD                    0\n",
       "Heroin                 0\n",
       "Cocaine                0\n",
       "Fentanyl               0\n",
       "Fentanyl_Analogue      0\n",
       "Oxycodone              0\n",
       "Oxymorphone            0\n",
       "Ethanol                0\n",
       "Hydrocodone            0\n",
       "Benzodiazepine         0\n",
       "Methadone              0\n",
       "Amphet                 0\n",
       "Tramad                 0\n",
       "Morphine_NotHeroin     0\n",
       "Hydromorphone          0\n",
       "OpiateNOS              0\n",
       "AnyOpioid              0\n",
       "MannerofDeath          0\n",
       "Black                  0\n",
       "Hispanic               0\n",
       "Other                  0\n",
       "Unknown                0\n",
       "White                  0\n",
       "dtype: int64"
      ]
     },
     "execution_count": 10,
     "metadata": {},
     "output_type": "execute_result"
    }
   ],
   "source": [
    "#prep_set function from prepare.py\n",
    "#filled all nulls and dropped unneccessary columns\n",
    "df.isnull().sum()"
   ]
  },
  {
   "cell_type": "code",
   "execution_count": 11,
   "metadata": {},
   "outputs": [
    {
     "data": {
      "text/plain": [
       "Accident    5090\n",
       "Pending       14\n",
       "Natural        1\n",
       "Name: MannerofDeath, dtype: int64"
      ]
     },
     "execution_count": 11,
     "metadata": {},
     "output_type": "execute_result"
    }
   ],
   "source": [
    "#prep_set function from prepare.py made results more uniform\n",
    "df.MannerofDeath.value_counts()"
   ]
  },
  {
   "cell_type": "code",
   "execution_count": 12,
   "metadata": {},
   "outputs": [
    {
     "data": {
      "text/plain": [
       "White       4017\n",
       "Hispanic     585\n",
       "Black        433\n",
       "Other         47\n",
       "Unknown       23\n",
       "Name: Race, dtype: int64"
      ]
     },
     "execution_count": 12,
     "metadata": {},
     "output_type": "execute_result"
    }
   ],
   "source": [
    "#prep_set function from prepare.py corrected Race choices into most common\n",
    "df.Race.value_counts()"
   ]
  },
  {
   "cell_type": "code",
   "execution_count": 13,
   "metadata": {},
   "outputs": [
    {
     "name": "stdout",
     "output_type": "stream",
     "text": [
      "train -> (2858, 32)\n",
      "validate -> (1226, 32)\n",
      "test -> (1021, 32)\n"
     ]
    }
   ],
   "source": [
    "#split data using od_deaths_split function from prepare file\n",
    "train, validate, test, X_train, y_train, X_validate, y_validate, X_test, y_test = prepare.od_deaths_split(df, 'Age')"
   ]
  },
  {
   "cell_type": "markdown",
   "metadata": {},
   "source": [
    "### Takeaways from Prepare:\n",
    "\n",
    "- Created a function (prep_set) that did the following:  \n",
    "    - dropped several columns with high null value \n",
    "        - were not significant if only had ~10% of data\n",
    "    - filled null values by imputing\n",
    "        - using mean and most frequent\n",
    "    - changed data for uniformity in Manner of Death\n",
    "    - corrected options for 'Race' so that it would not be so vast\n",
    "    - changed data type in 'Age' from float to integer\n",
    "    - created dummy columns for race\n",
    "    \n",
    "<br>\n",
    "\n",
    "- Created a function to split data \n",
    "    - split data into train, validate, test using Age as the target\n",
    "    - prints out shape of all three sets\n",
    "   \n",
    "<br>\n",
    "\n",
    "- Final DataFrame ended up with:\n",
    "    - 5105 entries\n",
    "    - 32 columns\n",
    "        - all with int64 and object datatypes"
   ]
  },
  {
   "cell_type": "markdown",
   "metadata": {},
   "source": [
    "<hr style=\"border:2px solid black\"> </hr>"
   ]
  },
  {
   "cell_type": "markdown",
   "metadata": {},
   "source": [
    "# Explore"
   ]
  },
  {
   "cell_type": "markdown",
   "metadata": {},
   "source": [
    "### Univariate Exploration"
   ]
  },
  {
   "cell_type": "code",
   "execution_count": 14,
   "metadata": {},
   "outputs": [
    {
     "data": {
      "image/png": "[encoded data removed]",
      "text/plain": [
       "<Figure size 432x288 with 1 Axes>"
      ]
     },
     "metadata": {
      "needs_background": "light"
     },
     "output_type": "display_data"
    },
    {
     "data": {
      "image/png": "[encoded data removed]",
      "text/plain": [
       "<Figure size 432x288 with 1 Axes>"
      ]
     },
     "metadata": {
      "needs_background": "light"
     },
     "output_type": "display_data"
    },
    {
     "data": {
      "image/png": "[encoded data removed]",
      "text/plain": [
       "<Figure size 432x288 with 1 Axes>"
      ]
     },
     "metadata": {
      "needs_background": "light"
     },
     "output_type": "display_data"
    },
    {
     "data": {
      "image/png": "[encoded data removed]",
      "text/plain": [
       "<Figure size 432x288 with 1 Axes>"
      ]
     },
     "metadata": {
      "needs_background": "light"
     },
     "output_type": "display_data"
    },
    {
     "data": {
      "image/png": "[encoded data removed]",
      "text/plain": [
       "<Figure size 432x288 with 1 Axes>"
      ]
     },
     "metadata": {
      "needs_background": "light"
     },
     "output_type": "display_data"
    },
    {
     "data": {
      "image/png": "[encoded data removed]",
      "text/plain": [
       "<Figure size 432x288 with 1 Axes>"
      ]
     },
     "metadata": {
      "needs_background": "light"
     },
     "output_type": "display_data"
    },
    {
     "data": {
      "image/png": "[encoded data removed]",
      "text/plain": [
       "<Figure size 432x288 with 1 Axes>"
      ]
     },
     "metadata": {
      "needs_background": "light"
     },
     "output_type": "display_data"
    },
    {
     "data": {
      "image/png": "[encoded data removed]",
      "text/plain": [
       "<Figure size 432x288 with 1 Axes>"
      ]
     },
     "metadata": {
      "needs_background": "light"
     },
     "output_type": "display_data"
    },
    {
     "data": {
      "image/png": "[encoded data removed]",
      "text/plain": [
       "<Figure size 432x288 with 1 Axes>"
      ]
     },
     "metadata": {
      "needs_background": "light"
     },
     "output_type": "display_data"
    },
    {
     "data": {
      "image/png": "[encoded data removed]",
      "text/plain": [
       "<Figure size 432x288 with 1 Axes>"
      ]
     },
     "metadata": {
      "needs_background": "light"
     },
     "output_type": "display_data"
    },
    {
     "data": {
      "image/png": "[encoded data removed]",
      "text/plain": [
       "<Figure size 432x288 with 1 Axes>"
      ]
     },
     "metadata": {
      "needs_background": "light"
     },
     "output_type": "display_data"
    },
    {
     "data": {
      "image/png": "[encoded data removed]",
      "text/plain": [
       "<Figure size 432x288 with 1 Axes>"
      ]
     },
     "metadata": {
      "needs_background": "light"
     },
     "output_type": "display_data"
    },
    {
     "data": {
      "image/png": "[encoded data removed]",
      "text/plain": [
       "<Figure size 432x288 with 1 Axes>"
      ]
     },
     "metadata": {
      "needs_background": "light"
     },
     "output_type": "display_data"
    },
    {
     "data": {
      "image/png": "[encoded data removed]",
      "text/plain": [
       "<Figure size 432x288 with 1 Axes>"
      ]
     },
     "metadata": {
      "needs_background": "light"
     },
     "output_type": "display_data"
    },
    {
     "data": {
      "image/png": "[encoded data removed]",
      "text/plain": [
       "<Figure size 432x288 with 1 Axes>"
      ]
     },
     "metadata": {
      "needs_background": "light"
     },
     "output_type": "display_data"
    },
    {
     "data": {
      "image/png": "[encoded data removed]",
      "text/plain": [
       "<Figure size 432x288 with 1 Axes>"
      ]
     },
     "metadata": {
      "needs_background": "light"
     },
     "output_type": "display_data"
    },
    {
     "data": {
      "image/png": "[encoded data removed]",
      "text/plain": [
       "<Figure size 432x288 with 1 Axes>"
      ]
     },
     "metadata": {
      "needs_background": "light"
     },
     "output_type": "display_data"
    },
    {
     "data": {
      "image/png": "[encoded data removed]",
      "text/plain": [
       "<Figure size 432x288 with 1 Axes>"
      ]
     },
     "metadata": {
      "needs_background": "light"
     },
     "output_type": "display_data"
    },
    {
     "data": {
      "image/png": "[encoded data removed]",
      "text/plain": [
       "<Figure size 432x288 with 1 Axes>"
      ]
     },
     "metadata": {
      "needs_background": "light"
     },
     "output_type": "display_data"
    },
    {
     "data": {
      "image/png": "[encoded data removed]",
      "text/plain": [
       "<Figure size 432x288 with 1 Axes>"
      ]
     },
     "metadata": {
      "needs_background": "light"
     },
     "output_type": "display_data"
    },
    {
     "data": {
      "image/png": "[encoded data removed]",
      "text/plain": [
       "<Figure size 432x288 with 1 Axes>"
      ]
     },
     "metadata": {
      "needs_background": "light"
     },
     "output_type": "display_data"
    },
    {
     "data": {
      "image/png": "[encoded data removed]",
      "text/plain": [
       "<Figure size 432x288 with 1 Axes>"
      ]
     },
     "metadata": {
      "needs_background": "light"
     },
     "output_type": "display_data"
    },
    {
     "data": {
      "image/png": "[encoded data removed]",
      "text/plain": [
       "<Figure size 432x288 with 1 Axes>"
      ]
     },
     "metadata": {
      "needs_background": "light"
     },
     "output_type": "display_data"
    },
    {
     "data": {
      "image/png": "[encoded data removed]",
      "text/plain": [
       "<Figure size 432x288 with 1 Axes>"
      ]
     },
     "metadata": {
      "needs_background": "light"
     },
     "output_type": "display_data"
    },
    {
     "data": {
      "image/png": "[encoded data removed]",
      "text/plain": [
       "<Figure size 432x288 with 1 Axes>"
      ]
     },
     "metadata": {
      "needs_background": "light"
     },
     "output_type": "display_data"
    },
    {
     "data": {
      "image/png": "[encoded data removed]",
      "text/plain": [
       "<Figure size 432x288 with 1 Axes>"
      ]
     },
     "metadata": {
      "needs_background": "light"
     },
     "output_type": "display_data"
    },
    {
     "data": {
      "image/png": "[encoded data removed]",
      "text/plain": [
       "<Figure size 432x288 with 1 Axes>"
      ]
     },
     "metadata": {
      "needs_background": "light"
     },
     "output_type": "display_data"
    },
    {
     "data": {
      "image/png": "[encoded data removed]",
      "text/plain": [
       "<Figure size 432x288 with 1 Axes>"
      ]
     },
     "metadata": {
      "needs_background": "light"
     },
     "output_type": "display_data"
    },
    {
     "data": {
      "image/png": "[encoded data removed]",
      "text/plain": [
       "<Figure size 432x288 with 1 Axes>"
      ]
     },
     "metadata": {
      "needs_background": "light"
     },
     "output_type": "display_data"
    },
    {
     "data": {
      "image/png": "[encoded data removed]",
      "text/plain": [
       "<Figure size 432x288 with 1 Axes>"
      ]
     },
     "metadata": {
      "needs_background": "light"
     },
     "output_type": "display_data"
    },
    {
     "data": {
      "image/png": "[encoded data removed]",
      "text/plain": [
       "<Figure size 432x288 with 1 Axes>"
      ]
     },
     "metadata": {
      "needs_background": "light"
     },
     "output_type": "display_data"
    },
    {
     "data": {
      "image/png": "[encoded data removed]",
      "text/plain": [
       "<Figure size 432x288 with 1 Axes>"
      ]
     },
     "metadata": {
      "needs_background": "light"
     },
     "output_type": "display_data"
    }
   ],
   "source": [
    "#visualize distribution\n",
    "for col in train.columns:\n",
    "    plt.hist(train[col])\n",
    "    plt.title(col)\n",
    "    plt.show()"
   ]
  },
  {
   "cell_type": "code",
   "execution_count": 15,
   "metadata": {},
   "outputs": [
    {
     "data": {
      "image/png": "[encoded data removed]",
      "text/plain": [
       "<Figure size 1152x432 with 4 Axes>"
      ]
     },
     "metadata": {
      "needs_background": "light"
     },
     "output_type": "display_data"
    }
   ],
   "source": [
    "#specifically plot columns of interest\n",
    "\n",
    "# Plot the distributions\n",
    "plt.figure(figsize=(16, 6))\n",
    "\n",
    "# List of columns\n",
    "cols = ['Age', 'Sex', 'Race', 'MannerofDeath']\n",
    "\n",
    "for i, col in enumerate(cols):\n",
    "\n",
    "    # i starts at 0, but plot nos should start at 1\n",
    "    plot_number = i + 1 \n",
    "\n",
    "    # Create subplot.\n",
    "    plt.subplot(1,4, plot_number)\n",
    "\n",
    "    # Title with column name.\n",
    "    plt.title(col)\n",
    "\n",
    "    # Display histogram for column.\n",
    "    df[col].hist(bins=5)\n",
    "\n",
    "    # Hide gridlines.\n",
    "    plt.grid(False)\n",
    "    \n",
    "    plt.suptitle('Distributions')\n"
   ]
  },
  {
   "cell_type": "code",
   "execution_count": 16,
   "metadata": {},
   "outputs": [
    {
     "data": {
      "image/png": "[encoded data removed]",
      "text/plain": [
       "<Figure size 720x432 with 1 Axes>"
      ]
     },
     "metadata": {
      "needs_background": "light"
     },
     "output_type": "display_data"
    }
   ],
   "source": [
    "#visualize Race data using a countplot\n",
    "plt.figure(figsize=(10,6))\n",
    "sns.countplot(x='Race', data=train)\n",
    "plt.show()"
   ]
  },
  {
   "cell_type": "markdown",
   "metadata": {},
   "source": [
    "_________________________________"
   ]
  },
  {
   "cell_type": "markdown",
   "metadata": {},
   "source": [
    "### Bivariate Exploration"
   ]
  },
  {
   "cell_type": "code",
   "execution_count": 17,
   "metadata": {},
   "outputs": [
    {
     "data": {
      "image/png": "[encoded data removed]",
      "text/plain": [
       "<Figure size 432x288 with 1 Axes>"
      ]
     },
     "metadata": {
      "needs_background": "light"
     },
     "output_type": "display_data"
    }
   ],
   "source": [
    "#plot age and race\n",
    "sns.swarmplot(x= train.Race, y = train.Age)\n",
    "plt.title('Average Age by Race')\n",
    "None"
   ]
  },
  {
   "cell_type": "code",
   "execution_count": 18,
   "metadata": {},
   "outputs": [
    {
     "data": {
      "image/png": "[encoded data removed]",
      "text/plain": [
       "<Figure size 432x720 with 2 Axes>"
      ]
     },
     "metadata": {
      "needs_background": "light"
     },
     "output_type": "display_data"
    }
   ],
   "source": [
    "#visualize correlation with Age using Heatmap\n",
    "plt.figure(figsize=(6, 10))\n",
    "heatmap = sns.heatmap(train.corr()[['Age']].sort_values(by='Age', ascending=False), vmin=-1, vmax=1, annot=True, cmap='mako_r')\n",
    "heatmap.set_title('Features Correlating with Age', fontdict={'fontsize':18}, pad=16);"
   ]
  },
  {
   "cell_type": "code",
   "execution_count": 19,
   "metadata": {},
   "outputs": [
    {
     "data": {
      "image/png": "[encoded data removed]",
      "text/plain": [
       "<Figure size 864x432 with 1 Axes>"
      ]
     },
     "metadata": {
      "needs_background": "light"
     },
     "output_type": "display_data"
    }
   ],
   "source": [
    "#visualize Age and Herion deaths data using a countplot\n",
    "plt.figure(figsize=(12,6))\n",
    "sns.countplot(x='Age', data=train, hue='Heroin')\n",
    "plt.title('Age of Overdose Deaths having used Heroin')\n",
    "plt.show()"
   ]
  },
  {
   "cell_type": "code",
   "execution_count": 20,
   "metadata": {},
   "outputs": [
    {
     "data": {
      "image/png": "[encoded data removed]",
      "text/plain": [
       "<Figure size 864x432 with 1 Axes>"
      ]
     },
     "metadata": {
      "needs_background": "light"
     },
     "output_type": "display_data"
    }
   ],
   "source": [
    "#visualize Age and Oxycodone deaths data using a countplot\n",
    "plt.figure(figsize=(12,6))\n",
    "sns.countplot(x='Age', data=train, hue='Oxycodone')\n",
    "plt.title('Age of Overdose Deaths having used Oxycodone')\n",
    "plt.show()"
   ]
  },
  {
   "cell_type": "markdown",
   "metadata": {},
   "source": [
    "______________________"
   ]
  },
  {
   "cell_type": "markdown",
   "metadata": {},
   "source": [
    "### Multivariate Exploration"
   ]
  },
  {
   "cell_type": "code",
   "execution_count": 21,
   "metadata": {},
   "outputs": [
    {
     "data": {
      "image/png": "[encoded data removed]",
      "text/plain": [
       "<Figure size 442.375x360 with 1 Axes>"
      ]
     },
     "metadata": {
      "needs_background": "light"
     },
     "output_type": "display_data"
    }
   ],
   "source": [
    "#visualize heroin deaths by age and race\n",
    "sns.lmplot(x='Heroin', y='Age', hue='Race', data=train)\n",
    "plt.title('Age of Heroin Deaths by Race')\n",
    "plt.ylabel('Age')\n",
    "plt.xlabel('Heroin Death (yes or no)')\n",
    "plt.xlim(-0.25, 1.25)\n",
    "None"
   ]
  },
  {
   "cell_type": "code",
   "execution_count": 22,
   "metadata": {
    "scrolled": true
   },
   "outputs": [
    {
     "data": {
      "image/png": "[encoded data removed]",
      "text/plain": [
       "<Figure size 445.375x360 with 1 Axes>"
      ]
     },
     "metadata": {
      "needs_background": "light"
     },
     "output_type": "display_data"
    }
   ],
   "source": [
    "#visualize heroin deaths by age and race\n",
    "sns.lmplot(x='White', y='Age', hue='MannerofDeath', data=train)\n",
    "plt.title('Age of White Race Deaths by Manner')\n",
    "plt.ylabel('Age')\n",
    "plt.xlabel('Race White (yes or no)')\n",
    "plt.xlim(-0.25, 1.25)\n",
    "None"
   ]
  },
  {
   "cell_type": "markdown",
   "metadata": {},
   "source": [
    "### Takeaways from Explore"
   ]
  },
  {
   "cell_type": "markdown",
   "metadata": {},
   "source": [
    "- Heroin, Oxycodone, Black (race) have the strongest correlation with age\n",
    "- The vast majority of drug overdose deaths appear to be among the white race in this dataset\n",
    "- Heroin deaths peak around age 33\n",
    "- Oxycodone deaths peak arond age 44\n",
    "- Hispanic race appears to have the eldest drug overdose death (age 87)\n",
    "- White race appears to have the youngest drug overdose death (age 14)"
   ]
  },
  {
   "cell_type": "markdown",
   "metadata": {},
   "source": [
    "<hr style=\"border:1px solid black\"> </hr>"
   ]
  },
  {
   "cell_type": "markdown",
   "metadata": {},
   "source": [
    "## Hypothesis Testing"
   ]
  },
  {
   "cell_type": "markdown",
   "metadata": {},
   "source": [
    "**Hypothesis 1: T-Test (continuous vs discrete)**\n",
    "- $H_0$: There is a relationship between Age and White Race drug overdose deaths\n",
    "- $H_a$: There is not a relationship between Age and With Race drug overdose deaths"
   ]
  },
  {
   "cell_type": "code",
   "execution_count": 23,
   "metadata": {},
   "outputs": [],
   "source": [
    "#set alpha\n",
    "alpha = .05"
   ]
  },
  {
   "cell_type": "code",
   "execution_count": 24,
   "metadata": {},
   "outputs": [
    {
     "data": {
      "text/plain": [
       "(2858, 2858)"
      ]
     },
     "execution_count": 24,
     "metadata": {},
     "output_type": "execute_result"
    }
   ],
   "source": [
    "#sample size, must be more then 30 to meet assumption\n",
    "train.Age.count(), train.White.count()"
   ]
  },
  {
   "cell_type": "code",
   "execution_count": 25,
   "metadata": {},
   "outputs": [
    {
     "data": {
      "text/plain": [
       "(149.8752585634879, 0.17151102481646124)"
      ]
     },
     "execution_count": 25,
     "metadata": {},
     "output_type": "execute_result"
    }
   ],
   "source": [
    "#check variance\n",
    "train.Age.var(), train.White.var()\n",
    "\n",
    "#this shows not equal varient"
   ]
  },
  {
   "cell_type": "code",
   "execution_count": 26,
   "metadata": {},
   "outputs": [
    {
     "data": {
      "text/plain": [
       "(179.4934639776462, 0.0)"
      ]
     },
     "execution_count": 26,
     "metadata": {},
     "output_type": "execute_result"
    }
   ],
   "source": [
    "#t-test on entire train set\n",
    "t, p = stats.ttest_ind(train.Age,train.White, equal_var=False)\n",
    "t,p"
   ]
  },
  {
   "cell_type": "code",
   "execution_count": 27,
   "metadata": {},
   "outputs": [
    {
     "data": {
      "text/html": [
       "<div>\n",
       "<style scoped>\n",
       "    .dataframe tbody tr th:only-of-type {\n",
       "        vertical-align: middle;\n",
       "    }\n",
       "\n",
       "    .dataframe tbody tr th {\n",
       "        vertical-align: top;\n",
       "    }\n",
       "\n",
       "    .dataframe thead th {\n",
       "        text-align: right;\n",
       "    }\n",
       "</style>\n",
       "<table border=\"1\" class=\"dataframe\">\n",
       "  <thead>\n",
       "    <tr style=\"text-align: right;\">\n",
       "      <th></th>\n",
       "      <th>Hypothesis</th>\n",
       "      <th>p-value</th>\n",
       "      <th>t-value</th>\n",
       "      <th>r-value</th>\n",
       "      <th>alpha</th>\n",
       "      <th>Result</th>\n",
       "    </tr>\n",
       "  </thead>\n",
       "  <tbody>\n",
       "    <tr>\n",
       "      <th>0</th>\n",
       "      <td>#1</td>\n",
       "      <td>0.0</td>\n",
       "      <td>179.493</td>\n",
       "      <td>N/A</td>\n",
       "      <td>0.05</td>\n",
       "      <td>fail to reject $H_o$</td>\n",
       "    </tr>\n",
       "  </tbody>\n",
       "</table>\n",
       "</div>"
      ],
      "text/plain": [
       "  Hypothesis  p-value  t-value r-value  alpha                Result\n",
       "0         #1      0.0  179.493     N/A   0.05  fail to reject $H_o$"
      ]
     },
     "execution_count": 27,
     "metadata": {},
     "output_type": "execute_result"
    }
   ],
   "source": [
    "hypothesis_df = pd.DataFrame(data=[{\n",
    "    'Hypothesis': '#1',\n",
    "    'p-value': (round(p,4)),\n",
    "    't-value': (round(t,3)),\n",
    "    'r-value': 'N/A',\n",
    "    'alpha': alpha,\n",
    "    'Result': 'fail to reject $H_o$'\n",
    "    }])\n",
    "\n",
    "hypothesis_df"
   ]
  },
  {
   "cell_type": "markdown",
   "metadata": {},
   "source": [
    "_______________________"
   ]
  },
  {
   "cell_type": "markdown",
   "metadata": {},
   "source": [
    "**Hypothesis 2: T-Test (continuous vs discrete)**\n",
    "- $H_0$: There is a relationship between Age and Oxycodone drug overdose deaths\n",
    "- $H_a$: There is not a relationship between Age and Oxycodone drug overdose deaths"
   ]
  },
  {
   "cell_type": "code",
   "execution_count": 28,
   "metadata": {},
   "outputs": [
    {
     "data": {
      "text/plain": [
       "(2858, 2858)"
      ]
     },
     "execution_count": 28,
     "metadata": {},
     "output_type": "execute_result"
    }
   ],
   "source": [
    "# sample size, must be more then 30 to meet assumption\n",
    "train.Age.count(), train.Oxycodone.count()"
   ]
  },
  {
   "cell_type": "code",
   "execution_count": 29,
   "metadata": {},
   "outputs": [
    {
     "data": {
      "text/plain": [
       "(149.8752585634879, 0.10189954914120247)"
      ]
     },
     "execution_count": 29,
     "metadata": {},
     "output_type": "execute_result"
    }
   ],
   "source": [
    "#check variance\n",
    "train.Age.var(), train.Oxycodone.var()\n",
    "\n",
    "#this shows not equal varient"
   ]
  },
  {
   "cell_type": "code",
   "execution_count": 30,
   "metadata": {},
   "outputs": [
    {
     "data": {
      "text/plain": [
       "(182.4387259159486, 0.0)"
      ]
     },
     "execution_count": 30,
     "metadata": {},
     "output_type": "execute_result"
    }
   ],
   "source": [
    "#t-test on entire train set\n",
    "t, p = stats.ttest_ind(train.Age,train.Oxycodone, equal_var=False)\n",
    "t,p"
   ]
  },
  {
   "cell_type": "code",
   "execution_count": 31,
   "metadata": {},
   "outputs": [
    {
     "data": {
      "text/html": [
       "<div>\n",
       "<style scoped>\n",
       "    .dataframe tbody tr th:only-of-type {\n",
       "        vertical-align: middle;\n",
       "    }\n",
       "\n",
       "    .dataframe tbody tr th {\n",
       "        vertical-align: top;\n",
       "    }\n",
       "\n",
       "    .dataframe thead th {\n",
       "        text-align: right;\n",
       "    }\n",
       "</style>\n",
       "<table border=\"1\" class=\"dataframe\">\n",
       "  <thead>\n",
       "    <tr style=\"text-align: right;\">\n",
       "      <th></th>\n",
       "      <th>Hypothesis</th>\n",
       "      <th>p-value</th>\n",
       "      <th>t-value</th>\n",
       "      <th>r-value</th>\n",
       "      <th>alpha</th>\n",
       "      <th>Result</th>\n",
       "    </tr>\n",
       "  </thead>\n",
       "  <tbody>\n",
       "    <tr>\n",
       "      <th>0</th>\n",
       "      <td>#1</td>\n",
       "      <td>0.0</td>\n",
       "      <td>179.4930</td>\n",
       "      <td>N/A</td>\n",
       "      <td>0.05</td>\n",
       "      <td>fail to reject $H_o$</td>\n",
       "    </tr>\n",
       "    <tr>\n",
       "      <th>1</th>\n",
       "      <td>#2</td>\n",
       "      <td>0.0</td>\n",
       "      <td>182.4387</td>\n",
       "      <td>N/A</td>\n",
       "      <td>0.05</td>\n",
       "      <td>fail to reject $H_o$</td>\n",
       "    </tr>\n",
       "  </tbody>\n",
       "</table>\n",
       "</div>"
      ],
      "text/plain": [
       "  Hypothesis  p-value   t-value r-value  alpha                Result\n",
       "0         #1      0.0  179.4930     N/A   0.05  fail to reject $H_o$\n",
       "1         #2      0.0  182.4387     N/A   0.05  fail to reject $H_o$"
      ]
     },
     "execution_count": 31,
     "metadata": {},
     "output_type": "execute_result"
    }
   ],
   "source": [
    "hypothesis_df = hypothesis_df.append(\n",
    "    {\n",
    "    'Hypothesis': '#2',\n",
    "    'p-value': (round(p,4)),\n",
    "    't-value': (round(t,4)),\n",
    "    'r-value': 'N/A',\n",
    "    'alpha': alpha,\n",
    "    'Result': 'fail to reject $H_o$'},\n",
    "    ignore_index= True\n",
    "    )\n",
    "\n",
    "hypothesis_df"
   ]
  },
  {
   "cell_type": "markdown",
   "metadata": {},
   "source": [
    "_____________________________"
   ]
  },
  {
   "cell_type": "markdown",
   "metadata": {},
   "source": [
    "**Hypothesis 3: T-Test (continuous vs discrete)**\n",
    "- $H_0$: There is a relationship between Age and Heroin drug overdose deaths\n",
    "- $H_a$: There is not a relationship between Age and Heroin drug overdose deaths"
   ]
  },
  {
   "cell_type": "code",
   "execution_count": 32,
   "metadata": {},
   "outputs": [
    {
     "data": {
      "text/plain": [
       "(2858, 2858)"
      ]
     },
     "execution_count": 32,
     "metadata": {},
     "output_type": "execute_result"
    }
   ],
   "source": [
    "# sample size, must be more then 30 to meet assumption\n",
    "train.Age.count(), train.Heroin.count()"
   ]
  },
  {
   "cell_type": "code",
   "execution_count": 33,
   "metadata": {},
   "outputs": [
    {
     "data": {
      "text/plain": [
       "(149.8752585634879, 0.25008444264060153)"
      ]
     },
     "execution_count": 33,
     "metadata": {},
     "output_type": "execute_result"
    }
   ],
   "source": [
    "#check variance\n",
    "train.Age.var(), train.Heroin.var()\n",
    "\n",
    "#this shows not equal varient"
   ]
  },
  {
   "cell_type": "code",
   "execution_count": 34,
   "metadata": {},
   "outputs": [
    {
     "data": {
      "text/plain": [
       "(180.67697239575637, 0.0)"
      ]
     },
     "execution_count": 34,
     "metadata": {},
     "output_type": "execute_result"
    }
   ],
   "source": [
    "#t-test on entire train set\n",
    "t, p = stats.ttest_ind(train.Age,train.Heroin, equal_var=False)\n",
    "t,p"
   ]
  },
  {
   "cell_type": "code",
   "execution_count": 35,
   "metadata": {},
   "outputs": [
    {
     "data": {
      "text/html": [
       "<div>\n",
       "<style scoped>\n",
       "    .dataframe tbody tr th:only-of-type {\n",
       "        vertical-align: middle;\n",
       "    }\n",
       "\n",
       "    .dataframe tbody tr th {\n",
       "        vertical-align: top;\n",
       "    }\n",
       "\n",
       "    .dataframe thead th {\n",
       "        text-align: right;\n",
       "    }\n",
       "</style>\n",
       "<table border=\"1\" class=\"dataframe\">\n",
       "  <thead>\n",
       "    <tr style=\"text-align: right;\">\n",
       "      <th></th>\n",
       "      <th>Hypothesis</th>\n",
       "      <th>p-value</th>\n",
       "      <th>t-value</th>\n",
       "      <th>r-value</th>\n",
       "      <th>alpha</th>\n",
       "      <th>Result</th>\n",
       "    </tr>\n",
       "  </thead>\n",
       "  <tbody>\n",
       "    <tr>\n",
       "      <th>0</th>\n",
       "      <td>#1</td>\n",
       "      <td>0.0</td>\n",
       "      <td>179.4930</td>\n",
       "      <td>N/A</td>\n",
       "      <td>0.05</td>\n",
       "      <td>fail to reject $H_o$</td>\n",
       "    </tr>\n",
       "    <tr>\n",
       "      <th>1</th>\n",
       "      <td>#2</td>\n",
       "      <td>0.0</td>\n",
       "      <td>182.4387</td>\n",
       "      <td>N/A</td>\n",
       "      <td>0.05</td>\n",
       "      <td>fail to reject $H_o$</td>\n",
       "    </tr>\n",
       "    <tr>\n",
       "      <th>2</th>\n",
       "      <td>#2</td>\n",
       "      <td>0.0</td>\n",
       "      <td>180.6770</td>\n",
       "      <td>N/A</td>\n",
       "      <td>0.05</td>\n",
       "      <td>fail to reject $H_o$</td>\n",
       "    </tr>\n",
       "  </tbody>\n",
       "</table>\n",
       "</div>"
      ],
      "text/plain": [
       "  Hypothesis  p-value   t-value r-value  alpha                Result\n",
       "0         #1      0.0  179.4930     N/A   0.05  fail to reject $H_o$\n",
       "1         #2      0.0  182.4387     N/A   0.05  fail to reject $H_o$\n",
       "2         #2      0.0  180.6770     N/A   0.05  fail to reject $H_o$"
      ]
     },
     "execution_count": 35,
     "metadata": {},
     "output_type": "execute_result"
    }
   ],
   "source": [
    "hypothesis_df = hypothesis_df.append(\n",
    "    {\n",
    "    'Hypothesis': '#2',\n",
    "    'p-value': (round(p,4)),\n",
    "    't-value': (round(t,4)),\n",
    "    'r-value': 'N/A',\n",
    "    'alpha': alpha,\n",
    "    'Result': 'fail to reject $H_o$'},\n",
    "    ignore_index= True\n",
    "    )\n",
    "\n",
    "hypothesis_df"
   ]
  },
  {
   "cell_type": "markdown",
   "metadata": {},
   "source": [
    "__________________________"
   ]
  },
  {
   "cell_type": "markdown",
   "metadata": {},
   "source": [
    "**Hypothesis 4: $X^2$ Test (discrete vs discrete)**\n",
    "- $H_0$: There is a relationship between Heroin and Oxycodone drug overdose deaths\n",
    "- $H_a$: There is not a relationship between Heroin and Oxycodone drug overdose deaths"
   ]
  },
  {
   "cell_type": "code",
   "execution_count": 36,
   "metadata": {},
   "outputs": [],
   "source": [
    "#pearsons correlation on entire train set\n",
    "#number of rows\n",
    "n = train.shape[0] \n",
    "\n",
    "#degrees of freedom- how much the data can vary\n",
    "deg_f = n-2 \n",
    "\n",
    "#confidence interval (!)\n",
    "conf_in = 0.95\n",
    "\n",
    "alpha = 1- conf_in"
   ]
  },
  {
   "cell_type": "code",
   "execution_count": 37,
   "metadata": {},
   "outputs": [],
   "source": [
    "x= train.Heroin\n",
    "y= train.Oxycodone"
   ]
  },
  {
   "cell_type": "code",
   "execution_count": 38,
   "metadata": {},
   "outputs": [],
   "source": [
    "r, p = stats.pearsonr(x,y)"
   ]
  },
  {
   "cell_type": "code",
   "execution_count": 39,
   "metadata": {},
   "outputs": [
    {
     "data": {
      "text/html": [
       "<div>\n",
       "<style scoped>\n",
       "    .dataframe tbody tr th:only-of-type {\n",
       "        vertical-align: middle;\n",
       "    }\n",
       "\n",
       "    .dataframe tbody tr th {\n",
       "        vertical-align: top;\n",
       "    }\n",
       "\n",
       "    .dataframe thead th {\n",
       "        text-align: right;\n",
       "    }\n",
       "</style>\n",
       "<table border=\"1\" class=\"dataframe\">\n",
       "  <thead>\n",
       "    <tr style=\"text-align: right;\">\n",
       "      <th></th>\n",
       "      <th>Hypothesis</th>\n",
       "      <th>p-value</th>\n",
       "      <th>t-value</th>\n",
       "      <th>r-value</th>\n",
       "      <th>alpha</th>\n",
       "      <th>Result</th>\n",
       "    </tr>\n",
       "  </thead>\n",
       "  <tbody>\n",
       "    <tr>\n",
       "      <th>0</th>\n",
       "      <td>#1</td>\n",
       "      <td>0.0</td>\n",
       "      <td>179.493</td>\n",
       "      <td>N/A</td>\n",
       "      <td>0.05</td>\n",
       "      <td>fail to reject $H_o$</td>\n",
       "    </tr>\n",
       "    <tr>\n",
       "      <th>1</th>\n",
       "      <td>#2</td>\n",
       "      <td>0.0</td>\n",
       "      <td>182.439</td>\n",
       "      <td>N/A</td>\n",
       "      <td>0.05</td>\n",
       "      <td>fail to reject $H_o$</td>\n",
       "    </tr>\n",
       "    <tr>\n",
       "      <th>2</th>\n",
       "      <td>#2</td>\n",
       "      <td>0.0</td>\n",
       "      <td>180.677</td>\n",
       "      <td>N/A</td>\n",
       "      <td>0.05</td>\n",
       "      <td>fail to reject $H_o$</td>\n",
       "    </tr>\n",
       "    <tr>\n",
       "      <th>3</th>\n",
       "      <td>#4</td>\n",
       "      <td>0.0</td>\n",
       "      <td>N/A</td>\n",
       "      <td>-0.2213</td>\n",
       "      <td>0.05</td>\n",
       "      <td>reject $H_o$</td>\n",
       "    </tr>\n",
       "  </tbody>\n",
       "</table>\n",
       "</div>"
      ],
      "text/plain": [
       "  Hypothesis  p-value  t-value r-value  alpha                Result\n",
       "0         #1      0.0  179.493     N/A   0.05  fail to reject $H_o$\n",
       "1         #2      0.0  182.439     N/A   0.05  fail to reject $H_o$\n",
       "2         #2      0.0  180.677     N/A   0.05  fail to reject $H_o$\n",
       "3         #4      0.0      N/A -0.2213   0.05          reject $H_o$"
      ]
     },
     "execution_count": 39,
     "metadata": {},
     "output_type": "execute_result"
    }
   ],
   "source": [
    "hypothesis_df = hypothesis_df.append(\n",
    "    {\n",
    "    'Hypothesis': '#4',\n",
    "    'p-value': (round(p,4)),\n",
    "    't-value': 'N/A',\n",
    "    'r-value': (round(r,4)),\n",
    "    'alpha': alpha,\n",
    "    'Result': 'reject $H_o$'},\n",
    "    ignore_index= True\n",
    "    )\n",
    "\n",
    "hypothesis_df"
   ]
  },
  {
   "cell_type": "markdown",
   "metadata": {},
   "source": [
    "### Takeaways from Hypothesis\n",
    "- I failed to reject $H_0$ #1. Suggesting that there is a relation between age and white race drug overdose deaths\n",
    "- I failed to reject $H_0$ #2. Suggesting that there is a relation between age and Oxycodone drug overdose deaths\n",
    "- I failed to reject $H_0$ #3. Suggesting that there is a relation between age and Heroin drug overdose deaths\n",
    "- I rejected  $H_0$ #4. Suggesting that there is no relationship between Heroin and Oxycodone drug overdose deaths"
   ]
  },
  {
   "cell_type": "markdown",
   "metadata": {},
   "source": [
    "<hr style=\"border:2px solid black\"> </hr>"
   ]
  },
  {
   "cell_type": "markdown",
   "metadata": {},
   "source": [
    "# Model"
   ]
  },
  {
   "cell_type": "code",
   "execution_count": 40,
   "metadata": {},
   "outputs": [
    {
     "data": {
      "text/html": [
       "<div>\n",
       "<style scoped>\n",
       "    .dataframe tbody tr th:only-of-type {\n",
       "        vertical-align: middle;\n",
       "    }\n",
       "\n",
       "    .dataframe tbody tr th {\n",
       "        vertical-align: top;\n",
       "    }\n",
       "\n",
       "    .dataframe thead th {\n",
       "        text-align: right;\n",
       "    }\n",
       "</style>\n",
       "<table border=\"1\" class=\"dataframe\">\n",
       "  <thead>\n",
       "    <tr style=\"text-align: right;\">\n",
       "      <th></th>\n",
       "      <th>Date</th>\n",
       "      <th>Sex</th>\n",
       "      <th>Race</th>\n",
       "      <th>ResidenceCity</th>\n",
       "      <th>DeathCity</th>\n",
       "      <th>Location</th>\n",
       "      <th>DescriptionofInjury</th>\n",
       "      <th>InjuryPlace</th>\n",
       "      <th>COD</th>\n",
       "      <th>Heroin</th>\n",
       "      <th>...</th>\n",
       "      <th>Morphine_NotHeroin</th>\n",
       "      <th>Hydromorphone</th>\n",
       "      <th>OpiateNOS</th>\n",
       "      <th>AnyOpioid</th>\n",
       "      <th>MannerofDeath</th>\n",
       "      <th>Black</th>\n",
       "      <th>Hispanic</th>\n",
       "      <th>Other</th>\n",
       "      <th>Unknown</th>\n",
       "      <th>White</th>\n",
       "    </tr>\n",
       "  </thead>\n",
       "  <tbody>\n",
       "    <tr>\n",
       "      <th>2570</th>\n",
       "      <td>07/11/2017 12:00:00 AM</td>\n",
       "      <td>Female</td>\n",
       "      <td>White</td>\n",
       "      <td>SUFFIELD</td>\n",
       "      <td>SUFFIELD</td>\n",
       "      <td>Residence</td>\n",
       "      <td>Substance Abuse</td>\n",
       "      <td>Residence</td>\n",
       "      <td>Acute Intoxication due to the Combined Effects...</td>\n",
       "      <td>1</td>\n",
       "      <td>...</td>\n",
       "      <td>0</td>\n",
       "      <td>0</td>\n",
       "      <td>0</td>\n",
       "      <td>0</td>\n",
       "      <td>Accident</td>\n",
       "      <td>0</td>\n",
       "      <td>0</td>\n",
       "      <td>0</td>\n",
       "      <td>0</td>\n",
       "      <td>1</td>\n",
       "    </tr>\n",
       "    <tr>\n",
       "      <th>2415</th>\n",
       "      <td>01/29/2017 12:00:00 AM</td>\n",
       "      <td>Female</td>\n",
       "      <td>White</td>\n",
       "      <td>COVENTRY</td>\n",
       "      <td>COVENTRY</td>\n",
       "      <td>Residence</td>\n",
       "      <td>Prescription Medicine Abuse</td>\n",
       "      <td>Residence</td>\n",
       "      <td>Acute Intoxication From the Combined Effects o...</td>\n",
       "      <td>0</td>\n",
       "      <td>...</td>\n",
       "      <td>1</td>\n",
       "      <td>1</td>\n",
       "      <td>0</td>\n",
       "      <td>0</td>\n",
       "      <td>Accident</td>\n",
       "      <td>0</td>\n",
       "      <td>0</td>\n",
       "      <td>0</td>\n",
       "      <td>0</td>\n",
       "      <td>1</td>\n",
       "    </tr>\n",
       "    <tr>\n",
       "      <th>4289</th>\n",
       "      <td>10/07/2018 12:00:00 AM</td>\n",
       "      <td>Male</td>\n",
       "      <td>White</td>\n",
       "      <td>STRATFORD</td>\n",
       "      <td>STRATFORD</td>\n",
       "      <td>Residence</td>\n",
       "      <td>Substance Abuse</td>\n",
       "      <td>Residence</td>\n",
       "      <td>Acute Intoxication From the Combined Effects o...</td>\n",
       "      <td>0</td>\n",
       "      <td>...</td>\n",
       "      <td>0</td>\n",
       "      <td>0</td>\n",
       "      <td>0</td>\n",
       "      <td>1</td>\n",
       "      <td>Accident</td>\n",
       "      <td>0</td>\n",
       "      <td>0</td>\n",
       "      <td>0</td>\n",
       "      <td>0</td>\n",
       "      <td>1</td>\n",
       "    </tr>\n",
       "    <tr>\n",
       "      <th>4620</th>\n",
       "      <td>02/03/2017 12:00:00 AM</td>\n",
       "      <td>Male</td>\n",
       "      <td>White</td>\n",
       "      <td>WINCHESTER</td>\n",
       "      <td>WINCHESTER</td>\n",
       "      <td>Residence</td>\n",
       "      <td>SUBSTANCE ABUSE</td>\n",
       "      <td>Residence</td>\n",
       "      <td>ACUTE HEROIN, FENTANYL AND COCAINE TOXICITIES,...</td>\n",
       "      <td>1</td>\n",
       "      <td>...</td>\n",
       "      <td>0</td>\n",
       "      <td>0</td>\n",
       "      <td>0</td>\n",
       "      <td>0</td>\n",
       "      <td>Accident</td>\n",
       "      <td>0</td>\n",
       "      <td>0</td>\n",
       "      <td>0</td>\n",
       "      <td>0</td>\n",
       "      <td>1</td>\n",
       "    </tr>\n",
       "    <tr>\n",
       "      <th>2996</th>\n",
       "      <td>01/05/2017 12:00:00 AM</td>\n",
       "      <td>Male</td>\n",
       "      <td>White</td>\n",
       "      <td>DANBURY</td>\n",
       "      <td>DANBURY</td>\n",
       "      <td>Residence</td>\n",
       "      <td>Substance Abuse</td>\n",
       "      <td>Residence</td>\n",
       "      <td>Acute Fentanyl Intoxication</td>\n",
       "      <td>0</td>\n",
       "      <td>...</td>\n",
       "      <td>0</td>\n",
       "      <td>0</td>\n",
       "      <td>0</td>\n",
       "      <td>0</td>\n",
       "      <td>Accident</td>\n",
       "      <td>0</td>\n",
       "      <td>0</td>\n",
       "      <td>0</td>\n",
       "      <td>0</td>\n",
       "      <td>1</td>\n",
       "    </tr>\n",
       "  </tbody>\n",
       "</table>\n",
       "<p>5 rows × 31 columns</p>\n",
       "</div>"
      ],
      "text/plain": [
       "                        Date     Sex   Race ResidenceCity   DeathCity  \\\n",
       "2570  07/11/2017 12:00:00 AM  Female  White      SUFFIELD    SUFFIELD   \n",
       "2415  01/29/2017 12:00:00 AM  Female  White      COVENTRY    COVENTRY   \n",
       "4289  10/07/2018 12:00:00 AM    Male  White     STRATFORD   STRATFORD   \n",
       "4620  02/03/2017 12:00:00 AM    Male  White    WINCHESTER  WINCHESTER   \n",
       "2996  01/05/2017 12:00:00 AM    Male  White       DANBURY     DANBURY   \n",
       "\n",
       "       Location          DescriptionofInjury InjuryPlace  \\\n",
       "2570  Residence              Substance Abuse   Residence   \n",
       "2415  Residence  Prescription Medicine Abuse   Residence   \n",
       "4289  Residence              Substance Abuse   Residence   \n",
       "4620  Residence              SUBSTANCE ABUSE   Residence   \n",
       "2996  Residence              Substance Abuse   Residence   \n",
       "\n",
       "                                                    COD  Heroin  ...  \\\n",
       "2570  Acute Intoxication due to the Combined Effects...       1  ...   \n",
       "2415  Acute Intoxication From the Combined Effects o...       0  ...   \n",
       "4289  Acute Intoxication From the Combined Effects o...       0  ...   \n",
       "4620  ACUTE HEROIN, FENTANYL AND COCAINE TOXICITIES,...       1  ...   \n",
       "2996                        Acute Fentanyl Intoxication       0  ...   \n",
       "\n",
       "      Morphine_NotHeroin Hydromorphone  OpiateNOS  AnyOpioid  MannerofDeath  \\\n",
       "2570                   0             0          0          0       Accident   \n",
       "2415                   1             1          0          0       Accident   \n",
       "4289                   0             0          0          1       Accident   \n",
       "4620                   0             0          0          0       Accident   \n",
       "2996                   0             0          0          0       Accident   \n",
       "\n",
       "      Black  Hispanic  Other  Unknown  White  \n",
       "2570      0         0      0        0      1  \n",
       "2415      0         0      0        0      1  \n",
       "4289      0         0      0        0      1  \n",
       "4620      0         0      0        0      1  \n",
       "2996      0         0      0        0      1  \n",
       "\n",
       "[5 rows x 31 columns]"
      ]
     },
     "execution_count": 40,
     "metadata": {},
     "output_type": "execute_result"
    }
   ],
   "source": [
    "#take a look at X_train dataframe\n",
    "X_train.head()"
   ]
  },
  {
   "cell_type": "markdown",
   "metadata": {},
   "source": [
    "## Create Baseline"
   ]
  },
  {
   "cell_type": "code",
   "execution_count": 41,
   "metadata": {},
   "outputs": [],
   "source": [
    "#create a baseline\n",
    "# We need y_train and y_validate to be dataframes to append the new columns with predicted values. \n",
    "y_train = pd.DataFrame(y_train)\n",
    "y_validate = pd.DataFrame(y_validate)"
   ]
  },
  {
   "cell_type": "code",
   "execution_count": 42,
   "metadata": {},
   "outputs": [],
   "source": [
    "# 1. Predict assessed_value_pred_mean\n",
    "\n",
    "#predicted mean will be the mean of value_assessed column\n",
    "age_pred_mean = y_train['Age'].mean()\n",
    "#new column created\n",
    "y_train['age_pred_mean'] = age_pred_mean\n",
    "y_validate['age_pred_mean'] = age_pred_mean"
   ]
  },
  {
   "cell_type": "code",
   "execution_count": 43,
   "metadata": {},
   "outputs": [
    {
     "data": {
      "text/html": [
       "<div>\n",
       "<style scoped>\n",
       "    .dataframe tbody tr th:only-of-type {\n",
       "        vertical-align: middle;\n",
       "    }\n",
       "\n",
       "    .dataframe tbody tr th {\n",
       "        vertical-align: top;\n",
       "    }\n",
       "\n",
       "    .dataframe thead th {\n",
       "        text-align: right;\n",
       "    }\n",
       "</style>\n",
       "<table border=\"1\" class=\"dataframe\">\n",
       "  <thead>\n",
       "    <tr style=\"text-align: right;\">\n",
       "      <th></th>\n",
       "      <th>Age</th>\n",
       "      <th>age_pred_mean</th>\n",
       "    </tr>\n",
       "  </thead>\n",
       "  <tbody>\n",
       "    <tr>\n",
       "      <th>2570</th>\n",
       "      <td>27</td>\n",
       "      <td>41.907628</td>\n",
       "    </tr>\n",
       "    <tr>\n",
       "      <th>2415</th>\n",
       "      <td>61</td>\n",
       "      <td>41.907628</td>\n",
       "    </tr>\n",
       "    <tr>\n",
       "      <th>4289</th>\n",
       "      <td>24</td>\n",
       "      <td>41.907628</td>\n",
       "    </tr>\n",
       "    <tr>\n",
       "      <th>4620</th>\n",
       "      <td>47</td>\n",
       "      <td>41.907628</td>\n",
       "    </tr>\n",
       "    <tr>\n",
       "      <th>2996</th>\n",
       "      <td>23</td>\n",
       "      <td>41.907628</td>\n",
       "    </tr>\n",
       "  </tbody>\n",
       "</table>\n",
       "</div>"
      ],
      "text/plain": [
       "      Age  age_pred_mean\n",
       "2570   27      41.907628\n",
       "2415   61      41.907628\n",
       "4289   24      41.907628\n",
       "4620   47      41.907628\n",
       "2996   23      41.907628"
      ]
     },
     "execution_count": 43,
     "metadata": {},
     "output_type": "execute_result"
    }
   ],
   "source": [
    "y_train.head()"
   ]
  },
  {
   "cell_type": "code",
   "execution_count": 44,
   "metadata": {},
   "outputs": [
    {
     "name": "stdout",
     "output_type": "stream",
     "text": [
      "RMSE using Mean\n",
      "Train/In-Sample:  12.24 \n",
      "Validate/Out-of-Sample:  12.536\n"
     ]
    }
   ],
   "source": [
    "# 2. RMSE of value_assessed_pred_mean\n",
    "\n",
    "#root mean squared error of the predicted mean\n",
    "rmse_train = mean_squared_error(y_train.Age, y_train.age_pred_mean)**(1/2)\n",
    "rmse_validate = mean_squared_error(y_validate.Age, y_validate.age_pred_mean)**(1/2)\n",
    "print(\"RMSE using Mean\\nTrain/In-Sample: \", round(rmse_train, 3), \n",
    "      \"\\nValidate/Out-of-Sample: \", round(rmse_validate, 3))"
   ]
  },
  {
   "cell_type": "code",
   "execution_count": 45,
   "metadata": {},
   "outputs": [
    {
     "data": {
      "text/html": [
       "<div>\n",
       "<style scoped>\n",
       "    .dataframe tbody tr th:only-of-type {\n",
       "        vertical-align: middle;\n",
       "    }\n",
       "\n",
       "    .dataframe tbody tr th {\n",
       "        vertical-align: top;\n",
       "    }\n",
       "\n",
       "    .dataframe thead th {\n",
       "        text-align: right;\n",
       "    }\n",
       "</style>\n",
       "<table border=\"1\" class=\"dataframe\">\n",
       "  <thead>\n",
       "    <tr style=\"text-align: right;\">\n",
       "      <th></th>\n",
       "      <th>model</th>\n",
       "      <th>rmse_train</th>\n",
       "      <th>rmse_validate</th>\n",
       "      <th>r^2</th>\n",
       "    </tr>\n",
       "  </thead>\n",
       "  <tbody>\n",
       "    <tr>\n",
       "      <th>0</th>\n",
       "      <td>mean_baseline</td>\n",
       "      <td>12.24</td>\n",
       "      <td>12.536</td>\n",
       "      <td>0.0</td>\n",
       "    </tr>\n",
       "  </tbody>\n",
       "</table>\n",
       "</div>"
      ],
      "text/plain": [
       "           model  rmse_train  rmse_validate  r^2\n",
       "0  mean_baseline       12.24         12.536  0.0"
      ]
     },
     "execution_count": 45,
     "metadata": {},
     "output_type": "execute_result"
    }
   ],
   "source": [
    "#create a dataframe to make data easier to visualize/understand\n",
    "metric_df = pd.DataFrame(data=[{\n",
    "    'model': 'mean_baseline',\n",
    "    'rmse_train': (round(rmse_train,3)),\n",
    "    'rmse_validate': (round(rmse_validate,3)),\n",
    "    'r^2': (round(explained_variance_score(y_validate.Age, y_validate.age_pred_mean),3))}])\n",
    "\n",
    "metric_df\n",
    "#we now have out baseline model to work off of"
   ]
  },
  {
   "cell_type": "markdown",
   "metadata": {},
   "source": [
    "_________________________"
   ]
  },
  {
   "cell_type": "markdown",
   "metadata": {},
   "source": [
    "## OLS Model"
   ]
  },
  {
   "cell_type": "code",
   "execution_count": 46,
   "metadata": {},
   "outputs": [],
   "source": [
    "#set X_train to drivers only\n",
    "#we do not want to include all columns in this because it could cause overfitting\n",
    "#these two features have the highest correlation\n",
    "drivers_train = X_train[['Oxycodone', 'Heroin']]\n",
    "\n",
    "#set X_validate_scaled to drivers only\n",
    "drivers_validate= X_validate[['Oxycodone', 'Heroin']]\n",
    "\n",
    "#set X_test_scaled to drivers only\n",
    "drivers_test= X_test[['Oxycodone', 'Heroin']]"
   ]
  },
  {
   "cell_type": "code",
   "execution_count": 47,
   "metadata": {},
   "outputs": [
    {
     "data": {
      "text/plain": [
       "LinearRegression(normalize=True)"
      ]
     },
     "execution_count": 47,
     "metadata": {},
     "output_type": "execute_result"
    }
   ],
   "source": [
    "#create the model \n",
    "lm = LinearRegression(normalize=True)\n",
    "\n",
    "#fit\n",
    "lm.fit(drivers_train, y_train.Age)"
   ]
  },
  {
   "cell_type": "code",
   "execution_count": 48,
   "metadata": {},
   "outputs": [
    {
     "name": "stdout",
     "output_type": "stream",
     "text": [
      "RMSE for OLS using LinearRegression\n",
      "Training/In-Sample:  12.118785439335973 \n",
      "Validation/Out-of-Sample:  12.380931745188388\n"
     ]
    }
   ],
   "source": [
    "# predict train\n",
    "y_train['age_pred_lm'] = lm.predict(drivers_train)\n",
    "\n",
    "# evaluate: rmse\n",
    "rmse_train = mean_squared_error(y_train.Age, y_train.age_pred_lm)**(1/2)\n",
    "\n",
    "# predict validate\n",
    "y_validate['age_pred_lm'] = lm.predict(drivers_validate)\n",
    "\n",
    "# evaluate: rmse\n",
    "rmse_validate = mean_squared_error(y_validate.Age, y_validate.age_pred_lm)**(1/2)\n",
    "\n",
    "print(\"RMSE for OLS using LinearRegression\\nTraining/In-Sample: \", rmse_train, \n",
    "      \"\\nValidation/Out-of-Sample: \", rmse_validate)"
   ]
  },
  {
   "cell_type": "code",
   "execution_count": 49,
   "metadata": {},
   "outputs": [
    {
     "data": {
      "text/html": [
       "<div>\n",
       "<style scoped>\n",
       "    .dataframe tbody tr th:only-of-type {\n",
       "        vertical-align: middle;\n",
       "    }\n",
       "\n",
       "    .dataframe tbody tr th {\n",
       "        vertical-align: top;\n",
       "    }\n",
       "\n",
       "    .dataframe thead th {\n",
       "        text-align: right;\n",
       "    }\n",
       "</style>\n",
       "<table border=\"1\" class=\"dataframe\">\n",
       "  <thead>\n",
       "    <tr style=\"text-align: right;\">\n",
       "      <th></th>\n",
       "      <th>model</th>\n",
       "      <th>rmse_train</th>\n",
       "      <th>rmse_validate</th>\n",
       "      <th>r^2</th>\n",
       "    </tr>\n",
       "  </thead>\n",
       "  <tbody>\n",
       "    <tr>\n",
       "      <th>0</th>\n",
       "      <td>mean_baseline</td>\n",
       "      <td>12.240</td>\n",
       "      <td>12.536</td>\n",
       "      <td>0.000</td>\n",
       "    </tr>\n",
       "    <tr>\n",
       "      <th>1</th>\n",
       "      <td>OLS</td>\n",
       "      <td>12.119</td>\n",
       "      <td>12.381</td>\n",
       "      <td>0.024</td>\n",
       "    </tr>\n",
       "  </tbody>\n",
       "</table>\n",
       "</div>"
      ],
      "text/plain": [
       "           model  rmse_train  rmse_validate    r^2\n",
       "0  mean_baseline      12.240         12.536  0.000\n",
       "1            OLS      12.119         12.381  0.024"
      ]
     },
     "execution_count": 49,
     "metadata": {},
     "output_type": "execute_result"
    }
   ],
   "source": [
    "#create visual to see baseline vs LinearRegression model\n",
    "metric_df = metric_df.append(\n",
    "    {\n",
    "    'model': 'OLS',\n",
    "    'rmse_train': (round(rmse_train,3)),\n",
    "    'rmse_validate': (round(rmse_validate,3)),\n",
    "    'r^2': (round(explained_variance_score(y_validate.Age, y_validate.age_pred_lm),3))}, ignore_index=True)\n",
    "\n",
    "metric_df"
   ]
  },
  {
   "cell_type": "markdown",
   "metadata": {},
   "source": [
    "_____________________"
   ]
  },
  {
   "cell_type": "markdown",
   "metadata": {},
   "source": [
    "## Lasso Lars Model"
   ]
  },
  {
   "cell_type": "code",
   "execution_count": 50,
   "metadata": {},
   "outputs": [
    {
     "name": "stdout",
     "output_type": "stream",
     "text": [
      "RMSE for OLS using LinearRegression\n",
      "Training/In-Sample:  12.240213149907696 \n",
      "Validation/Out-of-Sample:  12.535506516301341\n"
     ]
    }
   ],
   "source": [
    "# create the model object\n",
    "lars = LassoLars(alpha= 2)\n",
    "\n",
    "# fit the model to our training data. We must specify the column in y_train, \n",
    "# since we have converted it to a dataframe from a series! \n",
    "lars.fit(drivers_train, y_train.Age)\n",
    "\n",
    "# predict train\n",
    "y_train['age_pred_lars'] = lars.predict(drivers_train)\n",
    "\n",
    "# evaluate: rmse\n",
    "rmse_train = mean_squared_error(y_train.Age, y_train.age_pred_lars)**(1/2)\n",
    "\n",
    "# predict validate\n",
    "y_validate['age_pred_lars'] = lars.predict(drivers_validate)\n",
    "\n",
    "# evaluate: rmse\n",
    "rmse_validate = mean_squared_error(y_validate.Age, y_validate.age_pred_lars)**(1/2)\n",
    "\n",
    "print(\"RMSE for OLS using LinearRegression\\nTraining/In-Sample: \", rmse_train, \n",
    "      \"\\nValidation/Out-of-Sample: \", rmse_validate)"
   ]
  },
  {
   "cell_type": "code",
   "execution_count": 51,
   "metadata": {},
   "outputs": [
    {
     "data": {
      "text/html": [
       "<div>\n",
       "<style scoped>\n",
       "    .dataframe tbody tr th:only-of-type {\n",
       "        vertical-align: middle;\n",
       "    }\n",
       "\n",
       "    .dataframe tbody tr th {\n",
       "        vertical-align: top;\n",
       "    }\n",
       "\n",
       "    .dataframe thead th {\n",
       "        text-align: right;\n",
       "    }\n",
       "</style>\n",
       "<table border=\"1\" class=\"dataframe\">\n",
       "  <thead>\n",
       "    <tr style=\"text-align: right;\">\n",
       "      <th></th>\n",
       "      <th>model</th>\n",
       "      <th>rmse_train</th>\n",
       "      <th>rmse_validate</th>\n",
       "      <th>r^2</th>\n",
       "    </tr>\n",
       "  </thead>\n",
       "  <tbody>\n",
       "    <tr>\n",
       "      <th>0</th>\n",
       "      <td>mean_baseline</td>\n",
       "      <td>12.240</td>\n",
       "      <td>12.536</td>\n",
       "      <td>0.000</td>\n",
       "    </tr>\n",
       "    <tr>\n",
       "      <th>1</th>\n",
       "      <td>OLS</td>\n",
       "      <td>12.119</td>\n",
       "      <td>12.381</td>\n",
       "      <td>0.024</td>\n",
       "    </tr>\n",
       "    <tr>\n",
       "      <th>2</th>\n",
       "      <td>LassoLars (alpha 2)</td>\n",
       "      <td>12.240</td>\n",
       "      <td>12.536</td>\n",
       "      <td>0.000</td>\n",
       "    </tr>\n",
       "  </tbody>\n",
       "</table>\n",
       "</div>"
      ],
      "text/plain": [
       "                 model  rmse_train  rmse_validate    r^2\n",
       "0        mean_baseline      12.240         12.536  0.000\n",
       "1                  OLS      12.119         12.381  0.024\n",
       "2  LassoLars (alpha 2)      12.240         12.536  0.000"
      ]
     },
     "execution_count": 51,
     "metadata": {},
     "output_type": "execute_result"
    }
   ],
   "source": [
    "#shows baseline vs LinearRegression vs LassoLars\n",
    "metric_df = metric_df.append(\n",
    "    {\n",
    "    'model': 'LassoLars (alpha 2)',\n",
    "    'rmse_train': (round(rmse_train,3)),\n",
    "    'rmse_validate': (round(rmse_validate,3)),\n",
    "    'r^2': (round(explained_variance_score(y_validate.Age, y_validate.age_pred_lars),3))}, ignore_index=True)\n",
    "\n",
    "metric_df"
   ]
  },
  {
   "cell_type": "markdown",
   "metadata": {},
   "source": [
    "______________"
   ]
  },
  {
   "cell_type": "markdown",
   "metadata": {},
   "source": [
    "## Tweedie Regressor Model"
   ]
  },
  {
   "cell_type": "code",
   "execution_count": 52,
   "metadata": {},
   "outputs": [
    {
     "name": "stdout",
     "output_type": "stream",
     "text": [
      "RMSE for OLS using LinearRegression\n",
      "Training/In-Sample:  12.120790963696876 \n",
      "Validation/Out-of-Sample:  12.383584360786044\n"
     ]
    }
   ],
   "source": [
    "# create the model object\n",
    "glm = TweedieRegressor(power=1, alpha=1)\n",
    "\n",
    "# fit the model to our training data. We must specify the column in y_train, \n",
    "# since we have converted it to a dataframe from a series! \n",
    "glm.fit(drivers_train, y_train.Age)\n",
    "\n",
    "# predict train\n",
    "y_train['age_pred_glm'] = glm.predict(drivers_train)\n",
    "\n",
    "# evaluate: rmse\n",
    "rmse_train = (mean_squared_error(y_train.Age, y_train.age_pred_glm)**(1/2))\n",
    "\n",
    "# predict validate\n",
    "y_validate['age_pred_glm'] = glm.predict(drivers_validate)\n",
    "\n",
    "# evaluate: rmse\n",
    "rmse_validate = mean_squared_error(y_validate.Age, y_validate.age_pred_glm)**(1/2)\n",
    "\n",
    "print(\"RMSE for OLS using LinearRegression\\nTraining/In-Sample: \", rmse_train, \n",
    "      \"\\nValidation/Out-of-Sample: \", rmse_validate)"
   ]
  },
  {
   "cell_type": "code",
   "execution_count": 53,
   "metadata": {},
   "outputs": [
    {
     "data": {
      "text/html": [
       "<div>\n",
       "<style scoped>\n",
       "    .dataframe tbody tr th:only-of-type {\n",
       "        vertical-align: middle;\n",
       "    }\n",
       "\n",
       "    .dataframe tbody tr th {\n",
       "        vertical-align: top;\n",
       "    }\n",
       "\n",
       "    .dataframe thead th {\n",
       "        text-align: right;\n",
       "    }\n",
       "</style>\n",
       "<table border=\"1\" class=\"dataframe\">\n",
       "  <thead>\n",
       "    <tr style=\"text-align: right;\">\n",
       "      <th></th>\n",
       "      <th>model</th>\n",
       "      <th>rmse_train</th>\n",
       "      <th>rmse_validate</th>\n",
       "      <th>r^2</th>\n",
       "    </tr>\n",
       "  </thead>\n",
       "  <tbody>\n",
       "    <tr>\n",
       "      <th>0</th>\n",
       "      <td>mean_baseline</td>\n",
       "      <td>12.240</td>\n",
       "      <td>12.536</td>\n",
       "      <td>0.000</td>\n",
       "    </tr>\n",
       "    <tr>\n",
       "      <th>1</th>\n",
       "      <td>OLS</td>\n",
       "      <td>12.119</td>\n",
       "      <td>12.381</td>\n",
       "      <td>0.024</td>\n",
       "    </tr>\n",
       "    <tr>\n",
       "      <th>2</th>\n",
       "      <td>LassoLars (alpha 2)</td>\n",
       "      <td>12.240</td>\n",
       "      <td>12.536</td>\n",
       "      <td>0.000</td>\n",
       "    </tr>\n",
       "    <tr>\n",
       "      <th>3</th>\n",
       "      <td>TweedieRegressor (power 1, alpha 2)</td>\n",
       "      <td>12.121</td>\n",
       "      <td>12.384</td>\n",
       "      <td>0.024</td>\n",
       "    </tr>\n",
       "  </tbody>\n",
       "</table>\n",
       "</div>"
      ],
      "text/plain": [
       "                                 model  rmse_train  rmse_validate    r^2\n",
       "0                        mean_baseline      12.240         12.536  0.000\n",
       "1                                  OLS      12.119         12.381  0.024\n",
       "2                  LassoLars (alpha 2)      12.240         12.536  0.000\n",
       "3  TweedieRegressor (power 1, alpha 2)      12.121         12.384  0.024"
      ]
     },
     "execution_count": 53,
     "metadata": {},
     "output_type": "execute_result"
    }
   ],
   "source": [
    "#compares all four models\n",
    "metric_df = metric_df.append(\n",
    "    {\n",
    "    'model': 'TweedieRegressor (power 1, alpha 2)',\n",
    "    'rmse_train': (round(rmse_train,3)),\n",
    "    'rmse_validate': (round(rmse_validate,3)),\n",
    "    'r^2': (round(explained_variance_score(y_validate.Age, y_validate.age_pred_glm),3))}, ignore_index=True)\n",
    "\n",
    "metric_df"
   ]
  },
  {
   "cell_type": "markdown",
   "metadata": {},
   "source": [
    "____________________"
   ]
  },
  {
   "cell_type": "code",
   "execution_count": 54,
   "metadata": {},
   "outputs": [
    {
     "data": {
      "image/png": "[encoded data removed]",
      "text/plain": [
       "<Figure size 1152x576 with 1 Axes>"
      ]
     },
     "metadata": {
      "needs_background": "light"
     },
     "output_type": "display_data"
    }
   ],
   "source": [
    "# plot to visualize actual vs predicted. \n",
    "plt.figure(figsize=(16,8))\n",
    "plt.hist(y_validate.Age, color='blue', alpha=.5, label=\"Actual Age\")\n",
    "plt.hist(y_validate.age_pred_lm, color='red', alpha=.5, label=\"Model: OLS\")\n",
    "plt.hist(y_validate.age_pred_glm, color='yellow', alpha=.5, label=\"Model: TweedieRegressor\")\n",
    "plt.hist(y_validate.age_pred_lars, color='green', alpha=.5, label=\"Model: LassoLars\")\n",
    "plt.xlabel(\"Age\")\n",
    "plt.ylabel(\"Number of Homes\")\n",
    "plt.title(\"Distribution of Actual Age vs Predicted Age for Top Performing Models\")\n",
    "plt.legend()\n",
    "plt.show()"
   ]
  },
  {
   "cell_type": "markdown",
   "metadata": {},
   "source": [
    "____________________"
   ]
  },
  {
   "cell_type": "markdown",
   "metadata": {},
   "source": [
    "### Use Test set on Best Performing Model"
   ]
  },
  {
   "cell_type": "code",
   "execution_count": 55,
   "metadata": {},
   "outputs": [
    {
     "name": "stdout",
     "output_type": "stream",
     "text": [
      "RMSE for OLS Model using LinearRegression\n",
      "Out-of-Sample Performance:  12.087717914301749\n"
     ]
    }
   ],
   "source": [
    "y_test = pd.DataFrame(y_test)\n",
    "\n",
    "# predict on test\n",
    "y_test['age_pred_lm'] = lm.predict(drivers_test)\n",
    "\n",
    "# evaluate: rmse\n",
    "rmse_test = mean_squared_error(y_test.Age, y_test.age_pred_lm)**(1/2)\n",
    "\n",
    "print(\"RMSE for OLS Model using LinearRegression\\nOut-of-Sample Performance: \", rmse_test)"
   ]
  },
  {
   "cell_type": "markdown",
   "metadata": {},
   "source": [
    "### Takeaways from Modeling:\n",
    "- OLS model performs better than the baseline and other predictive models\n",
    "- The drop of between train and validate was not significant"
   ]
  },
  {
   "cell_type": "markdown",
   "metadata": {},
   "source": [
    "<hr style=\"border:2px solid black\"> </hr>"
   ]
  },
  {
   "cell_type": "markdown",
   "metadata": {},
   "source": [
    "## Final Takeaways and Next Steps:"
   ]
  },
  {
   "cell_type": "markdown",
   "metadata": {},
   "source": [
    "- OLS Model performed the best, outperforming the baseline and other models\n",
    "- Average age does not appear to change significantly\n",
    "- All $H_0$ were reject with the exception of one\n",
    "\n",
    "<br>\n",
    "\n",
    "- With more time, I would like to:\n",
    "    - continue looking into my Time Series project available here: [Github Repo](https://github.com/natasharivers/individual_project/blob/main/Initial%20Time%20Series%20Notebook.ipynb)\n",
    "        - Does average age change over time?\n",
    "        - Do Heroin deaths increase over time?\n",
    "        \n",
    "<br>\n",
    "\n",
    "- I would like to see more data\n",
    "    - possibly from other areas and \n",
    "    - more recent years (2020 and 2021)"
   ]
  },
  {
   "cell_type": "code",
   "execution_count": null,
   "metadata": {},
   "outputs": [],
   "source": []
  }
 ],
 "metadata": {
  "kernelspec": {
   "display_name": "Python 3",
   "language": "python",
   "name": "python3"
  },
  "language_info": {
   "codemirror_mode": {
    "name": "ipython",
    "version": 3
   },
   "file_extension": ".py",
   "mimetype": "text/x-python",
   "name": "python",
   "nbconvert_exporter": "python",
   "pygments_lexer": "ipython3",
   "version": "3.8.5"
  }
 },
 "nbformat": 4,
 "nbformat_minor": 4
}

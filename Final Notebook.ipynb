{
 "cells": [
  {
   "cell_type": "markdown",
   "metadata": {},
   "source": [
    "# Drug Related Overdose Deaths\n",
    "## Individual Project- Regression\n",
    "### Natasha Rivers\n",
    "#### July 14, 2021"
   ]
  },
  {
   "cell_type": "markdown",
   "metadata": {},
   "source": [
    "<hr style=\"border:1px solid black\"> </hr>"
   ]
  },
  {
   "cell_type": "markdown",
   "metadata": {},
   "source": [
    "## Project Scope"
   ]
  },
  {
   "cell_type": "markdown",
   "metadata": {},
   "source": [
    "**Methodology Used**: Regression\n",
    "\n",
    "**Target Variable**: Age\n",
    "\n",
    "**Primary Question**: Does age play a role in drug related deaths?"
   ]
  },
  {
   "cell_type": "markdown",
   "metadata": {},
   "source": [
    "<hr style=\"border:1px solid black\"> </hr>"
   ]
  },
  {
   "cell_type": "markdown",
   "metadata": {},
   "source": [
    "## Executive Summary"
   ]
  },
  {
   "cell_type": "markdown",
   "metadata": {},
   "source": [
    "- There is not a single indicator of what causes drug related deaths.\n",
    "- OLS model performed best. Outperforming baseline, LassoLars and TweedieRegressor models"
   ]
  },
  {
   "cell_type": "markdown",
   "metadata": {},
   "source": [
    "|Model                                | rmse_train   | rmse_validate  | r^2\n",
    "|-------------------------------------|--------------|----------------|---------\n",
    "|mean_baseline                        | 12.240       | 12.536         | 0.000\n",
    "|OLS                                  | 12.119       | 12.381         | 0.024\n",
    "|LassoLars (alpha 2)                  | 12.240       | 12.536         | 0.000\n",
    "|TweedieRegressor (power 1, alpha 2)  | 12.121       | 12.384         | 0.024\n"
   ]
  },
  {
   "cell_type": "markdown",
   "metadata": {},
   "source": [
    "<hr style=\"border:3px solid black\"> </hr>"
   ]
  },
  {
   "cell_type": "markdown",
   "metadata": {},
   "source": [
    "# Imports"
   ]
  },
  {
   "cell_type": "code",
   "execution_count": null,
   "metadata": {},
   "outputs": [],
   "source": [
    "import pandas as pd\n",
    "import numpy as np\n",
    "from scipy import stats\n",
    "\n",
    "#visualization\n",
    "import matplotlib.pyplot as plt\n",
    "import seaborn as sns\n",
    "\n",
    "#custom modules\n",
    "import acquire\n",
    "import prepare\n",
    "\n",
    "#ignore warnings\n",
    "import warnings\n",
    "warnings.filterwarnings(\"ignore\")\n",
    "\n",
    "#from sklearn.feature_selection import RFE, SelectKBest, f_regression\n",
    "from sklearn.linear_model import LinearRegression, TweedieRegressor, LassoLars\n",
    "from sklearn.metrics import mean_squared_error, explained_variance_score"
   ]
  },
  {
   "cell_type": "markdown",
   "metadata": {},
   "source": [
    "<hr style=\"border:2px solid black\"> </hr>"
   ]
  },
  {
   "cell_type": "markdown",
   "metadata": {},
   "source": [
    "# Acquire"
   ]
  },
  {
   "cell_type": "code",
   "execution_count": null,
   "metadata": {},
   "outputs": [],
   "source": [
    "#function from acquire.py\n",
    "df = acquire.od_deaths_df()"
   ]
  },
  {
   "cell_type": "code",
   "execution_count": null,
   "metadata": {},
   "outputs": [],
   "source": [
    "df.head()"
   ]
  },
  {
   "cell_type": "code",
   "execution_count": null,
   "metadata": {},
   "outputs": [],
   "source": [
    "df.info()"
   ]
  },
  {
   "cell_type": "markdown",
   "metadata": {},
   "source": [
    "### Takeaways from Acquire:\n",
    "- imported the csv into Pandas and created a dataframe\n",
    "- original dataframe contains:\n",
    "    - 41 columns \n",
    "        - multiple data types\n",
    "    - 5105 entries\n",
    "- will likely need to:\n",
    "    - drop some columns\n",
    "    - rename columns\n",
    "    - change data types\n",
    "- dummies already appear to have been created\n",
    "- contains many nulls"
   ]
  },
  {
   "cell_type": "markdown",
   "metadata": {},
   "source": [
    "<hr style=\"border:2px solid black\"> </hr>"
   ]
  },
  {
   "cell_type": "markdown",
   "metadata": {},
   "source": [
    "# Prepare"
   ]
  },
  {
   "cell_type": "code",
   "execution_count": null,
   "metadata": {},
   "outputs": [],
   "source": [
    "#look into nulls\n",
    "df.isnull().sum()"
   ]
  },
  {
   "cell_type": "code",
   "execution_count": null,
   "metadata": {},
   "outputs": [],
   "source": [
    "#look into variations of manner of death\n",
    "df.MannerofDeath.value_counts()"
   ]
  },
  {
   "cell_type": "code",
   "execution_count": null,
   "metadata": {},
   "outputs": [],
   "source": [
    "#look into Race combinations being represented\n",
    "df.Race.value_counts()"
   ]
  },
  {
   "cell_type": "code",
   "execution_count": null,
   "metadata": {},
   "outputs": [],
   "source": [
    "df.Location.value_counts()"
   ]
  },
  {
   "cell_type": "code",
   "execution_count": null,
   "metadata": {},
   "outputs": [],
   "source": [
    "df = prepare.prep_set(df)"
   ]
  },
  {
   "cell_type": "code",
   "execution_count": null,
   "metadata": {
    "scrolled": true
   },
   "outputs": [],
   "source": [
    "df.head()"
   ]
  },
  {
   "cell_type": "code",
   "execution_count": null,
   "metadata": {},
   "outputs": [],
   "source": [
    "#prep_set function from prepare.py\n",
    "#filled all nulls and dropped unneccessary columns\n",
    "df.isnull().sum()"
   ]
  },
  {
   "cell_type": "code",
   "execution_count": null,
   "metadata": {},
   "outputs": [],
   "source": [
    "#prep_set function from prepare.py made results more uniform\n",
    "df.MannerofDeath.value_counts()"
   ]
  },
  {
   "cell_type": "code",
   "execution_count": null,
   "metadata": {},
   "outputs": [],
   "source": [
    "#prep_set function from prepare.py corrected Race choices into most common\n",
    "df.Race.value_counts()"
   ]
  },
  {
   "cell_type": "code",
   "execution_count": null,
   "metadata": {},
   "outputs": [],
   "source": [
    "#prep_set function from prepare.py corrected Location choices into most common\n",
    "df.Location.value_counts()"
   ]
  },
  {
   "cell_type": "code",
   "execution_count": null,
   "metadata": {},
   "outputs": [],
   "source": [
    "#split data using od_deaths_split function from prepare file\n",
    "train, validate, test, X_train, y_train, X_validate, y_validate, X_test, y_test = prepare.od_deaths_split(df, 'Age')"
   ]
  },
  {
   "cell_type": "markdown",
   "metadata": {},
   "source": [
    "### Takeaways from Prepare:\n",
    "\n",
    "- Created a function (prep_set) that did the following:  \n",
    "    - dropped several columns with high null value \n",
    "        - were not significant if only had ~10% of data\n",
    "    - filled null values by imputing\n",
    "        - using mean and most frequent\n",
    "    - changed data for uniformity in Manner of Death\n",
    "    - corrected options for 'Race' so that it would not be so vast\n",
    "    - corrected options for 'Location', 'Morphine_NotHeroin', 'AnyOpioid', and 'Fentanyl' to turn into Booleans\n",
    "    - changed data type in 'Age' from float to integer\n",
    "    - created dummy columns for race\n",
    "    \n",
    "<br>\n",
    "\n",
    "- Created a function to split data \n",
    "    - split data into train, validate, test using Age as the target\n",
    "    - prints out shape of all three sets\n",
    "   \n",
    "<br>\n",
    "\n",
    "- Final DataFrame ended up with:\n",
    "    - 5105 entries\n",
    "    - 32 columns\n",
    "        - all with int64 and object datatypes"
   ]
  },
  {
   "cell_type": "markdown",
   "metadata": {},
   "source": [
    "<hr style=\"border:2px solid black\"> </hr>"
   ]
  },
  {
   "cell_type": "markdown",
   "metadata": {},
   "source": [
    "# Explore"
   ]
  },
  {
   "cell_type": "markdown",
   "metadata": {},
   "source": [
    "### Univariate Exploration"
   ]
  },
  {
   "cell_type": "code",
   "execution_count": null,
   "metadata": {},
   "outputs": [],
   "source": [
    "#visualize distribution\n",
    "for col in train.columns:\n",
    "    plt.hist(train[col])\n",
    "    plt.title(col)\n",
    "    plt.show()"
   ]
  },
  {
   "cell_type": "code",
   "execution_count": null,
   "metadata": {},
   "outputs": [],
   "source": [
    "#specifically plot columns of interest\n",
    "\n",
    "# Plot the distributions\n",
    "plt.figure(figsize=(16, 6))\n",
    "\n",
    "# List of columns\n",
    "cols = ['Age', 'Sex', 'Race', 'MannerofDeath']\n",
    "\n",
    "for i, col in enumerate(cols):\n",
    "\n",
    "    # i starts at 0, but plot nos should start at 1\n",
    "    plot_number = i + 1 \n",
    "\n",
    "    # Create subplot.\n",
    "    plt.subplot(1,4, plot_number)\n",
    "\n",
    "    # Title with column name.\n",
    "    plt.title(col)\n",
    "\n",
    "    # Display histogram for column.\n",
    "    df[col].hist(bins=5)\n",
    "\n",
    "    # Hide gridlines.\n",
    "    plt.grid(False)\n",
    "    \n",
    "    plt.suptitle('Distributions')\n"
   ]
  },
  {
   "cell_type": "code",
   "execution_count": null,
   "metadata": {},
   "outputs": [],
   "source": [
    "#visualize Race data using a countplot\n",
    "plt.figure(figsize=(10,6))\n",
    "sns.countplot(x='Race', data=train)\n",
    "plt.show()"
   ]
  },
  {
   "cell_type": "markdown",
   "metadata": {},
   "source": [
    "_________________________________"
   ]
  },
  {
   "cell_type": "markdown",
   "metadata": {},
   "source": [
    "### Bivariate Exploration"
   ]
  },
  {
   "cell_type": "code",
   "execution_count": null,
   "metadata": {},
   "outputs": [],
   "source": [
    "#plot age and race\n",
    "sns.swarmplot(x= train.Race, y = train.Age)\n",
    "plt.title('Average Age by Race')\n",
    "None"
   ]
  },
  {
   "cell_type": "code",
   "execution_count": null,
   "metadata": {},
   "outputs": [],
   "source": [
    "#visualize correlation with Age using Heatmap\n",
    "plt.figure(figsize=(6, 10))\n",
    "heatmap = sns.heatmap(train.corr()[['Age']].sort_values(by='Age', ascending=False), vmin=-1, vmax=1, annot=True, cmap='mako_r')\n",
    "heatmap.set_title('Features Correlating with Age', fontdict={'fontsize':18}, pad=16);"
   ]
  },
  {
   "cell_type": "code",
   "execution_count": null,
   "metadata": {},
   "outputs": [],
   "source": [
    "#visualize Age and Herion deaths data using a countplot\n",
    "plt.figure(figsize=(12,6))\n",
    "sns.countplot(x='Age', data=train, hue='Heroin')\n",
    "plt.title('Age of Overdose Deaths having used Heroin')\n",
    "plt.show()"
   ]
  },
  {
   "cell_type": "code",
   "execution_count": null,
   "metadata": {},
   "outputs": [],
   "source": [
    "#visualize Age and Fentanyl deaths data using a countplot\n",
    "plt.figure(figsize=(12,6))\n",
    "sns.countplot(x='Age', data=train, hue='Fentanyl')\n",
    "plt.title('Age of Overdose Deaths having used Fentanyl')\n",
    "plt.show()"
   ]
  },
  {
   "cell_type": "code",
   "execution_count": null,
   "metadata": {},
   "outputs": [],
   "source": [
    "#visualize Age and Oxycodone deaths data using a countplot\n",
    "plt.figure(figsize=(12,6))\n",
    "sns.countplot(x='Age', data=train, hue='Oxycodone')\n",
    "plt.title('Age of Overdose Deaths having used Oxycodone')\n",
    "plt.show()"
   ]
  },
  {
   "cell_type": "markdown",
   "metadata": {},
   "source": [
    "______________________"
   ]
  },
  {
   "cell_type": "markdown",
   "metadata": {},
   "source": [
    "### Multivariate Exploration"
   ]
  },
  {
   "cell_type": "code",
   "execution_count": null,
   "metadata": {},
   "outputs": [],
   "source": [
    "#visualize heroin deaths by age and race\n",
    "sns.lmplot(x='Heroin', y='Age', hue='Race', data=train)\n",
    "plt.title('Age of Heroin Deaths by Race')\n",
    "plt.ylabel('Age')\n",
    "plt.xlabel('Heroin Death (yes or no)')\n",
    "plt.xlim(-0.25, 1.25)\n",
    "None"
   ]
  },
  {
   "cell_type": "code",
   "execution_count": null,
   "metadata": {
    "scrolled": true
   },
   "outputs": [],
   "source": [
    "#visualize heroin deaths by age and race\n",
    "sns.lmplot(x='White', y='Age', hue='MannerofDeath', data=train)\n",
    "plt.title('Age of White Race Deaths by Manner')\n",
    "plt.ylabel('Age')\n",
    "plt.xlabel('Race White (yes or no)')\n",
    "plt.xlim(-0.25, 1.25)\n",
    "None"
   ]
  },
  {
   "cell_type": "markdown",
   "metadata": {},
   "source": [
    "### Takeaways from Explore"
   ]
  },
  {
   "cell_type": "markdown",
   "metadata": {},
   "source": [
    "- Heroin, Oxycodone, Black (race) have the strongest correlation with age\n",
    "- The vast majority of drug overdose deaths appear to be among the white race in this dataset\n",
    "- Heroin deaths peak around age 33\n",
    "- Oxycodone deaths peak arond age 44\n",
    "- Hispanic race appears to have the eldest drug overdose death (age 87)\n",
    "- White race appears to have the youngest drug overdose death (age 14)"
   ]
  },
  {
   "cell_type": "markdown",
   "metadata": {},
   "source": [
    "<hr style=\"border:1px solid black\"> </hr>"
   ]
  },
  {
   "cell_type": "markdown",
   "metadata": {},
   "source": [
    "## Hypothesis Testing"
   ]
  },
  {
   "cell_type": "markdown",
   "metadata": {},
   "source": [
    "**Hypothesis 1: T-Test (continuous vs discrete)**\n",
    "- $H_0$: There is a relationship between Age and White Race drug overdose deaths\n",
    "- $H_a$: There is not a relationship between Age and With Race drug overdose deaths"
   ]
  },
  {
   "cell_type": "code",
   "execution_count": null,
   "metadata": {},
   "outputs": [],
   "source": [
    "#set alpha\n",
    "alpha = .05"
   ]
  },
  {
   "cell_type": "code",
   "execution_count": null,
   "metadata": {},
   "outputs": [],
   "source": [
    "#sample size, must be more then 30 to meet assumption\n",
    "train.Age.count(), train.White.count()"
   ]
  },
  {
   "cell_type": "code",
   "execution_count": null,
   "metadata": {},
   "outputs": [],
   "source": [
    "#check variance\n",
    "train.Age.var(), train.White.var()\n",
    "\n",
    "#this shows not equal varient"
   ]
  },
  {
   "cell_type": "code",
   "execution_count": null,
   "metadata": {},
   "outputs": [],
   "source": [
    "#t-test on entire train set\n",
    "t, p = stats.ttest_ind(train.Age,train.White, equal_var=False)\n",
    "t,p"
   ]
  },
  {
   "cell_type": "code",
   "execution_count": null,
   "metadata": {},
   "outputs": [],
   "source": [
    "hypothesis_df = pd.DataFrame(data=[{\n",
    "    'Hypothesis': '#1',\n",
    "    'p-value': (round(p,4)),\n",
    "    't-value': (round(t,3)),\n",
    "    'r-value': 'N/A',\n",
    "    'alpha': alpha,\n",
    "    'Result': 'fail to reject $H_o$'\n",
    "    }])\n",
    "\n",
    "hypothesis_df"
   ]
  },
  {
   "cell_type": "markdown",
   "metadata": {},
   "source": [
    "_______________________"
   ]
  },
  {
   "cell_type": "markdown",
   "metadata": {},
   "source": [
    "**Hypothesis 2: T-Test (continuous vs discrete)**\n",
    "- $H_0$: There is a relationship between Age and Oxycodone drug overdose deaths\n",
    "- $H_a$: There is not a relationship between Age and Oxycodone drug overdose deaths"
   ]
  },
  {
   "cell_type": "code",
   "execution_count": null,
   "metadata": {},
   "outputs": [],
   "source": [
    "# sample size, must be more then 30 to meet assumption\n",
    "train.Age.count(), train.Oxycodone.count()"
   ]
  },
  {
   "cell_type": "code",
   "execution_count": null,
   "metadata": {},
   "outputs": [],
   "source": [
    "#check variance\n",
    "train.Age.var(), train.Oxycodone.var()\n",
    "\n",
    "#this shows not equal varient"
   ]
  },
  {
   "cell_type": "code",
   "execution_count": null,
   "metadata": {},
   "outputs": [],
   "source": [
    "#t-test on entire train set\n",
    "t, p = stats.ttest_ind(train.Age,train.Oxycodone, equal_var=False)\n",
    "t,p"
   ]
  },
  {
   "cell_type": "code",
   "execution_count": null,
   "metadata": {},
   "outputs": [],
   "source": [
    "if p < alpha:\n",
    "    print(f'We calculate a t of {t:3f} and a statistical certainty p of {p:4f}')\n",
    "    print(f'Because p {p:3f} < α  {alpha:3f}, we fail to reject our null hypothesis')\n",
    "else:\n",
    "    print(f'We reject our null hypothesis')"
   ]
  },
  {
   "cell_type": "code",
   "execution_count": null,
   "metadata": {},
   "outputs": [],
   "source": [
    "hypothesis_df = hypothesis_df.append(\n",
    "    {\n",
    "    'Hypothesis': '#2',\n",
    "    'p-value': (round(p,4)),\n",
    "    't-value': (round(t,4)),\n",
    "    'r-value': 'N/A',\n",
    "    'alpha': alpha,\n",
    "    'Result': 'fail to reject $H_o$'},\n",
    "    ignore_index= True\n",
    "    )\n",
    "\n",
    "hypothesis_df"
   ]
  },
  {
   "cell_type": "markdown",
   "metadata": {},
   "source": [
    "_____________________________"
   ]
  },
  {
   "cell_type": "markdown",
   "metadata": {},
   "source": [
    "**Hypothesis 3: T-Test (continuous vs discrete)**\n",
    "- $H_0$: There is a relationship between Age and Heroin drug overdose deaths\n",
    "- $H_a$: There is not a relationship between Age and Heroin drug overdose deaths"
   ]
  },
  {
   "cell_type": "code",
   "execution_count": null,
   "metadata": {},
   "outputs": [],
   "source": [
    "# sample size, must be more then 30 to meet assumption\n",
    "train.Age.count(), train.Heroin.count()"
   ]
  },
  {
   "cell_type": "code",
   "execution_count": null,
   "metadata": {},
   "outputs": [],
   "source": [
    "#check variance\n",
    "train.Age.var(), train.Heroin.var()\n",
    "\n",
    "#this shows not equal varient"
   ]
  },
  {
   "cell_type": "code",
   "execution_count": null,
   "metadata": {},
   "outputs": [],
   "source": [
    "#t-test on entire train set\n",
    "t, p = stats.ttest_ind(train.Age,train.Heroin, equal_var=False)\n",
    "t,p"
   ]
  },
  {
   "cell_type": "code",
   "execution_count": null,
   "metadata": {},
   "outputs": [],
   "source": [
    "if p < alpha:\n",
    "    print(f'We calculate a t of {t:3f} and a statistical certainty p of {p:4f}')\n",
    "    print(f'Because p {p:3f} < α  {alpha:3f}, we fail to reject our null hypothesis')\n",
    "else:\n",
    "    print(f'We reject our null hypothesis')"
   ]
  },
  {
   "cell_type": "code",
   "execution_count": null,
   "metadata": {},
   "outputs": [],
   "source": [
    "hypothesis_df = hypothesis_df.append(\n",
    "    {\n",
    "    'Hypothesis': '#2',\n",
    "    'p-value': (round(p,4)),\n",
    "    't-value': (round(t,4)),\n",
    "    'r-value': 'N/A',\n",
    "    'alpha': alpha,\n",
    "    'Result': 'fail to reject $H_o$'},\n",
    "    ignore_index= True\n",
    "    )\n",
    "\n",
    "hypothesis_df"
   ]
  },
  {
   "cell_type": "markdown",
   "metadata": {},
   "source": [
    "__________________________"
   ]
  },
  {
   "cell_type": "markdown",
   "metadata": {},
   "source": [
    "**Hypothesis 4: $X^2$ Test (discrete vs discrete)**\n",
    "- $H_0$: There is a relationship between Heroin and Oxycodone drug overdose deaths\n",
    "- $H_a$: There is not a relationship between Heroin and Oxycodone drug overdose deaths"
   ]
  },
  {
   "cell_type": "code",
   "execution_count": null,
   "metadata": {},
   "outputs": [],
   "source": [
    "#pearsons correlation on entire train set\n",
    "#number of rows\n",
    "n = train.shape[0] \n",
    "\n",
    "#degrees of freedom- how much the data can vary\n",
    "deg_f = n-2 \n",
    "\n",
    "#confidence interval (!)\n",
    "conf_in = 0.95\n",
    "\n",
    "alpha = 1- conf_in"
   ]
  },
  {
   "cell_type": "code",
   "execution_count": null,
   "metadata": {},
   "outputs": [],
   "source": [
    "x= train.Heroin\n",
    "y= train.Oxycodone"
   ]
  },
  {
   "cell_type": "code",
   "execution_count": null,
   "metadata": {},
   "outputs": [],
   "source": [
    "r, p = stats.pearsonr(x,y)\n",
    "r, p"
   ]
  },
  {
   "cell_type": "code",
   "execution_count": null,
   "metadata": {},
   "outputs": [],
   "source": [
    "if p < alpha:\n",
    "    print(f'We calculate a t of {t:3f} and a statistical certainty p of {p:4f}')\n",
    "    print(f'Because p {p:3f} < α  {alpha:3f}, we fail to reject our null hypothesis')\n",
    "else:\n",
    "    print(f'We reject our null hypothesis')"
   ]
  },
  {
   "cell_type": "code",
   "execution_count": null,
   "metadata": {},
   "outputs": [],
   "source": [
    "hypothesis_df = hypothesis_df.append(\n",
    "    {\n",
    "    'Hypothesis': '#4',\n",
    "    'p-value': (round(p,4)),\n",
    "    't-value': 'N/A',\n",
    "    'r-value': (round(r,4)),\n",
    "    'alpha': alpha,\n",
    "    'Result': 'fail to reject $H_o$'},\n",
    "    ignore_index= True\n",
    "    )\n",
    "\n",
    "hypothesis_df"
   ]
  },
  {
   "cell_type": "markdown",
   "metadata": {},
   "source": [
    "_______________________"
   ]
  },
  {
   "cell_type": "markdown",
   "metadata": {},
   "source": [
    "**Hypothesis 5: $X^2$ Test (discrete vs discrete)**\n",
    "- $H_0$: There is a relationship between Fentanyl and Oxycodone drug overdose deaths\n",
    "- $H_a$: There is not a relationship between Fentanyl and Oxycodone drug overdose deaths"
   ]
  },
  {
   "cell_type": "code",
   "execution_count": null,
   "metadata": {},
   "outputs": [],
   "source": [
    "#pearsons correlation on entire train set\n",
    "#number of rows\n",
    "n = train.shape[0] \n",
    "\n",
    "#degrees of freedom- how much the data can vary\n",
    "deg_f = n-2 \n",
    "\n",
    "#confidence interval (!)\n",
    "conf_in = 0.95\n",
    "\n",
    "alpha = 1- conf_in"
   ]
  },
  {
   "cell_type": "code",
   "execution_count": null,
   "metadata": {},
   "outputs": [],
   "source": [
    "x= train.Fentanyl\n",
    "y= train.Oxycodone"
   ]
  },
  {
   "cell_type": "code",
   "execution_count": null,
   "metadata": {},
   "outputs": [],
   "source": [
    "r, p = stats.pearsonr(x,y)\n",
    "r, p"
   ]
  },
  {
   "cell_type": "code",
   "execution_count": null,
   "metadata": {},
   "outputs": [],
   "source": [
    "if p < alpha:\n",
    "    print(f'We calculate a t of {t:3f} and a statistical certainty p of {p:4f}')\n",
    "    print(f'Because p {p:3f} < α  {alpha:3f}, we fail to reject our null hypothesis')\n",
    "else:\n",
    "    print(f'We reject our null hypothesis')"
   ]
  },
  {
   "cell_type": "code",
   "execution_count": null,
   "metadata": {},
   "outputs": [],
   "source": [
    "hypothesis_df = hypothesis_df.append(\n",
    "    {\n",
    "    'Hypothesis': '#5',\n",
    "    'p-value': (round(p,4)),\n",
    "    't-value': 'N/A',\n",
    "    'r-value': (round(r,4)),\n",
    "    'alpha': alpha,\n",
    "    'Result': 'fail to reject $H_o$'},\n",
    "    ignore_index= True\n",
    "    )\n",
    "\n",
    "hypothesis_df"
   ]
  },
  {
   "cell_type": "markdown",
   "metadata": {},
   "source": [
    "____________________________________"
   ]
  },
  {
   "cell_type": "markdown",
   "metadata": {},
   "source": [
    "### Takeaways from Hypothesis\n",
    "- I failed to reject $H_0$ #1. Suggesting that there is a relation between age and white race drug overdose deaths\n",
    "- I failed to reject $H_0$ #2. Suggesting that there is a relation between age and Oxycodone drug overdose deaths\n",
    "- I failed to reject $H_0$ #3. Suggesting that there is a relation between age and Heroin drug overdose deaths\n",
    "- I failed to rejected $H_0$ #4. Suggesting that there is a relationship between Heroin and Oxycodone drug overdose deaths\n",
    "- I failed to rejected $H_0$ #5. Suggesting that there is a relationship between Fentanyl and Oxycodone drug overdose deaths"
   ]
  },
  {
   "cell_type": "markdown",
   "metadata": {},
   "source": [
    "<hr style=\"border:2px solid black\"> </hr>"
   ]
  },
  {
   "cell_type": "markdown",
   "metadata": {},
   "source": [
    "# Model"
   ]
  },
  {
   "cell_type": "code",
   "execution_count": null,
   "metadata": {},
   "outputs": [],
   "source": [
    "#take a look at X_train dataframe\n",
    "X_train.head()"
   ]
  },
  {
   "cell_type": "markdown",
   "metadata": {},
   "source": [
    "## Create Baseline"
   ]
  },
  {
   "cell_type": "code",
   "execution_count": null,
   "metadata": {},
   "outputs": [],
   "source": [
    "#create a baseline\n",
    "# We need y_train and y_validate to be dataframes to append the new columns with predicted values. \n",
    "y_train = pd.DataFrame(y_train)\n",
    "y_validate = pd.DataFrame(y_validate)"
   ]
  },
  {
   "cell_type": "code",
   "execution_count": null,
   "metadata": {},
   "outputs": [],
   "source": [
    "# 1. Predict assessed_value_pred_mean\n",
    "\n",
    "#predicted mean will be the mean of value_assessed column\n",
    "age_pred_mean = y_train['Age'].mean()\n",
    "#new column created\n",
    "y_train['age_pred_mean'] = age_pred_mean\n",
    "y_validate['age_pred_mean'] = age_pred_mean"
   ]
  },
  {
   "cell_type": "code",
   "execution_count": null,
   "metadata": {},
   "outputs": [],
   "source": [
    "y_train.head()"
   ]
  },
  {
   "cell_type": "code",
   "execution_count": null,
   "metadata": {},
   "outputs": [],
   "source": [
    "# 2. RMSE of value_assessed_pred_mean\n",
    "\n",
    "#root mean squared error of the predicted mean\n",
    "rmse_train = mean_squared_error(y_train.Age, y_train.age_pred_mean)**(1/2)\n",
    "rmse_validate = mean_squared_error(y_validate.Age, y_validate.age_pred_mean)**(1/2)\n",
    "print(\"RMSE using Mean\\nTrain/In-Sample: \", round(rmse_train, 3), \n",
    "      \"\\nValidate/Out-of-Sample: \", round(rmse_validate, 3))"
   ]
  },
  {
   "cell_type": "code",
   "execution_count": null,
   "metadata": {},
   "outputs": [],
   "source": [
    "#create a dataframe to make data easier to visualize/understand\n",
    "metric_df = pd.DataFrame(data=[{\n",
    "    'model': 'mean_baseline',\n",
    "    'rmse_train': (round(rmse_train,3)),\n",
    "    'rmse_validate': (round(rmse_validate,3)),\n",
    "    'r^2': (round(explained_variance_score(y_validate.Age, y_validate.age_pred_mean),3))}])\n",
    "\n",
    "metric_df\n",
    "#we now have out baseline model to work off of"
   ]
  },
  {
   "cell_type": "markdown",
   "metadata": {},
   "source": [
    "_________________________"
   ]
  },
  {
   "cell_type": "markdown",
   "metadata": {},
   "source": [
    "## OLS Model"
   ]
  },
  {
   "cell_type": "code",
   "execution_count": null,
   "metadata": {},
   "outputs": [],
   "source": [
    "#set X_train to drivers only\n",
    "#we do not want to include all columns in this because it could cause overfitting\n",
    "#these two features have the highest correlation\n",
    "drivers_train = X_train[['Oxycodone', 'Heroin']]\n",
    "\n",
    "#set X_validate_scaled to drivers only\n",
    "drivers_validate= X_validate[['Oxycodone', 'Heroin']]\n",
    "\n",
    "#set X_test_scaled to drivers only\n",
    "drivers_test= X_test[['Oxycodone', 'Heroin']]"
   ]
  },
  {
   "cell_type": "code",
   "execution_count": null,
   "metadata": {},
   "outputs": [],
   "source": [
    "#create the model \n",
    "lm = LinearRegression(normalize=True)\n",
    "\n",
    "#fit\n",
    "lm.fit(drivers_train, y_train.Age)"
   ]
  },
  {
   "cell_type": "code",
   "execution_count": null,
   "metadata": {},
   "outputs": [],
   "source": [
    "# predict train\n",
    "y_train['age_pred_lm'] = lm.predict(drivers_train)\n",
    "\n",
    "# evaluate: rmse\n",
    "rmse_train = mean_squared_error(y_train.Age, y_train.age_pred_lm)**(1/2)\n",
    "\n",
    "# predict validate\n",
    "y_validate['age_pred_lm'] = lm.predict(drivers_validate)\n",
    "\n",
    "# evaluate: rmse\n",
    "rmse_validate = mean_squared_error(y_validate.Age, y_validate.age_pred_lm)**(1/2)\n",
    "\n",
    "print(\"RMSE for OLS using LinearRegression\\nTraining/In-Sample: \", rmse_train, \n",
    "      \"\\nValidation/Out-of-Sample: \", rmse_validate)"
   ]
  },
  {
   "cell_type": "code",
   "execution_count": null,
   "metadata": {},
   "outputs": [],
   "source": [
    "#create visual to see baseline vs LinearRegression model\n",
    "metric_df = metric_df.append(\n",
    "    {\n",
    "    'model': 'OLS',\n",
    "    'rmse_train': (round(rmse_train,3)),\n",
    "    'rmse_validate': (round(rmse_validate,3)),\n",
    "    'r^2': (round(explained_variance_score(y_validate.Age, y_validate.age_pred_lm),3))}, ignore_index=True)\n",
    "\n",
    "metric_df"
   ]
  },
  {
   "cell_type": "markdown",
   "metadata": {},
   "source": [
    "_____________________"
   ]
  },
  {
   "cell_type": "markdown",
   "metadata": {},
   "source": [
    "## Lasso Lars Model"
   ]
  },
  {
   "cell_type": "code",
   "execution_count": null,
   "metadata": {},
   "outputs": [],
   "source": [
    "# create the model object\n",
    "lars = LassoLars(alpha= 2)\n",
    "\n",
    "# fit the model to our training data. We must specify the column in y_train, \n",
    "# since we have converted it to a dataframe from a series! \n",
    "lars.fit(drivers_train, y_train.Age)\n",
    "\n",
    "# predict train\n",
    "y_train['age_pred_lars'] = lars.predict(drivers_train)\n",
    "\n",
    "# evaluate: rmse\n",
    "rmse_train = mean_squared_error(y_train.Age, y_train.age_pred_lars)**(1/2)\n",
    "\n",
    "# predict validate\n",
    "y_validate['age_pred_lars'] = lars.predict(drivers_validate)\n",
    "\n",
    "# evaluate: rmse\n",
    "rmse_validate = mean_squared_error(y_validate.Age, y_validate.age_pred_lars)**(1/2)\n",
    "\n",
    "print(\"RMSE for OLS using LinearRegression\\nTraining/In-Sample: \", rmse_train, \n",
    "      \"\\nValidation/Out-of-Sample: \", rmse_validate)"
   ]
  },
  {
   "cell_type": "code",
   "execution_count": null,
   "metadata": {},
   "outputs": [],
   "source": [
    "#shows baseline vs LinearRegression vs LassoLars\n",
    "metric_df = metric_df.append(\n",
    "    {\n",
    "    'model': 'LassoLars (alpha 2)',\n",
    "    'rmse_train': (round(rmse_train,3)),\n",
    "    'rmse_validate': (round(rmse_validate,3)),\n",
    "    'r^2': (round(explained_variance_score(y_validate.Age, y_validate.age_pred_lars),3))}, ignore_index=True)\n",
    "\n",
    "metric_df"
   ]
  },
  {
   "cell_type": "markdown",
   "metadata": {},
   "source": [
    "______________"
   ]
  },
  {
   "cell_type": "markdown",
   "metadata": {},
   "source": [
    "## Tweedie Regressor Model"
   ]
  },
  {
   "cell_type": "code",
   "execution_count": null,
   "metadata": {},
   "outputs": [],
   "source": [
    "# create the model object\n",
    "glm = TweedieRegressor(power=1, alpha=1)\n",
    "\n",
    "# fit the model to our training data. We must specify the column in y_train, \n",
    "# since we have converted it to a dataframe from a series! \n",
    "glm.fit(drivers_train, y_train.Age)\n",
    "\n",
    "# predict train\n",
    "y_train['age_pred_glm'] = glm.predict(drivers_train)\n",
    "\n",
    "# evaluate: rmse\n",
    "rmse_train = (mean_squared_error(y_train.Age, y_train.age_pred_glm)**(1/2))\n",
    "\n",
    "# predict validate\n",
    "y_validate['age_pred_glm'] = glm.predict(drivers_validate)\n",
    "\n",
    "# evaluate: rmse\n",
    "rmse_validate = mean_squared_error(y_validate.Age, y_validate.age_pred_glm)**(1/2)\n",
    "\n",
    "print(\"RMSE for OLS using LinearRegression\\nTraining/In-Sample: \", rmse_train, \n",
    "      \"\\nValidation/Out-of-Sample: \", rmse_validate)"
   ]
  },
  {
   "cell_type": "code",
   "execution_count": null,
   "metadata": {},
   "outputs": [],
   "source": [
    "#compares all four models\n",
    "metric_df = metric_df.append(\n",
    "    {\n",
    "    'model': 'TweedieRegressor (power 1, alpha 2)',\n",
    "    'rmse_train': (round(rmse_train,3)),\n",
    "    'rmse_validate': (round(rmse_validate,3)),\n",
    "    'r^2': (round(explained_variance_score(y_validate.Age, y_validate.age_pred_glm),3))}, ignore_index=True)\n",
    "\n",
    "metric_df"
   ]
  },
  {
   "cell_type": "markdown",
   "metadata": {},
   "source": [
    "____________________"
   ]
  },
  {
   "cell_type": "code",
   "execution_count": null,
   "metadata": {},
   "outputs": [],
   "source": [
    "# plot to visualize actual vs predicted. \n",
    "plt.figure(figsize=(16,8))\n",
    "plt.hist(y_validate.Age, color='blue', alpha=.5, label=\"Actual Age\")\n",
    "plt.hist(y_validate.age_pred_lm, color='red', alpha=.5, label=\"Model: OLS\")\n",
    "plt.hist(y_validate.age_pred_glm, color='yellow', alpha=.5, label=\"Model: TweedieRegressor\")\n",
    "plt.hist(y_validate.age_pred_lars, color='green', alpha=.5, label=\"Model: LassoLars\")\n",
    "plt.xlabel(\"Age\")\n",
    "plt.ylabel(\"Number of Homes\")\n",
    "plt.title(\"Distribution of Actual Age vs Predicted Age for Top Performing Models\")\n",
    "plt.legend()\n",
    "plt.show()"
   ]
  },
  {
   "cell_type": "markdown",
   "metadata": {},
   "source": [
    "____________________"
   ]
  },
  {
   "cell_type": "markdown",
   "metadata": {},
   "source": [
    "### Use Test set on Best Performing Model"
   ]
  },
  {
   "cell_type": "code",
   "execution_count": null,
   "metadata": {},
   "outputs": [],
   "source": [
    "y_test = pd.DataFrame(y_test)\n",
    "\n",
    "# predict on test\n",
    "y_test['age_pred_lm'] = lm.predict(drivers_test)\n",
    "\n",
    "# evaluate: rmse\n",
    "rmse_test = mean_squared_error(y_test.Age, y_test.age_pred_lm)**(1/2)\n",
    "\n",
    "print(\"RMSE for OLS Model using LinearRegression\\nOut-of-Sample Performance: \", rmse_test)"
   ]
  },
  {
   "cell_type": "markdown",
   "metadata": {},
   "source": [
    "### Takeaways from Modeling:\n",
    "- OLS model performs better than the baseline and other predictive models\n",
    "- The drop of between train and validate was not significant"
   ]
  },
  {
   "cell_type": "markdown",
   "metadata": {},
   "source": [
    "<hr style=\"border:2px solid black\"> </hr>"
   ]
  },
  {
   "cell_type": "markdown",
   "metadata": {},
   "source": [
    "## Final Takeaways and Next Steps:"
   ]
  },
  {
   "cell_type": "markdown",
   "metadata": {},
   "source": [
    "- OLS Model performed the best, outperforming the baseline and other models\n",
    "- Average age does not appear to change significantly\n",
    "- I failed to reject all $H_0$.\n",
    "\n",
    "<br>\n",
    "\n",
    "- With more time, I would like to:\n",
    "    - continue looking into my Time Series project available here: [Github Repo](https://github.com/natasharivers/individual_project/blob/main/Initial%20Time%20Series%20Notebook.ipynb)\n",
    "        - Does average age change over time?\n",
    "        - Do Heroin deaths increase over time?\n",
    "        \n",
    "<br>\n",
    "\n",
    "- I would like to see more data\n",
    "    - possibly from other areas and \n",
    "    - more recent years (2020 and 2021)"
   ]
  },
  {
   "cell_type": "code",
   "execution_count": null,
   "metadata": {},
   "outputs": [],
   "source": []
  }
 ],
 "metadata": {
  "kernelspec": {
   "display_name": "Python 3",
   "language": "python",
   "name": "python3"
  },
  "language_info": {
   "codemirror_mode": {
    "name": "ipython",
    "version": 3
   },
   "file_extension": ".py",
   "mimetype": "text/x-python",
   "name": "python",
   "nbconvert_exporter": "python",
   "pygments_lexer": "ipython3",
   "version": "3.8.5"
  }
 },
 "nbformat": 4,
 "nbformat_minor": 4
}

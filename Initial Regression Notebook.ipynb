{
 "cells": [
  {
   "cell_type": "markdown",
   "metadata": {},
   "source": [
    "# Drug Deaths\n",
    "## Individual Project- Regression\n",
    "### Natasha Rivers\n",
    "#### July 14, 2021"
   ]
  },
  {
   "cell_type": "markdown",
   "metadata": {},
   "source": [
    "<hr style=\"border:1px solid black\"> </hr>"
   ]
  },
  {
   "cell_type": "markdown",
   "metadata": {},
   "source": [
    "## Project Scope"
   ]
  },
  {
   "cell_type": "markdown",
   "metadata": {},
   "source": [
    "**Methodology Used**: Regression\n",
    "\n",
    "**Target Variable**: Age\n",
    "\n",
    "**Primary Question**: Does average age play a role in drug related deaths?"
   ]
  },
  {
   "cell_type": "markdown",
   "metadata": {},
   "source": [
    "<hr style=\"border:3px solid black\"> </hr>"
   ]
  },
  {
   "cell_type": "markdown",
   "metadata": {},
   "source": [
    "## Imports"
   ]
  },
  {
   "cell_type": "code",
   "execution_count": 1,
   "metadata": {},
   "outputs": [],
   "source": [
    "import pandas as pd\n",
    "import matplotlib.pyplot as plt\n",
    "import seaborn as sns\n",
    "import numpy as np\n",
    "from scipy import stats\n",
    "\n",
    "import prepare\n",
    "\n",
    "import warnings\n",
    "warnings.filterwarnings(\"ignore\")\n",
    "\n",
    "from sklearn.feature_selection import RFE, SelectKBest, f_regression\n",
    "from sklearn.linear_model import LinearRegression, TweedieRegressor, LassoLars\n",
    "from sklearn.preprocessing import MinMaxScaler\n",
    "from sklearn.metrics import mean_squared_error, explained_variance_score"
   ]
  },
  {
   "cell_type": "markdown",
   "metadata": {},
   "source": [
    "## Acquire"
   ]
  },
  {
   "cell_type": "code",
   "execution_count": 2,
   "metadata": {},
   "outputs": [],
   "source": [
    "df = pd.read_csv('drug_deaths.csv')"
   ]
  },
  {
   "cell_type": "code",
   "execution_count": 3,
   "metadata": {},
   "outputs": [
    {
     "data": {
      "text/html": [
       "<div>\n",
       "<style scoped>\n",
       "    .dataframe tbody tr th:only-of-type {\n",
       "        vertical-align: middle;\n",
       "    }\n",
       "\n",
       "    .dataframe tbody tr th {\n",
       "        vertical-align: top;\n",
       "    }\n",
       "\n",
       "    .dataframe thead th {\n",
       "        text-align: right;\n",
       "    }\n",
       "</style>\n",
       "<table border=\"1\" class=\"dataframe\">\n",
       "  <thead>\n",
       "    <tr style=\"text-align: right;\">\n",
       "      <th></th>\n",
       "      <th>Unnamed: 0</th>\n",
       "      <th>ID</th>\n",
       "      <th>Date</th>\n",
       "      <th>DateType</th>\n",
       "      <th>Age</th>\n",
       "      <th>Sex</th>\n",
       "      <th>Race</th>\n",
       "      <th>ResidenceCity</th>\n",
       "      <th>ResidenceCounty</th>\n",
       "      <th>ResidenceState</th>\n",
       "      <th>...</th>\n",
       "      <th>Tramad</th>\n",
       "      <th>Morphine_NotHeroin</th>\n",
       "      <th>Hydromorphone</th>\n",
       "      <th>Other</th>\n",
       "      <th>OpiateNOS</th>\n",
       "      <th>AnyOpioid</th>\n",
       "      <th>MannerofDeath</th>\n",
       "      <th>DeathCityGeo</th>\n",
       "      <th>ResidenceCityGeo</th>\n",
       "      <th>InjuryCityGeo</th>\n",
       "    </tr>\n",
       "  </thead>\n",
       "  <tbody>\n",
       "    <tr>\n",
       "      <th>0</th>\n",
       "      <td>0</td>\n",
       "      <td>14-0273</td>\n",
       "      <td>06/28/2014 12:00:00 AM</td>\n",
       "      <td>1.0</td>\n",
       "      <td>NaN</td>\n",
       "      <td>NaN</td>\n",
       "      <td>NaN</td>\n",
       "      <td>NaN</td>\n",
       "      <td>NaN</td>\n",
       "      <td>NaN</td>\n",
       "      <td>...</td>\n",
       "      <td>0</td>\n",
       "      <td>0</td>\n",
       "      <td>0</td>\n",
       "      <td>NaN</td>\n",
       "      <td>0</td>\n",
       "      <td>0</td>\n",
       "      <td>Accident</td>\n",
       "      <td>CT\\n(41.575155, -72.738288)</td>\n",
       "      <td>CT\\n(41.575155, -72.738288)</td>\n",
       "      <td>CT\\n(41.575155, -72.738288)</td>\n",
       "    </tr>\n",
       "    <tr>\n",
       "      <th>1</th>\n",
       "      <td>1</td>\n",
       "      <td>13-0102</td>\n",
       "      <td>03/21/2013 12:00:00 AM</td>\n",
       "      <td>0.0</td>\n",
       "      <td>48.0</td>\n",
       "      <td>Male</td>\n",
       "      <td>Black</td>\n",
       "      <td>NORWALK</td>\n",
       "      <td>NaN</td>\n",
       "      <td>NaN</td>\n",
       "      <td>...</td>\n",
       "      <td>0</td>\n",
       "      <td>0</td>\n",
       "      <td>0</td>\n",
       "      <td>NaN</td>\n",
       "      <td>0</td>\n",
       "      <td>0</td>\n",
       "      <td>Accident</td>\n",
       "      <td>Norwalk, CT\\n(41.11805, -73.412906)</td>\n",
       "      <td>NORWALK, CT\\n(41.11805, -73.412906)</td>\n",
       "      <td>CT\\n(41.575155, -72.738288)</td>\n",
       "    </tr>\n",
       "    <tr>\n",
       "      <th>2</th>\n",
       "      <td>2</td>\n",
       "      <td>16-0165</td>\n",
       "      <td>03/13/2016 12:00:00 AM</td>\n",
       "      <td>0.0</td>\n",
       "      <td>30.0</td>\n",
       "      <td>Female</td>\n",
       "      <td>White</td>\n",
       "      <td>SANDY HOOK</td>\n",
       "      <td>FAIRFIELD</td>\n",
       "      <td>CT</td>\n",
       "      <td>...</td>\n",
       "      <td>0</td>\n",
       "      <td>0</td>\n",
       "      <td>0</td>\n",
       "      <td>NaN</td>\n",
       "      <td>0</td>\n",
       "      <td>1</td>\n",
       "      <td>Accident</td>\n",
       "      <td>Danbury, CT\\n(41.393666, -73.451539)</td>\n",
       "      <td>SANDY HOOK, CT\\n(41.419998, -73.282501)</td>\n",
       "      <td>NaN</td>\n",
       "    </tr>\n",
       "    <tr>\n",
       "      <th>3</th>\n",
       "      <td>3</td>\n",
       "      <td>16-0208</td>\n",
       "      <td>03/31/2016 12:00:00 AM</td>\n",
       "      <td>0.0</td>\n",
       "      <td>23.0</td>\n",
       "      <td>Male</td>\n",
       "      <td>White</td>\n",
       "      <td>RYE</td>\n",
       "      <td>WESTCHESTER</td>\n",
       "      <td>NY</td>\n",
       "      <td>...</td>\n",
       "      <td>0</td>\n",
       "      <td>0</td>\n",
       "      <td>0</td>\n",
       "      <td>NaN</td>\n",
       "      <td>0</td>\n",
       "      <td>1</td>\n",
       "      <td>Accident</td>\n",
       "      <td>Greenwich, CT\\n(41.026526, -73.628549)</td>\n",
       "      <td>NaN</td>\n",
       "      <td>NaN</td>\n",
       "    </tr>\n",
       "    <tr>\n",
       "      <th>4</th>\n",
       "      <td>4</td>\n",
       "      <td>13-0052</td>\n",
       "      <td>02/13/2013 12:00:00 AM</td>\n",
       "      <td>0.0</td>\n",
       "      <td>22.0</td>\n",
       "      <td>Male</td>\n",
       "      <td>Asian, Other</td>\n",
       "      <td>FLUSHING</td>\n",
       "      <td>QUEENS</td>\n",
       "      <td>NaN</td>\n",
       "      <td>...</td>\n",
       "      <td>0</td>\n",
       "      <td>0</td>\n",
       "      <td>0</td>\n",
       "      <td>NaN</td>\n",
       "      <td>0</td>\n",
       "      <td>0</td>\n",
       "      <td>Accident</td>\n",
       "      <td>Greenwich, CT\\n(41.026526, -73.628549)</td>\n",
       "      <td>NaN</td>\n",
       "      <td>CT\\n(41.575155, -72.738288)</td>\n",
       "    </tr>\n",
       "  </tbody>\n",
       "</table>\n",
       "<p>5 rows × 42 columns</p>\n",
       "</div>"
      ],
      "text/plain": [
       "   Unnamed: 0       ID                    Date  DateType   Age     Sex  \\\n",
       "0           0  14-0273  06/28/2014 12:00:00 AM       1.0   NaN     NaN   \n",
       "1           1  13-0102  03/21/2013 12:00:00 AM       0.0  48.0    Male   \n",
       "2           2  16-0165  03/13/2016 12:00:00 AM       0.0  30.0  Female   \n",
       "3           3  16-0208  03/31/2016 12:00:00 AM       0.0  23.0    Male   \n",
       "4           4  13-0052  02/13/2013 12:00:00 AM       0.0  22.0    Male   \n",
       "\n",
       "           Race ResidenceCity ResidenceCounty ResidenceState  ... Tramad  \\\n",
       "0           NaN           NaN             NaN            NaN  ...      0   \n",
       "1         Black       NORWALK             NaN            NaN  ...      0   \n",
       "2         White    SANDY HOOK       FAIRFIELD             CT  ...      0   \n",
       "3         White           RYE     WESTCHESTER             NY  ...      0   \n",
       "4  Asian, Other      FLUSHING          QUEENS            NaN  ...      0   \n",
       "\n",
       "  Morphine_NotHeroin Hydromorphone Other OpiateNOS AnyOpioid MannerofDeath  \\\n",
       "0                  0             0   NaN         0         0      Accident   \n",
       "1                  0             0   NaN         0         0      Accident   \n",
       "2                  0             0   NaN         0         1      Accident   \n",
       "3                  0             0   NaN         0         1      Accident   \n",
       "4                  0             0   NaN         0         0      Accident   \n",
       "\n",
       "                             DeathCityGeo  \\\n",
       "0             CT\\n(41.575155, -72.738288)   \n",
       "1     Norwalk, CT\\n(41.11805, -73.412906)   \n",
       "2    Danbury, CT\\n(41.393666, -73.451539)   \n",
       "3  Greenwich, CT\\n(41.026526, -73.628549)   \n",
       "4  Greenwich, CT\\n(41.026526, -73.628549)   \n",
       "\n",
       "                          ResidenceCityGeo                InjuryCityGeo  \n",
       "0              CT\\n(41.575155, -72.738288)  CT\\n(41.575155, -72.738288)  \n",
       "1      NORWALK, CT\\n(41.11805, -73.412906)  CT\\n(41.575155, -72.738288)  \n",
       "2  SANDY HOOK, CT\\n(41.419998, -73.282501)                          NaN  \n",
       "3                                      NaN                          NaN  \n",
       "4                                      NaN  CT\\n(41.575155, -72.738288)  \n",
       "\n",
       "[5 rows x 42 columns]"
      ]
     },
     "execution_count": 3,
     "metadata": {},
     "output_type": "execute_result"
    }
   ],
   "source": [
    "df.head()"
   ]
  },
  {
   "cell_type": "code",
   "execution_count": 4,
   "metadata": {},
   "outputs": [
    {
     "name": "stdout",
     "output_type": "stream",
     "text": [
      "<class 'pandas.core.frame.DataFrame'>\n",
      "RangeIndex: 5105 entries, 0 to 5104\n",
      "Data columns (total 42 columns):\n",
      " #   Column               Non-Null Count  Dtype  \n",
      "---  ------               --------------  -----  \n",
      " 0   Unnamed: 0           5105 non-null   int64  \n",
      " 1   ID                   5105 non-null   object \n",
      " 2   Date                 5103 non-null   object \n",
      " 3   DateType             5103 non-null   float64\n",
      " 4   Age                  5102 non-null   float64\n",
      " 5   Sex                  5099 non-null   object \n",
      " 6   Race                 5092 non-null   object \n",
      " 7   ResidenceCity        4932 non-null   object \n",
      " 8   ResidenceCounty      4308 non-null   object \n",
      " 9   ResidenceState       3556 non-null   object \n",
      " 10  DeathCity            5100 non-null   object \n",
      " 11  DeathCounty          4005 non-null   object \n",
      " 12  Location             5081 non-null   object \n",
      " 13  LocationifOther      590 non-null    object \n",
      " 14  DescriptionofInjury  4325 non-null   object \n",
      " 15  InjuryPlace          5039 non-null   object \n",
      " 16  InjuryCity           3349 non-null   object \n",
      " 17  InjuryCounty         2364 non-null   object \n",
      " 18  InjuryState          1424 non-null   object \n",
      " 19  COD                  5105 non-null   object \n",
      " 20  OtherSignifican      169 non-null    object \n",
      " 21  Heroin               5105 non-null   int64  \n",
      " 22  Cocaine              5105 non-null   int64  \n",
      " 23  Fentanyl             5105 non-null   object \n",
      " 24  Fentanyl_Analogue    5105 non-null   float64\n",
      " 25  Oxycodone            5105 non-null   int64  \n",
      " 26  Oxymorphone          5105 non-null   int64  \n",
      " 27  Ethanol              5105 non-null   int64  \n",
      " 28  Hydrocodone          5105 non-null   int64  \n",
      " 29  Benzodiazepine       5105 non-null   int64  \n",
      " 30  Methadone            5105 non-null   int64  \n",
      " 31  Amphet               5105 non-null   int64  \n",
      " 32  Tramad               5105 non-null   int64  \n",
      " 33  Morphine_NotHeroin   5105 non-null   object \n",
      " 34  Hydromorphone        5105 non-null   int64  \n",
      " 35  Other                435 non-null    object \n",
      " 36  OpiateNOS            5105 non-null   int64  \n",
      " 37  AnyOpioid            5105 non-null   object \n",
      " 38  MannerofDeath        5095 non-null   object \n",
      " 39  DeathCityGeo         5105 non-null   object \n",
      " 40  ResidenceCityGeo     5012 non-null   object \n",
      " 41  InjuryCityGeo        5027 non-null   object \n",
      "dtypes: float64(3), int64(13), object(26)\n",
      "memory usage: 1.6+ MB\n"
     ]
    }
   ],
   "source": [
    "df.info()"
   ]
  },
  {
   "cell_type": "markdown",
   "metadata": {},
   "source": [
    "### Takeaways from Acquire:\n",
    "- imported the csv into Pandas and created a dataframe\n",
    "- original dataframe contains:\n",
    "    - 41 columns \n",
    "        - multiple data types\n",
    "    - 5105 entries\n",
    "- will likely need to:\n",
    "    - drop some columns\n",
    "    - rename columns\n",
    "    - change data types\n",
    "- dummies already appear to have been created\n",
    "- contains many nulls"
   ]
  },
  {
   "cell_type": "markdown",
   "metadata": {},
   "source": [
    "<hr style=\"border:2px solid black\"> </hr>"
   ]
  },
  {
   "cell_type": "markdown",
   "metadata": {},
   "source": [
    "## Prepare"
   ]
  },
  {
   "cell_type": "code",
   "execution_count": 5,
   "metadata": {},
   "outputs": [
    {
     "data": {
      "text/plain": [
       "(5105, 42)"
      ]
     },
     "execution_count": 5,
     "metadata": {},
     "output_type": "execute_result"
    }
   ],
   "source": [
    "df.shape"
   ]
  },
  {
   "cell_type": "code",
   "execution_count": 6,
   "metadata": {},
   "outputs": [],
   "source": [
    "# replace nan values (resulting in no loss of entries)\n",
    "df = df.replace(r'^\\s*$', np.nan, regex=True)"
   ]
  },
  {
   "cell_type": "code",
   "execution_count": 7,
   "metadata": {},
   "outputs": [
    {
     "data": {
      "text/plain": [
       "(5105, 42)"
      ]
     },
     "execution_count": 7,
     "metadata": {},
     "output_type": "execute_result"
    }
   ],
   "source": [
    "df.shape"
   ]
  },
  {
   "cell_type": "code",
   "execution_count": 8,
   "metadata": {},
   "outputs": [
    {
     "data": {
      "text/plain": [
       "Unnamed: 0                0\n",
       "ID                        0\n",
       "Date                      2\n",
       "DateType                  2\n",
       "Age                       3\n",
       "Sex                       6\n",
       "Race                     13\n",
       "ResidenceCity           173\n",
       "ResidenceCounty         797\n",
       "ResidenceState         1549\n",
       "DeathCity                 5\n",
       "DeathCounty            1100\n",
       "Location                 24\n",
       "LocationifOther        4515\n",
       "DescriptionofInjury     780\n",
       "InjuryPlace              66\n",
       "InjuryCity             1756\n",
       "InjuryCounty           2741\n",
       "InjuryState            3681\n",
       "COD                       0\n",
       "OtherSignifican        4936\n",
       "Heroin                    0\n",
       "Cocaine                   0\n",
       "Fentanyl                  0\n",
       "Fentanyl_Analogue         0\n",
       "Oxycodone                 0\n",
       "Oxymorphone               0\n",
       "Ethanol                   0\n",
       "Hydrocodone               0\n",
       "Benzodiazepine            0\n",
       "Methadone                 0\n",
       "Amphet                    0\n",
       "Tramad                    0\n",
       "Morphine_NotHeroin        0\n",
       "Hydromorphone             0\n",
       "Other                  4670\n",
       "OpiateNOS                 0\n",
       "AnyOpioid                 0\n",
       "MannerofDeath            10\n",
       "DeathCityGeo              0\n",
       "ResidenceCityGeo         93\n",
       "InjuryCityGeo            78\n",
       "dtype: int64"
      ]
     },
     "execution_count": 8,
     "metadata": {},
     "output_type": "execute_result"
    }
   ],
   "source": [
    "#check for nulls\n",
    "df.isnull().sum()"
   ]
  },
  {
   "cell_type": "code",
   "execution_count": 9,
   "metadata": {},
   "outputs": [],
   "source": [
    "df = df.drop(columns=['Unnamed: 0', 'DateType', 'ResidenceCounty','ResidenceState', 'DeathCounty', 'InjuryCounty','InjuryState', 'ResidenceCityGeo', 'InjuryCityGeo', 'Other', 'OtherSignifican', 'LocationifOther', 'DeathCityGeo', 'InjuryCity'])  "
   ]
  },
  {
   "cell_type": "code",
   "execution_count": 10,
   "metadata": {},
   "outputs": [
    {
     "data": {
      "text/plain": [
       "ID                       0\n",
       "Date                     2\n",
       "Age                      3\n",
       "Sex                      6\n",
       "Race                    13\n",
       "ResidenceCity          173\n",
       "DeathCity                5\n",
       "Location                24\n",
       "DescriptionofInjury    780\n",
       "InjuryPlace             66\n",
       "COD                      0\n",
       "Heroin                   0\n",
       "Cocaine                  0\n",
       "Fentanyl                 0\n",
       "Fentanyl_Analogue        0\n",
       "Oxycodone                0\n",
       "Oxymorphone              0\n",
       "Ethanol                  0\n",
       "Hydrocodone              0\n",
       "Benzodiazepine           0\n",
       "Methadone                0\n",
       "Amphet                   0\n",
       "Tramad                   0\n",
       "Morphine_NotHeroin       0\n",
       "Hydromorphone            0\n",
       "OpiateNOS                0\n",
       "AnyOpioid                0\n",
       "MannerofDeath           10\n",
       "dtype: int64"
      ]
     },
     "execution_count": 10,
     "metadata": {},
     "output_type": "execute_result"
    }
   ],
   "source": [
    "df.isnull().sum()"
   ]
  },
  {
   "cell_type": "code",
   "execution_count": 11,
   "metadata": {},
   "outputs": [
    {
     "data": {
      "text/html": [
       "<div>\n",
       "<style scoped>\n",
       "    .dataframe tbody tr th:only-of-type {\n",
       "        vertical-align: middle;\n",
       "    }\n",
       "\n",
       "    .dataframe tbody tr th {\n",
       "        vertical-align: top;\n",
       "    }\n",
       "\n",
       "    .dataframe thead th {\n",
       "        text-align: right;\n",
       "    }\n",
       "</style>\n",
       "<table border=\"1\" class=\"dataframe\">\n",
       "  <thead>\n",
       "    <tr style=\"text-align: right;\">\n",
       "      <th></th>\n",
       "      <th>ID</th>\n",
       "      <th>Date</th>\n",
       "      <th>Age</th>\n",
       "      <th>Sex</th>\n",
       "      <th>Race</th>\n",
       "      <th>ResidenceCity</th>\n",
       "      <th>DeathCity</th>\n",
       "      <th>Location</th>\n",
       "      <th>DescriptionofInjury</th>\n",
       "      <th>InjuryPlace</th>\n",
       "      <th>...</th>\n",
       "      <th>Hydrocodone</th>\n",
       "      <th>Benzodiazepine</th>\n",
       "      <th>Methadone</th>\n",
       "      <th>Amphet</th>\n",
       "      <th>Tramad</th>\n",
       "      <th>Morphine_NotHeroin</th>\n",
       "      <th>Hydromorphone</th>\n",
       "      <th>OpiateNOS</th>\n",
       "      <th>AnyOpioid</th>\n",
       "      <th>MannerofDeath</th>\n",
       "    </tr>\n",
       "  </thead>\n",
       "  <tbody>\n",
       "    <tr>\n",
       "      <th>0</th>\n",
       "      <td>14-0273</td>\n",
       "      <td>06/28/2014 12:00:00 AM</td>\n",
       "      <td>NaN</td>\n",
       "      <td>NaN</td>\n",
       "      <td>NaN</td>\n",
       "      <td>NaN</td>\n",
       "      <td>NaN</td>\n",
       "      <td>NaN</td>\n",
       "      <td>substance</td>\n",
       "      <td>NaN</td>\n",
       "      <td>...</td>\n",
       "      <td>1</td>\n",
       "      <td>1</td>\n",
       "      <td>0</td>\n",
       "      <td>0</td>\n",
       "      <td>0</td>\n",
       "      <td>0</td>\n",
       "      <td>0</td>\n",
       "      <td>0</td>\n",
       "      <td>0</td>\n",
       "      <td>Accident</td>\n",
       "    </tr>\n",
       "    <tr>\n",
       "      <th>1</th>\n",
       "      <td>13-0102</td>\n",
       "      <td>03/21/2013 12:00:00 AM</td>\n",
       "      <td>48.0</td>\n",
       "      <td>Male</td>\n",
       "      <td>Black</td>\n",
       "      <td>NORWALK</td>\n",
       "      <td>NORWALK</td>\n",
       "      <td>Hospital</td>\n",
       "      <td>NaN</td>\n",
       "      <td>NaN</td>\n",
       "      <td>...</td>\n",
       "      <td>0</td>\n",
       "      <td>0</td>\n",
       "      <td>0</td>\n",
       "      <td>0</td>\n",
       "      <td>0</td>\n",
       "      <td>0</td>\n",
       "      <td>0</td>\n",
       "      <td>0</td>\n",
       "      <td>0</td>\n",
       "      <td>Accident</td>\n",
       "    </tr>\n",
       "    <tr>\n",
       "      <th>2</th>\n",
       "      <td>16-0165</td>\n",
       "      <td>03/13/2016 12:00:00 AM</td>\n",
       "      <td>30.0</td>\n",
       "      <td>Female</td>\n",
       "      <td>White</td>\n",
       "      <td>SANDY HOOK</td>\n",
       "      <td>DANBURY</td>\n",
       "      <td>Hospital</td>\n",
       "      <td>Substance Abuse</td>\n",
       "      <td>Unknown</td>\n",
       "      <td>...</td>\n",
       "      <td>0</td>\n",
       "      <td>0</td>\n",
       "      <td>0</td>\n",
       "      <td>0</td>\n",
       "      <td>0</td>\n",
       "      <td>0</td>\n",
       "      <td>0</td>\n",
       "      <td>0</td>\n",
       "      <td>1</td>\n",
       "      <td>Accident</td>\n",
       "    </tr>\n",
       "    <tr>\n",
       "      <th>3</th>\n",
       "      <td>16-0208</td>\n",
       "      <td>03/31/2016 12:00:00 AM</td>\n",
       "      <td>23.0</td>\n",
       "      <td>Male</td>\n",
       "      <td>White</td>\n",
       "      <td>RYE</td>\n",
       "      <td>GREENWICH</td>\n",
       "      <td>Hospital</td>\n",
       "      <td>substance abuse</td>\n",
       "      <td>Residence</td>\n",
       "      <td>...</td>\n",
       "      <td>0</td>\n",
       "      <td>0</td>\n",
       "      <td>0</td>\n",
       "      <td>0</td>\n",
       "      <td>0</td>\n",
       "      <td>0</td>\n",
       "      <td>0</td>\n",
       "      <td>0</td>\n",
       "      <td>1</td>\n",
       "      <td>Accident</td>\n",
       "    </tr>\n",
       "    <tr>\n",
       "      <th>4</th>\n",
       "      <td>13-0052</td>\n",
       "      <td>02/13/2013 12:00:00 AM</td>\n",
       "      <td>22.0</td>\n",
       "      <td>Male</td>\n",
       "      <td>Asian, Other</td>\n",
       "      <td>FLUSHING</td>\n",
       "      <td>GREENWICH</td>\n",
       "      <td>Hospital</td>\n",
       "      <td>Transdermal Absorption</td>\n",
       "      <td>Other</td>\n",
       "      <td>...</td>\n",
       "      <td>0</td>\n",
       "      <td>0</td>\n",
       "      <td>0</td>\n",
       "      <td>0</td>\n",
       "      <td>0</td>\n",
       "      <td>0</td>\n",
       "      <td>0</td>\n",
       "      <td>0</td>\n",
       "      <td>0</td>\n",
       "      <td>Accident</td>\n",
       "    </tr>\n",
       "  </tbody>\n",
       "</table>\n",
       "<p>5 rows × 28 columns</p>\n",
       "</div>"
      ],
      "text/plain": [
       "        ID                    Date   Age     Sex          Race ResidenceCity  \\\n",
       "0  14-0273  06/28/2014 12:00:00 AM   NaN     NaN           NaN           NaN   \n",
       "1  13-0102  03/21/2013 12:00:00 AM  48.0    Male         Black       NORWALK   \n",
       "2  16-0165  03/13/2016 12:00:00 AM  30.0  Female         White    SANDY HOOK   \n",
       "3  16-0208  03/31/2016 12:00:00 AM  23.0    Male         White           RYE   \n",
       "4  13-0052  02/13/2013 12:00:00 AM  22.0    Male  Asian, Other      FLUSHING   \n",
       "\n",
       "   DeathCity  Location     DescriptionofInjury InjuryPlace  ... Hydrocodone  \\\n",
       "0        NaN       NaN               substance         NaN  ...           1   \n",
       "1    NORWALK  Hospital                     NaN         NaN  ...           0   \n",
       "2    DANBURY  Hospital         Substance Abuse     Unknown  ...           0   \n",
       "3  GREENWICH  Hospital         substance abuse   Residence  ...           0   \n",
       "4  GREENWICH  Hospital  Transdermal Absorption       Other  ...           0   \n",
       "\n",
       "   Benzodiazepine  Methadone Amphet  Tramad  Morphine_NotHeroin  \\\n",
       "0               1          0      0       0                   0   \n",
       "1               0          0      0       0                   0   \n",
       "2               0          0      0       0                   0   \n",
       "3               0          0      0       0                   0   \n",
       "4               0          0      0       0                   0   \n",
       "\n",
       "   Hydromorphone  OpiateNOS  AnyOpioid  MannerofDeath  \n",
       "0              0          0          0       Accident  \n",
       "1              0          0          0       Accident  \n",
       "2              0          0          1       Accident  \n",
       "3              0          0          1       Accident  \n",
       "4              0          0          0       Accident  \n",
       "\n",
       "[5 rows x 28 columns]"
      ]
     },
     "execution_count": 11,
     "metadata": {},
     "output_type": "execute_result"
    }
   ],
   "source": [
    "df.head()"
   ]
  },
  {
   "cell_type": "code",
   "execution_count": 12,
   "metadata": {},
   "outputs": [
    {
     "data": {
      "text/plain": [
       "(5105, 28)"
      ]
     },
     "execution_count": 12,
     "metadata": {},
     "output_type": "execute_result"
    }
   ],
   "source": [
    "df.shape"
   ]
  },
  {
   "cell_type": "code",
   "execution_count": 13,
   "metadata": {},
   "outputs": [],
   "source": [
    "#deal with null values left\n",
    "def handle_missing_values(df, prop_required_column = .5, prop_required_row = .75):\n",
    "    ''' \n",
    "    take in a dataframe and a proportion for columns and rows\n",
    "    return dataframe with columns and rows not meeting proportions dropped\n",
    "    '''\n",
    "    # calc column threshold\n",
    "    col_thresh = int(round(prop_required_column*df.shape[0],0)) \n",
    "    # drop columns with non-nulls less than threshold\n",
    "    df.dropna(axis=1, thresh=col_thresh, inplace=True) \n",
    "    # calc row threshhold\n",
    "    row_thresh = int(round(prop_required_row*df.shape[1],0))  \n",
    "    # drop columns with non-nulls less than threshold\n",
    "    df.dropna(axis=0, thresh=row_thresh, inplace=True) \n",
    "    \n",
    "    return df "
   ]
  },
  {
   "cell_type": "code",
   "execution_count": 14,
   "metadata": {},
   "outputs": [],
   "source": [
    "from sklearn.impute import SimpleImputer\n",
    "\n",
    "def impute(df, my_strategy, column_list):\n",
    "    ''' \n",
    "    take in a df strategy and cloumn list\n",
    "    return df with listed columns imputed using input stratagy\n",
    "    '''\n",
    "    #create imputer   \n",
    "    imputer = SimpleImputer(strategy=my_strategy)\n",
    "    #fit/transform selected columns\n",
    "    df[column_list] = imputer.fit_transform(df[column_list])\n",
    "\n",
    "    return df"
   ]
  },
  {
   "cell_type": "code",
   "execution_count": 15,
   "metadata": {},
   "outputs": [],
   "source": [
    "#drop using threshold\n",
    "df = handle_missing_values(df, prop_required_column = .5, prop_required_row = .5)\n",
    "\n",
    "#impute with mean for numeric column\n",
    "df = impute(df, 'mean', ['Age'])\n",
    "\n",
    "#imputing with most frequent value for descrete columns\n",
    "df = impute(df, 'most_frequent', ['Date', 'Sex', 'Race','ResidenceCity', 'DeathCity', 'Location', 'DescriptionofInjury', 'InjuryPlace', 'MannerofDeath']) "
   ]
  },
  {
   "cell_type": "code",
   "execution_count": 16,
   "metadata": {},
   "outputs": [
    {
     "data": {
      "text/plain": [
       "ID                     0\n",
       "Date                   0\n",
       "Age                    0\n",
       "Sex                    0\n",
       "Race                   0\n",
       "ResidenceCity          0\n",
       "DeathCity              0\n",
       "Location               0\n",
       "DescriptionofInjury    0\n",
       "InjuryPlace            0\n",
       "COD                    0\n",
       "Heroin                 0\n",
       "Cocaine                0\n",
       "Fentanyl               0\n",
       "Fentanyl_Analogue      0\n",
       "Oxycodone              0\n",
       "Oxymorphone            0\n",
       "Ethanol                0\n",
       "Hydrocodone            0\n",
       "Benzodiazepine         0\n",
       "Methadone              0\n",
       "Amphet                 0\n",
       "Tramad                 0\n",
       "Morphine_NotHeroin     0\n",
       "Hydromorphone          0\n",
       "OpiateNOS              0\n",
       "AnyOpioid              0\n",
       "MannerofDeath          0\n",
       "dtype: int64"
      ]
     },
     "execution_count": 16,
     "metadata": {},
     "output_type": "execute_result"
    }
   ],
   "source": [
    "#confirm all nulls gone\n",
    "df.isnull().sum()"
   ]
  },
  {
   "cell_type": "code",
   "execution_count": 17,
   "metadata": {},
   "outputs": [
    {
     "data": {
      "text/plain": [
       "Accident    5076\n",
       "Pending       14\n",
       "accident      13\n",
       "ACCIDENT       1\n",
       "Natural        1\n",
       "Name: MannerofDeath, dtype: int64"
      ]
     },
     "execution_count": 17,
     "metadata": {},
     "output_type": "execute_result"
    }
   ],
   "source": [
    "#need to change 'accident' to be be uniform\n",
    "df.MannerofDeath.value_counts()"
   ]
  },
  {
   "cell_type": "code",
   "execution_count": 18,
   "metadata": {},
   "outputs": [],
   "source": [
    "#change ACCIDENT to Accident for uniformity\n",
    "df = df.replace({'MannerofDeath': 'ACCIDENT'}, {'MannerofDeath': 'Accident'})\n",
    "#change accident to Accident for uniformity\n",
    "df = df.replace({'MannerofDeath': 'accident'}, {'MannerofDeath': 'Accident'})"
   ]
  },
  {
   "cell_type": "code",
   "execution_count": 19,
   "metadata": {},
   "outputs": [
    {
     "data": {
      "text/plain": [
       "Accident    5090\n",
       "Pending       14\n",
       "Natural        1\n",
       "Name: MannerofDeath, dtype: int64"
      ]
     },
     "execution_count": 19,
     "metadata": {},
     "output_type": "execute_result"
    }
   ],
   "source": [
    "#take a look, make sure it worked\n",
    "df.MannerofDeath.value_counts()"
   ]
  },
  {
   "cell_type": "code",
   "execution_count": 20,
   "metadata": {
    "scrolled": true
   },
   "outputs": [
    {
     "data": {
      "text/plain": [
       "White                     4017\n",
       "Hispanic, White            561\n",
       "Black                      433\n",
       "Hispanic, Black             24\n",
       "Unknown                     23\n",
       "Asian, Other                18\n",
       "Asian Indian                14\n",
       "Other                       11\n",
       "Chinese                      2\n",
       "Native American, Other       1\n",
       "Hawaiian                     1\n",
       "Name: Race, dtype: int64"
      ]
     },
     "execution_count": 20,
     "metadata": {},
     "output_type": "execute_result"
    }
   ],
   "source": [
    "df.Race.value_counts()"
   ]
  },
  {
   "cell_type": "code",
   "execution_count": 21,
   "metadata": {},
   "outputs": [],
   "source": [
    "#change race options\n",
    "df = df.replace({'Race': 'Asian, Other'}, {'Race': 'Other'})\n",
    "df = df.replace({'Race': 'Asian Indian'}, {'Race': 'Other'})   \n",
    "df = df.replace({'Race': 'Chinese'}, {'Race': 'Other'}) \n",
    "df = df.replace({'Race': 'Native American, Other'}, {'Race': 'Other'})\n",
    "df = df.replace({'Race': 'Hawaiian'}, {'Race': 'Other'}) \n",
    "df = df.replace({'Race': 'Hispanic, White'}, {'Race': 'Hispanic'}) \n",
    "df = df.replace({'Race': 'Hispanic, Black'}, {'Race': 'Hispanic'}) "
   ]
  },
  {
   "cell_type": "code",
   "execution_count": 22,
   "metadata": {
    "scrolled": false
   },
   "outputs": [
    {
     "data": {
      "text/plain": [
       "White       4017\n",
       "Hispanic     585\n",
       "Black        433\n",
       "Other         47\n",
       "Unknown       23\n",
       "Name: Race, dtype: int64"
      ]
     },
     "execution_count": 22,
     "metadata": {},
     "output_type": "execute_result"
    }
   ],
   "source": [
    "df.Race.value_counts()"
   ]
  },
  {
   "cell_type": "code",
   "execution_count": 23,
   "metadata": {},
   "outputs": [
    {
     "data": {
      "text/plain": [
       "<AxesSubplot:>"
      ]
     },
     "execution_count": 23,
     "metadata": {},
     "output_type": "execute_result"
    },
    {
     "data": {
      "image/png": "[encoded data removed]",
      "text/plain": [
       "<Figure size 432x288 with 1 Axes>"
      ]
     },
     "metadata": {
      "needs_background": "light"
     },
     "output_type": "display_data"
    }
   ],
   "source": [
    "df.Race.hist()"
   ]
  },
  {
   "cell_type": "code",
   "execution_count": 24,
   "metadata": {},
   "outputs": [
    {
     "data": {
      "text/html": [
       "<div>\n",
       "<style scoped>\n",
       "    .dataframe tbody tr th:only-of-type {\n",
       "        vertical-align: middle;\n",
       "    }\n",
       "\n",
       "    .dataframe tbody tr th {\n",
       "        vertical-align: top;\n",
       "    }\n",
       "\n",
       "    .dataframe thead th {\n",
       "        text-align: right;\n",
       "    }\n",
       "</style>\n",
       "<table border=\"1\" class=\"dataframe\">\n",
       "  <thead>\n",
       "    <tr style=\"text-align: right;\">\n",
       "      <th></th>\n",
       "      <th>ID</th>\n",
       "      <th>Date</th>\n",
       "      <th>Age</th>\n",
       "      <th>Sex</th>\n",
       "      <th>Race</th>\n",
       "      <th>ResidenceCity</th>\n",
       "      <th>DeathCity</th>\n",
       "      <th>Location</th>\n",
       "      <th>DescriptionofInjury</th>\n",
       "      <th>InjuryPlace</th>\n",
       "      <th>...</th>\n",
       "      <th>Hydrocodone</th>\n",
       "      <th>Benzodiazepine</th>\n",
       "      <th>Methadone</th>\n",
       "      <th>Amphet</th>\n",
       "      <th>Tramad</th>\n",
       "      <th>Morphine_NotHeroin</th>\n",
       "      <th>Hydromorphone</th>\n",
       "      <th>OpiateNOS</th>\n",
       "      <th>AnyOpioid</th>\n",
       "      <th>MannerofDeath</th>\n",
       "    </tr>\n",
       "  </thead>\n",
       "  <tbody>\n",
       "    <tr>\n",
       "      <th>0</th>\n",
       "      <td>14-0273</td>\n",
       "      <td>06/28/2014 12:00:00 AM</td>\n",
       "      <td>41.964916</td>\n",
       "      <td>Male</td>\n",
       "      <td>White</td>\n",
       "      <td>HARTFORD</td>\n",
       "      <td>HARTFORD</td>\n",
       "      <td>Residence</td>\n",
       "      <td>substance</td>\n",
       "      <td>Residence</td>\n",
       "      <td>...</td>\n",
       "      <td>1</td>\n",
       "      <td>1</td>\n",
       "      <td>0</td>\n",
       "      <td>0</td>\n",
       "      <td>0</td>\n",
       "      <td>0</td>\n",
       "      <td>0</td>\n",
       "      <td>0</td>\n",
       "      <td>0</td>\n",
       "      <td>Accident</td>\n",
       "    </tr>\n",
       "    <tr>\n",
       "      <th>1</th>\n",
       "      <td>13-0102</td>\n",
       "      <td>03/21/2013 12:00:00 AM</td>\n",
       "      <td>48.000000</td>\n",
       "      <td>Male</td>\n",
       "      <td>Black</td>\n",
       "      <td>NORWALK</td>\n",
       "      <td>NORWALK</td>\n",
       "      <td>Hospital</td>\n",
       "      <td>Substance Abuse</td>\n",
       "      <td>Residence</td>\n",
       "      <td>...</td>\n",
       "      <td>0</td>\n",
       "      <td>0</td>\n",
       "      <td>0</td>\n",
       "      <td>0</td>\n",
       "      <td>0</td>\n",
       "      <td>0</td>\n",
       "      <td>0</td>\n",
       "      <td>0</td>\n",
       "      <td>0</td>\n",
       "      <td>Accident</td>\n",
       "    </tr>\n",
       "    <tr>\n",
       "      <th>2</th>\n",
       "      <td>16-0165</td>\n",
       "      <td>03/13/2016 12:00:00 AM</td>\n",
       "      <td>30.000000</td>\n",
       "      <td>Female</td>\n",
       "      <td>White</td>\n",
       "      <td>SANDY HOOK</td>\n",
       "      <td>DANBURY</td>\n",
       "      <td>Hospital</td>\n",
       "      <td>Substance Abuse</td>\n",
       "      <td>Unknown</td>\n",
       "      <td>...</td>\n",
       "      <td>0</td>\n",
       "      <td>0</td>\n",
       "      <td>0</td>\n",
       "      <td>0</td>\n",
       "      <td>0</td>\n",
       "      <td>0</td>\n",
       "      <td>0</td>\n",
       "      <td>0</td>\n",
       "      <td>1</td>\n",
       "      <td>Accident</td>\n",
       "    </tr>\n",
       "    <tr>\n",
       "      <th>3</th>\n",
       "      <td>16-0208</td>\n",
       "      <td>03/31/2016 12:00:00 AM</td>\n",
       "      <td>23.000000</td>\n",
       "      <td>Male</td>\n",
       "      <td>White</td>\n",
       "      <td>RYE</td>\n",
       "      <td>GREENWICH</td>\n",
       "      <td>Hospital</td>\n",
       "      <td>substance abuse</td>\n",
       "      <td>Residence</td>\n",
       "      <td>...</td>\n",
       "      <td>0</td>\n",
       "      <td>0</td>\n",
       "      <td>0</td>\n",
       "      <td>0</td>\n",
       "      <td>0</td>\n",
       "      <td>0</td>\n",
       "      <td>0</td>\n",
       "      <td>0</td>\n",
       "      <td>1</td>\n",
       "      <td>Accident</td>\n",
       "    </tr>\n",
       "    <tr>\n",
       "      <th>4</th>\n",
       "      <td>13-0052</td>\n",
       "      <td>02/13/2013 12:00:00 AM</td>\n",
       "      <td>22.000000</td>\n",
       "      <td>Male</td>\n",
       "      <td>Other</td>\n",
       "      <td>FLUSHING</td>\n",
       "      <td>GREENWICH</td>\n",
       "      <td>Hospital</td>\n",
       "      <td>Transdermal Absorption</td>\n",
       "      <td>Other</td>\n",
       "      <td>...</td>\n",
       "      <td>0</td>\n",
       "      <td>0</td>\n",
       "      <td>0</td>\n",
       "      <td>0</td>\n",
       "      <td>0</td>\n",
       "      <td>0</td>\n",
       "      <td>0</td>\n",
       "      <td>0</td>\n",
       "      <td>0</td>\n",
       "      <td>Accident</td>\n",
       "    </tr>\n",
       "  </tbody>\n",
       "</table>\n",
       "<p>5 rows × 28 columns</p>\n",
       "</div>"
      ],
      "text/plain": [
       "        ID                    Date        Age     Sex   Race ResidenceCity  \\\n",
       "0  14-0273  06/28/2014 12:00:00 AM  41.964916    Male  White      HARTFORD   \n",
       "1  13-0102  03/21/2013 12:00:00 AM  48.000000    Male  Black       NORWALK   \n",
       "2  16-0165  03/13/2016 12:00:00 AM  30.000000  Female  White    SANDY HOOK   \n",
       "3  16-0208  03/31/2016 12:00:00 AM  23.000000    Male  White           RYE   \n",
       "4  13-0052  02/13/2013 12:00:00 AM  22.000000    Male  Other      FLUSHING   \n",
       "\n",
       "   DeathCity   Location     DescriptionofInjury InjuryPlace  ... Hydrocodone  \\\n",
       "0   HARTFORD  Residence               substance   Residence  ...           1   \n",
       "1    NORWALK   Hospital         Substance Abuse   Residence  ...           0   \n",
       "2    DANBURY   Hospital         Substance Abuse     Unknown  ...           0   \n",
       "3  GREENWICH   Hospital         substance abuse   Residence  ...           0   \n",
       "4  GREENWICH   Hospital  Transdermal Absorption       Other  ...           0   \n",
       "\n",
       "   Benzodiazepine  Methadone Amphet  Tramad  Morphine_NotHeroin  \\\n",
       "0               1          0      0       0                   0   \n",
       "1               0          0      0       0                   0   \n",
       "2               0          0      0       0                   0   \n",
       "3               0          0      0       0                   0   \n",
       "4               0          0      0       0                   0   \n",
       "\n",
       "   Hydromorphone  OpiateNOS  AnyOpioid  MannerofDeath  \n",
       "0              0          0          0       Accident  \n",
       "1              0          0          0       Accident  \n",
       "2              0          0          1       Accident  \n",
       "3              0          0          1       Accident  \n",
       "4              0          0          0       Accident  \n",
       "\n",
       "[5 rows x 28 columns]"
      ]
     },
     "execution_count": 24,
     "metadata": {},
     "output_type": "execute_result"
    }
   ],
   "source": [
    "df.head()"
   ]
  },
  {
   "cell_type": "code",
   "execution_count": 25,
   "metadata": {},
   "outputs": [],
   "source": [
    "#change datatype\n",
    "df.Age = df.Age.astype(int)"
   ]
  },
  {
   "cell_type": "code",
   "execution_count": 26,
   "metadata": {},
   "outputs": [],
   "source": [
    "#encode Race using dummy columns\n",
    "od_dummies = pd.get_dummies(df.Race, drop_first=True)\n",
    "# join dummy columns back to df\n",
    "df = pd.concat([df, od_dummies], axis=1)"
   ]
  },
  {
   "cell_type": "code",
   "execution_count": 27,
   "metadata": {},
   "outputs": [
    {
     "data": {
      "text/html": [
       "<div>\n",
       "<style scoped>\n",
       "    .dataframe tbody tr th:only-of-type {\n",
       "        vertical-align: middle;\n",
       "    }\n",
       "\n",
       "    .dataframe tbody tr th {\n",
       "        vertical-align: top;\n",
       "    }\n",
       "\n",
       "    .dataframe thead th {\n",
       "        text-align: right;\n",
       "    }\n",
       "</style>\n",
       "<table border=\"1\" class=\"dataframe\">\n",
       "  <thead>\n",
       "    <tr style=\"text-align: right;\">\n",
       "      <th></th>\n",
       "      <th>Age</th>\n",
       "      <th>Heroin</th>\n",
       "      <th>Cocaine</th>\n",
       "      <th>Fentanyl_Analogue</th>\n",
       "      <th>Oxycodone</th>\n",
       "      <th>Oxymorphone</th>\n",
       "      <th>Ethanol</th>\n",
       "      <th>Hydrocodone</th>\n",
       "      <th>Benzodiazepine</th>\n",
       "      <th>Methadone</th>\n",
       "      <th>Amphet</th>\n",
       "      <th>Tramad</th>\n",
       "      <th>Hydromorphone</th>\n",
       "      <th>OpiateNOS</th>\n",
       "      <th>Hispanic</th>\n",
       "      <th>Other</th>\n",
       "      <th>Unknown</th>\n",
       "      <th>White</th>\n",
       "    </tr>\n",
       "  </thead>\n",
       "  <tbody>\n",
       "    <tr>\n",
       "      <th>Age</th>\n",
       "      <td>1.000000</td>\n",
       "      <td>-0.128856</td>\n",
       "      <td>0.045471</td>\n",
       "      <td>-0.019466</td>\n",
       "      <td>0.121200</td>\n",
       "      <td>0.028573</td>\n",
       "      <td>0.085530</td>\n",
       "      <td>0.073067</td>\n",
       "      <td>0.059161</td>\n",
       "      <td>0.061733</td>\n",
       "      <td>-0.042368</td>\n",
       "      <td>0.085369</td>\n",
       "      <td>0.043209</td>\n",
       "      <td>0.029307</td>\n",
       "      <td>0.016998</td>\n",
       "      <td>-0.044627</td>\n",
       "      <td>-0.014511</td>\n",
       "      <td>-0.077570</td>\n",
       "    </tr>\n",
       "    <tr>\n",
       "      <th>Heroin</th>\n",
       "      <td>-0.128856</td>\n",
       "      <td>1.000000</td>\n",
       "      <td>-0.002140</td>\n",
       "      <td>-0.009908</td>\n",
       "      <td>-0.224786</td>\n",
       "      <td>-0.112995</td>\n",
       "      <td>-0.025313</td>\n",
       "      <td>-0.087231</td>\n",
       "      <td>-0.104391</td>\n",
       "      <td>-0.125301</td>\n",
       "      <td>-0.003988</td>\n",
       "      <td>-0.038304</td>\n",
       "      <td>-0.002160</td>\n",
       "      <td>-0.131226</td>\n",
       "      <td>0.033447</td>\n",
       "      <td>0.002939</td>\n",
       "      <td>0.015245</td>\n",
       "      <td>0.018170</td>\n",
       "    </tr>\n",
       "    <tr>\n",
       "      <th>Cocaine</th>\n",
       "      <td>0.045471</td>\n",
       "      <td>-0.002140</td>\n",
       "      <td>1.000000</td>\n",
       "      <td>0.038905</td>\n",
       "      <td>-0.116250</td>\n",
       "      <td>-0.063032</td>\n",
       "      <td>-0.044395</td>\n",
       "      <td>-0.060304</td>\n",
       "      <td>-0.127564</td>\n",
       "      <td>-0.062315</td>\n",
       "      <td>0.004012</td>\n",
       "      <td>-0.040055</td>\n",
       "      <td>-0.021159</td>\n",
       "      <td>-0.056662</td>\n",
       "      <td>0.048007</td>\n",
       "      <td>0.013438</td>\n",
       "      <td>-0.005453</td>\n",
       "      <td>-0.150437</td>\n",
       "    </tr>\n",
       "    <tr>\n",
       "      <th>Fentanyl_Analogue</th>\n",
       "      <td>-0.019466</td>\n",
       "      <td>-0.009908</td>\n",
       "      <td>0.038905</td>\n",
       "      <td>1.000000</td>\n",
       "      <td>-0.053041</td>\n",
       "      <td>-0.037092</td>\n",
       "      <td>0.006837</td>\n",
       "      <td>-0.024525</td>\n",
       "      <td>0.007820</td>\n",
       "      <td>-0.028285</td>\n",
       "      <td>0.025009</td>\n",
       "      <td>0.005127</td>\n",
       "      <td>-0.009571</td>\n",
       "      <td>-0.038037</td>\n",
       "      <td>0.014888</td>\n",
       "      <td>0.010966</td>\n",
       "      <td>0.002727</td>\n",
       "      <td>-0.029017</td>\n",
       "    </tr>\n",
       "    <tr>\n",
       "      <th>Oxycodone</th>\n",
       "      <td>0.121200</td>\n",
       "      <td>-0.224786</td>\n",
       "      <td>-0.116250</td>\n",
       "      <td>-0.053041</td>\n",
       "      <td>1.000000</td>\n",
       "      <td>0.320290</td>\n",
       "      <td>0.005251</td>\n",
       "      <td>0.048206</td>\n",
       "      <td>0.136506</td>\n",
       "      <td>-0.040371</td>\n",
       "      <td>-0.006639</td>\n",
       "      <td>0.005926</td>\n",
       "      <td>0.034915</td>\n",
       "      <td>0.030393</td>\n",
       "      <td>-0.039060</td>\n",
       "      <td>-0.022738</td>\n",
       "      <td>0.002397</td>\n",
       "      <td>0.059655</td>\n",
       "    </tr>\n",
       "    <tr>\n",
       "      <th>Oxymorphone</th>\n",
       "      <td>0.028573</td>\n",
       "      <td>-0.112995</td>\n",
       "      <td>-0.063032</td>\n",
       "      <td>-0.037092</td>\n",
       "      <td>0.320290</td>\n",
       "      <td>1.000000</td>\n",
       "      <td>0.001961</td>\n",
       "      <td>-0.004497</td>\n",
       "      <td>0.066741</td>\n",
       "      <td>-0.004821</td>\n",
       "      <td>0.004986</td>\n",
       "      <td>-0.006483</td>\n",
       "      <td>0.009186</td>\n",
       "      <td>-0.009012</td>\n",
       "      <td>-0.035795</td>\n",
       "      <td>-0.014172</td>\n",
       "      <td>0.030761</td>\n",
       "      <td>0.053242</td>\n",
       "    </tr>\n",
       "    <tr>\n",
       "      <th>Ethanol</th>\n",
       "      <td>0.085530</td>\n",
       "      <td>-0.025313</td>\n",
       "      <td>-0.044395</td>\n",
       "      <td>0.006837</td>\n",
       "      <td>0.005251</td>\n",
       "      <td>0.001961</td>\n",
       "      <td>1.000000</td>\n",
       "      <td>0.033909</td>\n",
       "      <td>-0.004199</td>\n",
       "      <td>-0.037363</td>\n",
       "      <td>-0.031072</td>\n",
       "      <td>0.003603</td>\n",
       "      <td>-0.026821</td>\n",
       "      <td>-0.012245</td>\n",
       "      <td>-0.022755</td>\n",
       "      <td>-0.002295</td>\n",
       "      <td>0.009407</td>\n",
       "      <td>-0.005827</td>\n",
       "    </tr>\n",
       "    <tr>\n",
       "      <th>Hydrocodone</th>\n",
       "      <td>0.073067</td>\n",
       "      <td>-0.087231</td>\n",
       "      <td>-0.060304</td>\n",
       "      <td>-0.024525</td>\n",
       "      <td>0.048206</td>\n",
       "      <td>-0.004497</td>\n",
       "      <td>0.033909</td>\n",
       "      <td>1.000000</td>\n",
       "      <td>0.035401</td>\n",
       "      <td>-0.031246</td>\n",
       "      <td>-0.012571</td>\n",
       "      <td>-0.000041</td>\n",
       "      <td>0.007883</td>\n",
       "      <td>0.019690</td>\n",
       "      <td>-0.026691</td>\n",
       "      <td>0.012470</td>\n",
       "      <td>-0.010348</td>\n",
       "      <td>0.035489</td>\n",
       "    </tr>\n",
       "    <tr>\n",
       "      <th>Benzodiazepine</th>\n",
       "      <td>0.059161</td>\n",
       "      <td>-0.104391</td>\n",
       "      <td>-0.127564</td>\n",
       "      <td>0.007820</td>\n",
       "      <td>0.136506</td>\n",
       "      <td>0.066741</td>\n",
       "      <td>-0.004199</td>\n",
       "      <td>0.035401</td>\n",
       "      <td>1.000000</td>\n",
       "      <td>0.112367</td>\n",
       "      <td>0.056782</td>\n",
       "      <td>0.038973</td>\n",
       "      <td>0.028189</td>\n",
       "      <td>0.030248</td>\n",
       "      <td>-0.083661</td>\n",
       "      <td>-0.011014</td>\n",
       "      <td>-0.013623</td>\n",
       "      <td>0.141475</td>\n",
       "    </tr>\n",
       "    <tr>\n",
       "      <th>Methadone</th>\n",
       "      <td>0.061733</td>\n",
       "      <td>-0.125301</td>\n",
       "      <td>-0.062315</td>\n",
       "      <td>-0.028285</td>\n",
       "      <td>-0.040371</td>\n",
       "      <td>-0.004821</td>\n",
       "      <td>-0.037363</td>\n",
       "      <td>-0.031246</td>\n",
       "      <td>0.112367</td>\n",
       "      <td>1.000000</td>\n",
       "      <td>-0.014622</td>\n",
       "      <td>-0.004587</td>\n",
       "      <td>-0.003106</td>\n",
       "      <td>-0.016443</td>\n",
       "      <td>-0.002791</td>\n",
       "      <td>-0.030840</td>\n",
       "      <td>-0.011444</td>\n",
       "      <td>0.037943</td>\n",
       "    </tr>\n",
       "    <tr>\n",
       "      <th>Amphet</th>\n",
       "      <td>-0.042368</td>\n",
       "      <td>-0.003988</td>\n",
       "      <td>0.004012</td>\n",
       "      <td>0.025009</td>\n",
       "      <td>-0.006639</td>\n",
       "      <td>0.004986</td>\n",
       "      <td>-0.031072</td>\n",
       "      <td>-0.012571</td>\n",
       "      <td>0.056782</td>\n",
       "      <td>-0.014622</td>\n",
       "      <td>1.000000</td>\n",
       "      <td>-0.000351</td>\n",
       "      <td>0.003576</td>\n",
       "      <td>0.010909</td>\n",
       "      <td>-0.032642</td>\n",
       "      <td>0.018137</td>\n",
       "      <td>-0.012062</td>\n",
       "      <td>0.038239</td>\n",
       "    </tr>\n",
       "    <tr>\n",
       "      <th>Tramad</th>\n",
       "      <td>0.085369</td>\n",
       "      <td>-0.038304</td>\n",
       "      <td>-0.040055</td>\n",
       "      <td>0.005127</td>\n",
       "      <td>0.005926</td>\n",
       "      <td>-0.006483</td>\n",
       "      <td>0.003603</td>\n",
       "      <td>-0.000041</td>\n",
       "      <td>0.038973</td>\n",
       "      <td>-0.004587</td>\n",
       "      <td>-0.000351</td>\n",
       "      <td>1.000000</td>\n",
       "      <td>0.006473</td>\n",
       "      <td>0.016805</td>\n",
       "      <td>-0.007406</td>\n",
       "      <td>0.036495</td>\n",
       "      <td>-0.010875</td>\n",
       "      <td>-0.000892</td>\n",
       "    </tr>\n",
       "    <tr>\n",
       "      <th>Hydromorphone</th>\n",
       "      <td>0.043209</td>\n",
       "      <td>-0.002160</td>\n",
       "      <td>-0.021159</td>\n",
       "      <td>-0.009571</td>\n",
       "      <td>0.034915</td>\n",
       "      <td>0.009186</td>\n",
       "      <td>-0.026821</td>\n",
       "      <td>0.007883</td>\n",
       "      <td>0.028189</td>\n",
       "      <td>-0.003106</td>\n",
       "      <td>0.003576</td>\n",
       "      <td>0.006473</td>\n",
       "      <td>1.000000</td>\n",
       "      <td>-0.009291</td>\n",
       "      <td>-0.025238</td>\n",
       "      <td>-0.006762</td>\n",
       "      <td>0.037180</td>\n",
       "      <td>0.022805</td>\n",
       "    </tr>\n",
       "    <tr>\n",
       "      <th>OpiateNOS</th>\n",
       "      <td>0.029307</td>\n",
       "      <td>-0.131226</td>\n",
       "      <td>-0.056662</td>\n",
       "      <td>-0.038037</td>\n",
       "      <td>0.030393</td>\n",
       "      <td>-0.009012</td>\n",
       "      <td>-0.012245</td>\n",
       "      <td>0.019690</td>\n",
       "      <td>0.030248</td>\n",
       "      <td>-0.016443</td>\n",
       "      <td>0.010909</td>\n",
       "      <td>0.016805</td>\n",
       "      <td>-0.009291</td>\n",
       "      <td>1.000000</td>\n",
       "      <td>0.013776</td>\n",
       "      <td>0.002991</td>\n",
       "      <td>-0.008910</td>\n",
       "      <td>0.010125</td>\n",
       "    </tr>\n",
       "    <tr>\n",
       "      <th>Hispanic</th>\n",
       "      <td>0.016998</td>\n",
       "      <td>0.033447</td>\n",
       "      <td>0.048007</td>\n",
       "      <td>0.014888</td>\n",
       "      <td>-0.039060</td>\n",
       "      <td>-0.035795</td>\n",
       "      <td>-0.022755</td>\n",
       "      <td>-0.026691</td>\n",
       "      <td>-0.083661</td>\n",
       "      <td>-0.002791</td>\n",
       "      <td>-0.032642</td>\n",
       "      <td>-0.007406</td>\n",
       "      <td>-0.025238</td>\n",
       "      <td>0.013776</td>\n",
       "      <td>1.000000</td>\n",
       "      <td>-0.034679</td>\n",
       "      <td>-0.024202</td>\n",
       "      <td>-0.691266</td>\n",
       "    </tr>\n",
       "    <tr>\n",
       "      <th>Other</th>\n",
       "      <td>-0.044627</td>\n",
       "      <td>0.002939</td>\n",
       "      <td>0.013438</td>\n",
       "      <td>0.010966</td>\n",
       "      <td>-0.022738</td>\n",
       "      <td>-0.014172</td>\n",
       "      <td>-0.002295</td>\n",
       "      <td>0.012470</td>\n",
       "      <td>-0.011014</td>\n",
       "      <td>-0.030840</td>\n",
       "      <td>0.018137</td>\n",
       "      <td>0.036495</td>\n",
       "      <td>-0.006762</td>\n",
       "      <td>0.002991</td>\n",
       "      <td>-0.034679</td>\n",
       "      <td>1.000000</td>\n",
       "      <td>-0.006485</td>\n",
       "      <td>-0.185223</td>\n",
       "    </tr>\n",
       "    <tr>\n",
       "      <th>Unknown</th>\n",
       "      <td>-0.014511</td>\n",
       "      <td>0.015245</td>\n",
       "      <td>-0.005453</td>\n",
       "      <td>0.002727</td>\n",
       "      <td>0.002397</td>\n",
       "      <td>0.030761</td>\n",
       "      <td>0.009407</td>\n",
       "      <td>-0.010348</td>\n",
       "      <td>-0.013623</td>\n",
       "      <td>-0.011444</td>\n",
       "      <td>-0.012062</td>\n",
       "      <td>-0.010875</td>\n",
       "      <td>0.037180</td>\n",
       "      <td>-0.008910</td>\n",
       "      <td>-0.024202</td>\n",
       "      <td>-0.006485</td>\n",
       "      <td>1.000000</td>\n",
       "      <td>-0.129266</td>\n",
       "    </tr>\n",
       "    <tr>\n",
       "      <th>White</th>\n",
       "      <td>-0.077570</td>\n",
       "      <td>0.018170</td>\n",
       "      <td>-0.150437</td>\n",
       "      <td>-0.029017</td>\n",
       "      <td>0.059655</td>\n",
       "      <td>0.053242</td>\n",
       "      <td>-0.005827</td>\n",
       "      <td>0.035489</td>\n",
       "      <td>0.141475</td>\n",
       "      <td>0.037943</td>\n",
       "      <td>0.038239</td>\n",
       "      <td>-0.000892</td>\n",
       "      <td>0.022805</td>\n",
       "      <td>0.010125</td>\n",
       "      <td>-0.691266</td>\n",
       "      <td>-0.185223</td>\n",
       "      <td>-0.129266</td>\n",
       "      <td>1.000000</td>\n",
       "    </tr>\n",
       "  </tbody>\n",
       "</table>\n",
       "</div>"
      ],
      "text/plain": [
       "                        Age    Heroin   Cocaine  Fentanyl_Analogue  Oxycodone  \\\n",
       "Age                1.000000 -0.128856  0.045471          -0.019466   0.121200   \n",
       "Heroin            -0.128856  1.000000 -0.002140          -0.009908  -0.224786   \n",
       "Cocaine            0.045471 -0.002140  1.000000           0.038905  -0.116250   \n",
       "Fentanyl_Analogue -0.019466 -0.009908  0.038905           1.000000  -0.053041   \n",
       "Oxycodone          0.121200 -0.224786 -0.116250          -0.053041   1.000000   \n",
       "Oxymorphone        0.028573 -0.112995 -0.063032          -0.037092   0.320290   \n",
       "Ethanol            0.085530 -0.025313 -0.044395           0.006837   0.005251   \n",
       "Hydrocodone        0.073067 -0.087231 -0.060304          -0.024525   0.048206   \n",
       "Benzodiazepine     0.059161 -0.104391 -0.127564           0.007820   0.136506   \n",
       "Methadone          0.061733 -0.125301 -0.062315          -0.028285  -0.040371   \n",
       "Amphet            -0.042368 -0.003988  0.004012           0.025009  -0.006639   \n",
       "Tramad             0.085369 -0.038304 -0.040055           0.005127   0.005926   \n",
       "Hydromorphone      0.043209 -0.002160 -0.021159          -0.009571   0.034915   \n",
       "OpiateNOS          0.029307 -0.131226 -0.056662          -0.038037   0.030393   \n",
       "Hispanic           0.016998  0.033447  0.048007           0.014888  -0.039060   \n",
       "Other             -0.044627  0.002939  0.013438           0.010966  -0.022738   \n",
       "Unknown           -0.014511  0.015245 -0.005453           0.002727   0.002397   \n",
       "White             -0.077570  0.018170 -0.150437          -0.029017   0.059655   \n",
       "\n",
       "                   Oxymorphone   Ethanol  Hydrocodone  Benzodiazepine  \\\n",
       "Age                   0.028573  0.085530     0.073067        0.059161   \n",
       "Heroin               -0.112995 -0.025313    -0.087231       -0.104391   \n",
       "Cocaine              -0.063032 -0.044395    -0.060304       -0.127564   \n",
       "Fentanyl_Analogue    -0.037092  0.006837    -0.024525        0.007820   \n",
       "Oxycodone             0.320290  0.005251     0.048206        0.136506   \n",
       "Oxymorphone           1.000000  0.001961    -0.004497        0.066741   \n",
       "Ethanol               0.001961  1.000000     0.033909       -0.004199   \n",
       "Hydrocodone          -0.004497  0.033909     1.000000        0.035401   \n",
       "Benzodiazepine        0.066741 -0.004199     0.035401        1.000000   \n",
       "Methadone            -0.004821 -0.037363    -0.031246        0.112367   \n",
       "Amphet                0.004986 -0.031072    -0.012571        0.056782   \n",
       "Tramad               -0.006483  0.003603    -0.000041        0.038973   \n",
       "Hydromorphone         0.009186 -0.026821     0.007883        0.028189   \n",
       "OpiateNOS            -0.009012 -0.012245     0.019690        0.030248   \n",
       "Hispanic             -0.035795 -0.022755    -0.026691       -0.083661   \n",
       "Other                -0.014172 -0.002295     0.012470       -0.011014   \n",
       "Unknown               0.030761  0.009407    -0.010348       -0.013623   \n",
       "White                 0.053242 -0.005827     0.035489        0.141475   \n",
       "\n",
       "                   Methadone    Amphet    Tramad  Hydromorphone  OpiateNOS  \\\n",
       "Age                 0.061733 -0.042368  0.085369       0.043209   0.029307   \n",
       "Heroin             -0.125301 -0.003988 -0.038304      -0.002160  -0.131226   \n",
       "Cocaine            -0.062315  0.004012 -0.040055      -0.021159  -0.056662   \n",
       "Fentanyl_Analogue  -0.028285  0.025009  0.005127      -0.009571  -0.038037   \n",
       "Oxycodone          -0.040371 -0.006639  0.005926       0.034915   0.030393   \n",
       "Oxymorphone        -0.004821  0.004986 -0.006483       0.009186  -0.009012   \n",
       "Ethanol            -0.037363 -0.031072  0.003603      -0.026821  -0.012245   \n",
       "Hydrocodone        -0.031246 -0.012571 -0.000041       0.007883   0.019690   \n",
       "Benzodiazepine      0.112367  0.056782  0.038973       0.028189   0.030248   \n",
       "Methadone           1.000000 -0.014622 -0.004587      -0.003106  -0.016443   \n",
       "Amphet             -0.014622  1.000000 -0.000351       0.003576   0.010909   \n",
       "Tramad             -0.004587 -0.000351  1.000000       0.006473   0.016805   \n",
       "Hydromorphone      -0.003106  0.003576  0.006473       1.000000  -0.009291   \n",
       "OpiateNOS          -0.016443  0.010909  0.016805      -0.009291   1.000000   \n",
       "Hispanic           -0.002791 -0.032642 -0.007406      -0.025238   0.013776   \n",
       "Other              -0.030840  0.018137  0.036495      -0.006762   0.002991   \n",
       "Unknown            -0.011444 -0.012062 -0.010875       0.037180  -0.008910   \n",
       "White               0.037943  0.038239 -0.000892       0.022805   0.010125   \n",
       "\n",
       "                   Hispanic     Other   Unknown     White  \n",
       "Age                0.016998 -0.044627 -0.014511 -0.077570  \n",
       "Heroin             0.033447  0.002939  0.015245  0.018170  \n",
       "Cocaine            0.048007  0.013438 -0.005453 -0.150437  \n",
       "Fentanyl_Analogue  0.014888  0.010966  0.002727 -0.029017  \n",
       "Oxycodone         -0.039060 -0.022738  0.002397  0.059655  \n",
       "Oxymorphone       -0.035795 -0.014172  0.030761  0.053242  \n",
       "Ethanol           -0.022755 -0.002295  0.009407 -0.005827  \n",
       "Hydrocodone       -0.026691  0.012470 -0.010348  0.035489  \n",
       "Benzodiazepine    -0.083661 -0.011014 -0.013623  0.141475  \n",
       "Methadone         -0.002791 -0.030840 -0.011444  0.037943  \n",
       "Amphet            -0.032642  0.018137 -0.012062  0.038239  \n",
       "Tramad            -0.007406  0.036495 -0.010875 -0.000892  \n",
       "Hydromorphone     -0.025238 -0.006762  0.037180  0.022805  \n",
       "OpiateNOS          0.013776  0.002991 -0.008910  0.010125  \n",
       "Hispanic           1.000000 -0.034679 -0.024202 -0.691266  \n",
       "Other             -0.034679  1.000000 -0.006485 -0.185223  \n",
       "Unknown           -0.024202 -0.006485  1.000000 -0.129266  \n",
       "White             -0.691266 -0.185223 -0.129266  1.000000  "
      ]
     },
     "execution_count": 27,
     "metadata": {},
     "output_type": "execute_result"
    }
   ],
   "source": [
    "#see what is most correlated\n",
    "corr = df.corr()\n",
    "corr"
   ]
  },
  {
   "cell_type": "code",
   "execution_count": 28,
   "metadata": {},
   "outputs": [
    {
     "name": "stdout",
     "output_type": "stream",
     "text": [
      "train -> (2858, 32)\n",
      "validate -> (1226, 32)\n",
      "test -> (1021, 32)\n"
     ]
    }
   ],
   "source": [
    "#split data using od_deaths_split function from prepare file\n",
    "train, validate, test, X_train, y_train, X_validate, y_validate, X_test, y_test = prepare.od_deaths_split(df, 'Age')"
   ]
  },
  {
   "cell_type": "markdown",
   "metadata": {},
   "source": [
    "### Takeaways from Prepare:\n",
    "- dropped several columns with high null value \n",
    "    - were not significant if only had ~10% of data\n",
    "- filled null values by imputing\n",
    "    - using mean and most frequent\n",
    "- changed data for uniformity in Manner of Death\n",
    "- changed data type in Age from float to integer\n",
    "- Split data into train, validate, test using Age as the target"
   ]
  },
  {
   "cell_type": "markdown",
   "metadata": {},
   "source": [
    "<hr style=\"border:2px solid black\"> </hr>"
   ]
  },
  {
   "cell_type": "markdown",
   "metadata": {},
   "source": [
    "## Explore"
   ]
  },
  {
   "cell_type": "code",
   "execution_count": 29,
   "metadata": {},
   "outputs": [
    {
     "data": {
      "image/png": "[encoded data removed]",
      "text/plain": [
       "<Figure size 1152x432 with 4 Axes>"
      ]
     },
     "metadata": {
      "needs_background": "light"
     },
     "output_type": "display_data"
    }
   ],
   "source": [
    "# Plot the distributions\n",
    "plt.figure(figsize=(16, 6))\n",
    "\n",
    "# List of columns\n",
    "cols = ['Age', 'Sex', 'Race', 'MannerofDeath']\n",
    "\n",
    "for i, col in enumerate(cols):\n",
    "\n",
    "    # i starts at 0, but plot nos should start at 1\n",
    "    plot_number = i + 1 \n",
    "\n",
    "    # Create subplot.\n",
    "    plt.subplot(1,4, plot_number)\n",
    "\n",
    "    # Title with column name.\n",
    "    plt.title(col)\n",
    "\n",
    "    # Display histogram for column.\n",
    "    df[col].hist(bins=5)\n",
    "\n",
    "    # Hide gridlines.\n",
    "    plt.grid(False)\n",
    "    \n",
    "    plt.suptitle('Distributions')\n"
   ]
  },
  {
   "cell_type": "code",
   "execution_count": 30,
   "metadata": {},
   "outputs": [
    {
     "data": {
      "image/png": "[encoded data removed]",
      "text/plain": [
       "<Figure size 1152x648 with 2 Axes>"
      ]
     },
     "metadata": {
      "needs_background": "light"
     },
     "output_type": "display_data"
    }
   ],
   "source": [
    "#heatmap to show correlation of all data\n",
    "plt.figure(figsize=(16,9))\n",
    "\n",
    "sns.heatmap(train.corr(), cmap='YlGnBu', center=0, annot=True)\n",
    "\n",
    "plt.title('Correlation of Drug Overdoes Deaths')\n",
    "\n",
    "plt.show()"
   ]
  },
  {
   "cell_type": "code",
   "execution_count": 31,
   "metadata": {},
   "outputs": [
    {
     "data": {
      "text/plain": [
       "Age                  1.000000\n",
       "Oxycodone            0.111364\n",
       "Ethanol              0.083992\n",
       "Hydrocodone          0.074245\n",
       "Methadone            0.063260\n",
       "Tramad               0.061657\n",
       "Cocaine              0.047652\n",
       "Benzodiazepine       0.038018\n",
       "OpiateNOS            0.029322\n",
       "Oxymorphone          0.027834\n",
       "Hispanic             0.021580\n",
       "Hydromorphone        0.014319\n",
       "Unknown             -0.018962\n",
       "Fentanyl_Analogue   -0.021837\n",
       "Amphet              -0.035244\n",
       "Other               -0.042538\n",
       "White               -0.073179\n",
       "Heroin              -0.108195\n",
       "Name: Age, dtype: float64"
      ]
     },
     "execution_count": 31,
     "metadata": {},
     "output_type": "execute_result"
    }
   ],
   "source": [
    "#find correlation with target variable only\n",
    "od_corr = train.corr()\n",
    "final_corr = od_corr['Age'].sort_values(ascending=False)\n",
    "final_corr"
   ]
  },
  {
   "cell_type": "code",
   "execution_count": 32,
   "metadata": {},
   "outputs": [
    {
     "data": {
      "image/png": "[encoded data removed]",
      "text/plain": [
       "<Figure size 576x864 with 2 Axes>"
      ]
     },
     "metadata": {
      "needs_background": "light"
     },
     "output_type": "display_data"
    }
   ],
   "source": [
    "plt.figure(figsize=(8, 12))\n",
    "heatmap = sns.heatmap(df.corr()[['Age']].sort_values(by='Age', ascending=False), vmin=-1, vmax=1, annot=True, cmap='mako_r')\n",
    "heatmap.set_title('Features Correlating with Age', fontdict={'fontsize':18}, pad=16);"
   ]
  },
  {
   "cell_type": "code",
   "execution_count": 33,
   "metadata": {
    "scrolled": false
   },
   "outputs": [
    {
     "data": {
      "image/png": "[encoded data removed]",
      "text/plain": [
       "<Figure size 720x432 with 1 Axes>"
      ]
     },
     "metadata": {
      "needs_background": "light"
     },
     "output_type": "display_data"
    }
   ],
   "source": [
    "#visualize Race data using a countplot\n",
    "plt.figure(figsize=(10,6))\n",
    "sns.countplot(x='Race', data=train)\n",
    "plt.show()"
   ]
  },
  {
   "cell_type": "code",
   "execution_count": 34,
   "metadata": {
    "scrolled": true
   },
   "outputs": [
    {
     "data": {
      "image/png": "[encoded data removed]",
      "text/plain": [
       "<Figure size 864x432 with 1 Axes>"
      ]
     },
     "metadata": {
      "needs_background": "light"
     },
     "output_type": "display_data"
    }
   ],
   "source": [
    "#visualize Race data using a countplot\n",
    "plt.figure(figsize=(12,6))\n",
    "sns.countplot(x='Age', data=train, hue='White')\n",
    "plt.show()"
   ]
  },
  {
   "cell_type": "code",
   "execution_count": 35,
   "metadata": {},
   "outputs": [
    {
     "data": {
      "text/plain": [
       "count    5105.000000\n",
       "mean       41.964349\n",
       "std        12.333035\n",
       "min        14.000000\n",
       "25%        32.000000\n",
       "50%        42.000000\n",
       "75%        52.000000\n",
       "max        87.000000\n",
       "Name: Age, dtype: float64"
      ]
     },
     "execution_count": 35,
     "metadata": {},
     "output_type": "execute_result"
    }
   ],
   "source": [
    "df.Age.describe()"
   ]
  },
  {
   "cell_type": "code",
   "execution_count": 36,
   "metadata": {},
   "outputs": [],
   "source": [
    "#create bins for age\n",
    "df['age_bins'] = pd.cut(x=df['Age'], bins=[10, 20, 30, 40, 50, 60, 70, 80])"
   ]
  },
  {
   "cell_type": "code",
   "execution_count": 37,
   "metadata": {},
   "outputs": [
    {
     "data": {
      "text/html": [
       "<div>\n",
       "<style scoped>\n",
       "    .dataframe tbody tr th:only-of-type {\n",
       "        vertical-align: middle;\n",
       "    }\n",
       "\n",
       "    .dataframe tbody tr th {\n",
       "        vertical-align: top;\n",
       "    }\n",
       "\n",
       "    .dataframe thead th {\n",
       "        text-align: right;\n",
       "    }\n",
       "</style>\n",
       "<table border=\"1\" class=\"dataframe\">\n",
       "  <thead>\n",
       "    <tr style=\"text-align: right;\">\n",
       "      <th></th>\n",
       "      <th>ID</th>\n",
       "      <th>Date</th>\n",
       "      <th>Age</th>\n",
       "      <th>Sex</th>\n",
       "      <th>Race</th>\n",
       "      <th>ResidenceCity</th>\n",
       "      <th>DeathCity</th>\n",
       "      <th>Location</th>\n",
       "      <th>DescriptionofInjury</th>\n",
       "      <th>InjuryPlace</th>\n",
       "      <th>...</th>\n",
       "      <th>Morphine_NotHeroin</th>\n",
       "      <th>Hydromorphone</th>\n",
       "      <th>OpiateNOS</th>\n",
       "      <th>AnyOpioid</th>\n",
       "      <th>MannerofDeath</th>\n",
       "      <th>Hispanic</th>\n",
       "      <th>Other</th>\n",
       "      <th>Unknown</th>\n",
       "      <th>White</th>\n",
       "      <th>age_bins</th>\n",
       "    </tr>\n",
       "  </thead>\n",
       "  <tbody>\n",
       "    <tr>\n",
       "      <th>0</th>\n",
       "      <td>14-0273</td>\n",
       "      <td>06/28/2014 12:00:00 AM</td>\n",
       "      <td>41</td>\n",
       "      <td>Male</td>\n",
       "      <td>White</td>\n",
       "      <td>HARTFORD</td>\n",
       "      <td>HARTFORD</td>\n",
       "      <td>Residence</td>\n",
       "      <td>substance</td>\n",
       "      <td>Residence</td>\n",
       "      <td>...</td>\n",
       "      <td>0</td>\n",
       "      <td>0</td>\n",
       "      <td>0</td>\n",
       "      <td>0</td>\n",
       "      <td>Accident</td>\n",
       "      <td>0</td>\n",
       "      <td>0</td>\n",
       "      <td>0</td>\n",
       "      <td>1</td>\n",
       "      <td>(40, 50]</td>\n",
       "    </tr>\n",
       "    <tr>\n",
       "      <th>1</th>\n",
       "      <td>13-0102</td>\n",
       "      <td>03/21/2013 12:00:00 AM</td>\n",
       "      <td>48</td>\n",
       "      <td>Male</td>\n",
       "      <td>Black</td>\n",
       "      <td>NORWALK</td>\n",
       "      <td>NORWALK</td>\n",
       "      <td>Hospital</td>\n",
       "      <td>Substance Abuse</td>\n",
       "      <td>Residence</td>\n",
       "      <td>...</td>\n",
       "      <td>0</td>\n",
       "      <td>0</td>\n",
       "      <td>0</td>\n",
       "      <td>0</td>\n",
       "      <td>Accident</td>\n",
       "      <td>0</td>\n",
       "      <td>0</td>\n",
       "      <td>0</td>\n",
       "      <td>0</td>\n",
       "      <td>(40, 50]</td>\n",
       "    </tr>\n",
       "    <tr>\n",
       "      <th>2</th>\n",
       "      <td>16-0165</td>\n",
       "      <td>03/13/2016 12:00:00 AM</td>\n",
       "      <td>30</td>\n",
       "      <td>Female</td>\n",
       "      <td>White</td>\n",
       "      <td>SANDY HOOK</td>\n",
       "      <td>DANBURY</td>\n",
       "      <td>Hospital</td>\n",
       "      <td>Substance Abuse</td>\n",
       "      <td>Unknown</td>\n",
       "      <td>...</td>\n",
       "      <td>0</td>\n",
       "      <td>0</td>\n",
       "      <td>0</td>\n",
       "      <td>1</td>\n",
       "      <td>Accident</td>\n",
       "      <td>0</td>\n",
       "      <td>0</td>\n",
       "      <td>0</td>\n",
       "      <td>1</td>\n",
       "      <td>(20, 30]</td>\n",
       "    </tr>\n",
       "    <tr>\n",
       "      <th>3</th>\n",
       "      <td>16-0208</td>\n",
       "      <td>03/31/2016 12:00:00 AM</td>\n",
       "      <td>23</td>\n",
       "      <td>Male</td>\n",
       "      <td>White</td>\n",
       "      <td>RYE</td>\n",
       "      <td>GREENWICH</td>\n",
       "      <td>Hospital</td>\n",
       "      <td>substance abuse</td>\n",
       "      <td>Residence</td>\n",
       "      <td>...</td>\n",
       "      <td>0</td>\n",
       "      <td>0</td>\n",
       "      <td>0</td>\n",
       "      <td>1</td>\n",
       "      <td>Accident</td>\n",
       "      <td>0</td>\n",
       "      <td>0</td>\n",
       "      <td>0</td>\n",
       "      <td>1</td>\n",
       "      <td>(20, 30]</td>\n",
       "    </tr>\n",
       "    <tr>\n",
       "      <th>4</th>\n",
       "      <td>13-0052</td>\n",
       "      <td>02/13/2013 12:00:00 AM</td>\n",
       "      <td>22</td>\n",
       "      <td>Male</td>\n",
       "      <td>Other</td>\n",
       "      <td>FLUSHING</td>\n",
       "      <td>GREENWICH</td>\n",
       "      <td>Hospital</td>\n",
       "      <td>Transdermal Absorption</td>\n",
       "      <td>Other</td>\n",
       "      <td>...</td>\n",
       "      <td>0</td>\n",
       "      <td>0</td>\n",
       "      <td>0</td>\n",
       "      <td>0</td>\n",
       "      <td>Accident</td>\n",
       "      <td>0</td>\n",
       "      <td>1</td>\n",
       "      <td>0</td>\n",
       "      <td>0</td>\n",
       "      <td>(20, 30]</td>\n",
       "    </tr>\n",
       "  </tbody>\n",
       "</table>\n",
       "<p>5 rows × 33 columns</p>\n",
       "</div>"
      ],
      "text/plain": [
       "        ID                    Date  Age     Sex   Race ResidenceCity  \\\n",
       "0  14-0273  06/28/2014 12:00:00 AM   41    Male  White      HARTFORD   \n",
       "1  13-0102  03/21/2013 12:00:00 AM   48    Male  Black       NORWALK   \n",
       "2  16-0165  03/13/2016 12:00:00 AM   30  Female  White    SANDY HOOK   \n",
       "3  16-0208  03/31/2016 12:00:00 AM   23    Male  White           RYE   \n",
       "4  13-0052  02/13/2013 12:00:00 AM   22    Male  Other      FLUSHING   \n",
       "\n",
       "   DeathCity   Location     DescriptionofInjury InjuryPlace  ...  \\\n",
       "0   HARTFORD  Residence               substance   Residence  ...   \n",
       "1    NORWALK   Hospital         Substance Abuse   Residence  ...   \n",
       "2    DANBURY   Hospital         Substance Abuse     Unknown  ...   \n",
       "3  GREENWICH   Hospital         substance abuse   Residence  ...   \n",
       "4  GREENWICH   Hospital  Transdermal Absorption       Other  ...   \n",
       "\n",
       "  Morphine_NotHeroin  Hydromorphone  OpiateNOS AnyOpioid  MannerofDeath  \\\n",
       "0                  0              0          0         0       Accident   \n",
       "1                  0              0          0         0       Accident   \n",
       "2                  0              0          0         1       Accident   \n",
       "3                  0              0          0         1       Accident   \n",
       "4                  0              0          0         0       Accident   \n",
       "\n",
       "   Hispanic  Other  Unknown  White  age_bins  \n",
       "0         0      0        0      1  (40, 50]  \n",
       "1         0      0        0      0  (40, 50]  \n",
       "2         0      0        0      1  (20, 30]  \n",
       "3         0      0        0      1  (20, 30]  \n",
       "4         0      1        0      0  (20, 30]  \n",
       "\n",
       "[5 rows x 33 columns]"
      ]
     },
     "execution_count": 37,
     "metadata": {},
     "output_type": "execute_result"
    }
   ],
   "source": [
    "df.head()"
   ]
  },
  {
   "cell_type": "markdown",
   "metadata": {},
   "source": [
    "<hr style=\"border:1px solid black\"> </hr>"
   ]
  },
  {
   "cell_type": "markdown",
   "metadata": {},
   "source": [
    "### Hypothesis Testing"
   ]
  },
  {
   "cell_type": "markdown",
   "metadata": {},
   "source": [
    "Hypothesis 1: T-Test (cont vs discrete)\n",
    "- $H_0$: There is a relationship between Age and Race (White) among drug overdose deaths\n",
    "- $H_a$: There is not s relationship between Age and Race (White) among drug overdose deaths"
   ]
  },
  {
   "cell_type": "code",
   "execution_count": 38,
   "metadata": {},
   "outputs": [],
   "source": [
    "#set alpha\n",
    "alpha = .05"
   ]
  },
  {
   "cell_type": "code",
   "execution_count": 39,
   "metadata": {},
   "outputs": [
    {
     "data": {
      "text/plain": [
       "(2858, 2858)"
      ]
     },
     "execution_count": 39,
     "metadata": {},
     "output_type": "execute_result"
    }
   ],
   "source": [
    "# sample size, must be more then 30 to meet assumption\n",
    "train.Age.count(), train.White.count()"
   ]
  },
  {
   "cell_type": "code",
   "execution_count": 40,
   "metadata": {},
   "outputs": [
    {
     "data": {
      "text/plain": [
       "(149.8752585634879, 0.17151102481646124)"
      ]
     },
     "execution_count": 40,
     "metadata": {},
     "output_type": "execute_result"
    }
   ],
   "source": [
    "#check variance\n",
    "train.Age.var(), train.White.var()\n",
    "\n",
    "#this shows not equal varient"
   ]
  },
  {
   "cell_type": "code",
   "execution_count": 41,
   "metadata": {},
   "outputs": [
    {
     "data": {
      "text/plain": [
       "(179.4934639776462, 0.0)"
      ]
     },
     "execution_count": 41,
     "metadata": {},
     "output_type": "execute_result"
    }
   ],
   "source": [
    "#t-test on entire train set\n",
    "t, p = stats.ttest_ind(train.Age,train.White, equal_var=False)\n",
    "t,p"
   ]
  },
  {
   "cell_type": "code",
   "execution_count": 42,
   "metadata": {},
   "outputs": [
    {
     "name": "stdout",
     "output_type": "stream",
     "text": [
      "We calculate a t of 179.493464 and a statistical certainty p of 0.000000\n",
      "Because p 0.000000 < α  0.050000, we fail to reject our null hypothesis\n"
     ]
    }
   ],
   "source": [
    "if p < alpha:\n",
    "    print(f'We calculate a t of {t:3f} and a statistical certainty p of {p:4f}')\n",
    "    print(f'Because p {p:3f} < α  {alpha:3f}, we fail to reject our null hypothesis')\n",
    "else:\n",
    "    print(f'We reject our null hypothesis')"
   ]
  },
  {
   "cell_type": "code",
   "execution_count": 43,
   "metadata": {},
   "outputs": [
    {
     "data": {
      "text/html": [
       "<div>\n",
       "<style scoped>\n",
       "    .dataframe tbody tr th:only-of-type {\n",
       "        vertical-align: middle;\n",
       "    }\n",
       "\n",
       "    .dataframe tbody tr th {\n",
       "        vertical-align: top;\n",
       "    }\n",
       "\n",
       "    .dataframe thead th {\n",
       "        text-align: right;\n",
       "    }\n",
       "</style>\n",
       "<table border=\"1\" class=\"dataframe\">\n",
       "  <thead>\n",
       "    <tr style=\"text-align: right;\">\n",
       "      <th></th>\n",
       "      <th>Hypothesis</th>\n",
       "      <th>p-value</th>\n",
       "      <th>t-value</th>\n",
       "      <th>r-value</th>\n",
       "      <th>alpha</th>\n",
       "      <th>Result</th>\n",
       "    </tr>\n",
       "  </thead>\n",
       "  <tbody>\n",
       "    <tr>\n",
       "      <th>0</th>\n",
       "      <td>#1</td>\n",
       "      <td>0.0</td>\n",
       "      <td>179.493</td>\n",
       "      <td>N/A</td>\n",
       "      <td>0.05</td>\n",
       "      <td>fail to reject $H_o$</td>\n",
       "    </tr>\n",
       "  </tbody>\n",
       "</table>\n",
       "</div>"
      ],
      "text/plain": [
       "  Hypothesis  p-value  t-value r-value  alpha                Result\n",
       "0         #1      0.0  179.493     N/A   0.05  fail to reject $H_o$"
      ]
     },
     "execution_count": 43,
     "metadata": {},
     "output_type": "execute_result"
    }
   ],
   "source": [
    "hypothesis_df = pd.DataFrame(data=[{\n",
    "    'Hypothesis': '#1',\n",
    "    'p-value': (round(p,4)),\n",
    "    't-value': (round(t,3)),\n",
    "    'r-value': 'N/A',\n",
    "    'alpha': alpha,\n",
    "    'Result': 'fail to reject $H_o$'\n",
    "    }])\n",
    "\n",
    "hypothesis_df"
   ]
  },
  {
   "cell_type": "markdown",
   "metadata": {},
   "source": [
    "_______________________________"
   ]
  },
  {
   "cell_type": "markdown",
   "metadata": {},
   "source": [
    "Hypothesis 2: T-Test (cont vs discrete)\n",
    "- $H_0$: There is a relationship between Age and Oxycodone drug overdose deaths\n",
    "- $H_a$: There is not s relationship between Age and Oxycodone drug overdose deaths"
   ]
  },
  {
   "cell_type": "code",
   "execution_count": 44,
   "metadata": {},
   "outputs": [
    {
     "data": {
      "text/plain": [
       "(2858, 2858)"
      ]
     },
     "execution_count": 44,
     "metadata": {},
     "output_type": "execute_result"
    }
   ],
   "source": [
    "# sample size, must be more then 30 to meet assumption\n",
    "train.Age.count(), train.Oxycodone.count()"
   ]
  },
  {
   "cell_type": "code",
   "execution_count": 45,
   "metadata": {},
   "outputs": [
    {
     "data": {
      "text/plain": [
       "(149.8752585634879, 0.10189954914120247)"
      ]
     },
     "execution_count": 45,
     "metadata": {},
     "output_type": "execute_result"
    }
   ],
   "source": [
    "#check variance\n",
    "train.Age.var(), train.Oxycodone.var()\n",
    "\n",
    "#this shows not equal varient"
   ]
  },
  {
   "cell_type": "code",
   "execution_count": 46,
   "metadata": {},
   "outputs": [
    {
     "data": {
      "text/plain": [
       "(182.4387259159486, 0.0)"
      ]
     },
     "execution_count": 46,
     "metadata": {},
     "output_type": "execute_result"
    }
   ],
   "source": [
    "#t-test on entire train set\n",
    "t, p = stats.ttest_ind(train.Age,train.Oxycodone, equal_var=False)\n",
    "t,p"
   ]
  },
  {
   "cell_type": "code",
   "execution_count": 47,
   "metadata": {},
   "outputs": [
    {
     "name": "stdout",
     "output_type": "stream",
     "text": [
      "We calculate a t of 182.438726 and a statistical certainty p of 0.000000\n",
      "Because p 0.000000 < α  0.050000, we fail to reject our null hypothesis\n"
     ]
    }
   ],
   "source": [
    "if p < alpha:\n",
    "    print(f'We calculate a t of {t:3f} and a statistical certainty p of {p:4f}')\n",
    "    print(f'Because p {p:3f} < α  {alpha:3f}, we fail to reject our null hypothesis')\n",
    "else:\n",
    "    print(f'We reject our null hypothesis')"
   ]
  },
  {
   "cell_type": "code",
   "execution_count": 48,
   "metadata": {},
   "outputs": [
    {
     "data": {
      "text/html": [
       "<div>\n",
       "<style scoped>\n",
       "    .dataframe tbody tr th:only-of-type {\n",
       "        vertical-align: middle;\n",
       "    }\n",
       "\n",
       "    .dataframe tbody tr th {\n",
       "        vertical-align: top;\n",
       "    }\n",
       "\n",
       "    .dataframe thead th {\n",
       "        text-align: right;\n",
       "    }\n",
       "</style>\n",
       "<table border=\"1\" class=\"dataframe\">\n",
       "  <thead>\n",
       "    <tr style=\"text-align: right;\">\n",
       "      <th></th>\n",
       "      <th>Hypothesis</th>\n",
       "      <th>p-value</th>\n",
       "      <th>t-value</th>\n",
       "      <th>r-value</th>\n",
       "      <th>alpha</th>\n",
       "      <th>Result</th>\n",
       "    </tr>\n",
       "  </thead>\n",
       "  <tbody>\n",
       "    <tr>\n",
       "      <th>0</th>\n",
       "      <td>#1</td>\n",
       "      <td>0.0</td>\n",
       "      <td>179.4930</td>\n",
       "      <td>N/A</td>\n",
       "      <td>0.05</td>\n",
       "      <td>fail to reject $H_o$</td>\n",
       "    </tr>\n",
       "    <tr>\n",
       "      <th>1</th>\n",
       "      <td>#2</td>\n",
       "      <td>0.0</td>\n",
       "      <td>182.4387</td>\n",
       "      <td>N/A</td>\n",
       "      <td>0.05</td>\n",
       "      <td>fail to reject $H_o$</td>\n",
       "    </tr>\n",
       "  </tbody>\n",
       "</table>\n",
       "</div>"
      ],
      "text/plain": [
       "  Hypothesis  p-value   t-value r-value  alpha                Result\n",
       "0         #1      0.0  179.4930     N/A   0.05  fail to reject $H_o$\n",
       "1         #2      0.0  182.4387     N/A   0.05  fail to reject $H_o$"
      ]
     },
     "execution_count": 48,
     "metadata": {},
     "output_type": "execute_result"
    }
   ],
   "source": [
    "hypothesis_df = hypothesis_df.append(\n",
    "    {\n",
    "    'Hypothesis': '#2',\n",
    "    'p-value': (round(p,4)),\n",
    "    't-value': (round(t,4)),\n",
    "    'r-value': 'N/A',\n",
    "    'alpha': alpha,\n",
    "    'Result': 'fail to reject $H_o$'},\n",
    "    ignore_index= True\n",
    "    )\n",
    "\n",
    "hypothesis_df"
   ]
  },
  {
   "cell_type": "markdown",
   "metadata": {},
   "source": [
    "_____________________________"
   ]
  },
  {
   "cell_type": "markdown",
   "metadata": {},
   "source": [
    "Hypothesis 3: T-Test (cont vs discrete)\n",
    "- $H_0$: There is a relationship between Age and Heroin drug overdose deaths\n",
    "- $H_a$: There is not a relationship between Age and Heroin drug overdose deaths"
   ]
  },
  {
   "cell_type": "code",
   "execution_count": 49,
   "metadata": {},
   "outputs": [
    {
     "data": {
      "text/plain": [
       "(2858, 2858)"
      ]
     },
     "execution_count": 49,
     "metadata": {},
     "output_type": "execute_result"
    }
   ],
   "source": [
    "# sample size, must be more then 30 to meet assumption\n",
    "train.Age.count(), train.Heroin.count()"
   ]
  },
  {
   "cell_type": "code",
   "execution_count": 50,
   "metadata": {},
   "outputs": [
    {
     "data": {
      "text/plain": [
       "(149.8752585634879, 0.25008444264060153)"
      ]
     },
     "execution_count": 50,
     "metadata": {},
     "output_type": "execute_result"
    }
   ],
   "source": [
    "#check variance\n",
    "train.Age.var(), train.Heroin.var()\n",
    "\n",
    "#this shows not equal varient"
   ]
  },
  {
   "cell_type": "code",
   "execution_count": 51,
   "metadata": {},
   "outputs": [
    {
     "data": {
      "text/plain": [
       "(180.67697239575637, 0.0)"
      ]
     },
     "execution_count": 51,
     "metadata": {},
     "output_type": "execute_result"
    }
   ],
   "source": [
    "#t-test on entire train set\n",
    "t, p = stats.ttest_ind(train.Age,train.Heroin, equal_var=False)\n",
    "t,p"
   ]
  },
  {
   "cell_type": "code",
   "execution_count": 52,
   "metadata": {},
   "outputs": [
    {
     "name": "stdout",
     "output_type": "stream",
     "text": [
      "We calculate a t of 180.676972 and a statistical certainty p of 0.000000\n",
      "Because p 0.000000 < α  0.050000, we fail to reject our null hypothesis\n"
     ]
    }
   ],
   "source": [
    "if p < alpha:\n",
    "    print(f'We calculate a t of {t:3f} and a statistical certainty p of {p:4f}')\n",
    "    print(f'Because p {p:3f} < α  {alpha:3f}, we fail to reject our null hypothesis')\n",
    "else:\n",
    "    print(f'We reject our null hypothesis')"
   ]
  },
  {
   "cell_type": "code",
   "execution_count": 53,
   "metadata": {},
   "outputs": [
    {
     "data": {
      "text/html": [
       "<div>\n",
       "<style scoped>\n",
       "    .dataframe tbody tr th:only-of-type {\n",
       "        vertical-align: middle;\n",
       "    }\n",
       "\n",
       "    .dataframe tbody tr th {\n",
       "        vertical-align: top;\n",
       "    }\n",
       "\n",
       "    .dataframe thead th {\n",
       "        text-align: right;\n",
       "    }\n",
       "</style>\n",
       "<table border=\"1\" class=\"dataframe\">\n",
       "  <thead>\n",
       "    <tr style=\"text-align: right;\">\n",
       "      <th></th>\n",
       "      <th>Hypothesis</th>\n",
       "      <th>p-value</th>\n",
       "      <th>t-value</th>\n",
       "      <th>r-value</th>\n",
       "      <th>alpha</th>\n",
       "      <th>Result</th>\n",
       "    </tr>\n",
       "  </thead>\n",
       "  <tbody>\n",
       "    <tr>\n",
       "      <th>0</th>\n",
       "      <td>#1</td>\n",
       "      <td>0.0</td>\n",
       "      <td>179.4930</td>\n",
       "      <td>N/A</td>\n",
       "      <td>0.05</td>\n",
       "      <td>fail to reject $H_o$</td>\n",
       "    </tr>\n",
       "    <tr>\n",
       "      <th>1</th>\n",
       "      <td>#2</td>\n",
       "      <td>0.0</td>\n",
       "      <td>182.4387</td>\n",
       "      <td>N/A</td>\n",
       "      <td>0.05</td>\n",
       "      <td>fail to reject $H_o$</td>\n",
       "    </tr>\n",
       "    <tr>\n",
       "      <th>2</th>\n",
       "      <td>#2</td>\n",
       "      <td>0.0</td>\n",
       "      <td>180.6770</td>\n",
       "      <td>N/A</td>\n",
       "      <td>0.05</td>\n",
       "      <td>fail to reject $H_o$</td>\n",
       "    </tr>\n",
       "  </tbody>\n",
       "</table>\n",
       "</div>"
      ],
      "text/plain": [
       "  Hypothesis  p-value   t-value r-value  alpha                Result\n",
       "0         #1      0.0  179.4930     N/A   0.05  fail to reject $H_o$\n",
       "1         #2      0.0  182.4387     N/A   0.05  fail to reject $H_o$\n",
       "2         #2      0.0  180.6770     N/A   0.05  fail to reject $H_o$"
      ]
     },
     "execution_count": 53,
     "metadata": {},
     "output_type": "execute_result"
    }
   ],
   "source": [
    "hypothesis_df = hypothesis_df.append(\n",
    "    {\n",
    "    'Hypothesis': '#2',\n",
    "    'p-value': (round(p,4)),\n",
    "    't-value': (round(t,4)),\n",
    "    'r-value': 'N/A',\n",
    "    'alpha': alpha,\n",
    "    'Result': 'fail to reject $H_o$'},\n",
    "    ignore_index= True\n",
    "    )\n",
    "\n",
    "hypothesis_df"
   ]
  },
  {
   "cell_type": "markdown",
   "metadata": {},
   "source": [
    "________________________________________________________"
   ]
  },
  {
   "cell_type": "markdown",
   "metadata": {},
   "source": [
    "Hypothesis 4: $X^2$ Test (discrete vs discrete)\n",
    "- $H_0$: There is a relationship between Heroin and Oxycodone drug overdose deaths\n",
    "- $H_a$: There is not a relationship between Heroin and Oxycodone drug overdose deaths"
   ]
  },
  {
   "cell_type": "code",
   "execution_count": 54,
   "metadata": {},
   "outputs": [],
   "source": [
    "#pearsons correlation on entire train set\n",
    "#number of rows\n",
    "n = train.shape[0] \n",
    "\n",
    "#degrees of freedom- how much the data can vary\n",
    "deg_f = n-2 \n",
    "\n",
    "#confidence interval (!)\n",
    "conf_in = 0.95\n",
    "\n",
    "alpha = 1- conf_in"
   ]
  },
  {
   "cell_type": "code",
   "execution_count": 55,
   "metadata": {},
   "outputs": [],
   "source": [
    "x= train.Heroin\n",
    "y= train.Oxycodone"
   ]
  },
  {
   "cell_type": "code",
   "execution_count": 56,
   "metadata": {},
   "outputs": [],
   "source": [
    "r, p = stats.pearsonr(x,y)"
   ]
  },
  {
   "cell_type": "code",
   "execution_count": 57,
   "metadata": {},
   "outputs": [
    {
     "name": "stdout",
     "output_type": "stream",
     "text": [
      "We calculate a pearson r of -0.221287 and a statistical certainty p of 0.000000\n",
      "Because p 0.000000 < α  0.050000, we can reject our null hypothesis\n"
     ]
    }
   ],
   "source": [
    "print(f'We calculate a pearson r of {r:3f} and a statistical certainty p of {p:4f}')\n",
    "print(f'Because p {p:4f} < α  {alpha:4f}, we can reject our null hypothesis')"
   ]
  },
  {
   "cell_type": "code",
   "execution_count": 58,
   "metadata": {},
   "outputs": [
    {
     "data": {
      "text/html": [
       "<div>\n",
       "<style scoped>\n",
       "    .dataframe tbody tr th:only-of-type {\n",
       "        vertical-align: middle;\n",
       "    }\n",
       "\n",
       "    .dataframe tbody tr th {\n",
       "        vertical-align: top;\n",
       "    }\n",
       "\n",
       "    .dataframe thead th {\n",
       "        text-align: right;\n",
       "    }\n",
       "</style>\n",
       "<table border=\"1\" class=\"dataframe\">\n",
       "  <thead>\n",
       "    <tr style=\"text-align: right;\">\n",
       "      <th></th>\n",
       "      <th>Hypothesis</th>\n",
       "      <th>p-value</th>\n",
       "      <th>t-value</th>\n",
       "      <th>r-value</th>\n",
       "      <th>alpha</th>\n",
       "      <th>Result</th>\n",
       "    </tr>\n",
       "  </thead>\n",
       "  <tbody>\n",
       "    <tr>\n",
       "      <th>0</th>\n",
       "      <td>#1</td>\n",
       "      <td>0.0</td>\n",
       "      <td>179.493</td>\n",
       "      <td>N/A</td>\n",
       "      <td>0.05</td>\n",
       "      <td>fail to reject $H_o$</td>\n",
       "    </tr>\n",
       "    <tr>\n",
       "      <th>1</th>\n",
       "      <td>#2</td>\n",
       "      <td>0.0</td>\n",
       "      <td>182.439</td>\n",
       "      <td>N/A</td>\n",
       "      <td>0.05</td>\n",
       "      <td>fail to reject $H_o$</td>\n",
       "    </tr>\n",
       "    <tr>\n",
       "      <th>2</th>\n",
       "      <td>#2</td>\n",
       "      <td>0.0</td>\n",
       "      <td>180.677</td>\n",
       "      <td>N/A</td>\n",
       "      <td>0.05</td>\n",
       "      <td>fail to reject $H_o$</td>\n",
       "    </tr>\n",
       "    <tr>\n",
       "      <th>3</th>\n",
       "      <td>#4</td>\n",
       "      <td>0.0</td>\n",
       "      <td>N/A</td>\n",
       "      <td>-0.2213</td>\n",
       "      <td>0.05</td>\n",
       "      <td>reject $H_o$</td>\n",
       "    </tr>\n",
       "  </tbody>\n",
       "</table>\n",
       "</div>"
      ],
      "text/plain": [
       "  Hypothesis  p-value  t-value r-value  alpha                Result\n",
       "0         #1      0.0  179.493     N/A   0.05  fail to reject $H_o$\n",
       "1         #2      0.0  182.439     N/A   0.05  fail to reject $H_o$\n",
       "2         #2      0.0  180.677     N/A   0.05  fail to reject $H_o$\n",
       "3         #4      0.0      N/A -0.2213   0.05          reject $H_o$"
      ]
     },
     "execution_count": 58,
     "metadata": {},
     "output_type": "execute_result"
    }
   ],
   "source": [
    "hypothesis_df = hypothesis_df.append(\n",
    "    {\n",
    "    'Hypothesis': '#4',\n",
    "    'p-value': (round(p,4)),\n",
    "    't-value': 'N/A',\n",
    "    'r-value': (round(r,4)),\n",
    "    'alpha': alpha,\n",
    "    'Result': 'reject $H_o$'},\n",
    "    ignore_index= True\n",
    "    )\n",
    "\n",
    "hypothesis_df"
   ]
  },
  {
   "cell_type": "markdown",
   "metadata": {},
   "source": [
    "____________________________"
   ]
  },
  {
   "cell_type": "markdown",
   "metadata": {},
   "source": [
    "# Modeling"
   ]
  },
  {
   "cell_type": "code",
   "execution_count": 59,
   "metadata": {},
   "outputs": [
    {
     "data": {
      "text/html": [
       "<div>\n",
       "<style scoped>\n",
       "    .dataframe tbody tr th:only-of-type {\n",
       "        vertical-align: middle;\n",
       "    }\n",
       "\n",
       "    .dataframe tbody tr th {\n",
       "        vertical-align: top;\n",
       "    }\n",
       "\n",
       "    .dataframe thead th {\n",
       "        text-align: right;\n",
       "    }\n",
       "</style>\n",
       "<table border=\"1\" class=\"dataframe\">\n",
       "  <thead>\n",
       "    <tr style=\"text-align: right;\">\n",
       "      <th></th>\n",
       "      <th>ID</th>\n",
       "      <th>Date</th>\n",
       "      <th>Sex</th>\n",
       "      <th>Race</th>\n",
       "      <th>ResidenceCity</th>\n",
       "      <th>DeathCity</th>\n",
       "      <th>Location</th>\n",
       "      <th>DescriptionofInjury</th>\n",
       "      <th>InjuryPlace</th>\n",
       "      <th>COD</th>\n",
       "      <th>...</th>\n",
       "      <th>Tramad</th>\n",
       "      <th>Morphine_NotHeroin</th>\n",
       "      <th>Hydromorphone</th>\n",
       "      <th>OpiateNOS</th>\n",
       "      <th>AnyOpioid</th>\n",
       "      <th>MannerofDeath</th>\n",
       "      <th>Hispanic</th>\n",
       "      <th>Other</th>\n",
       "      <th>Unknown</th>\n",
       "      <th>White</th>\n",
       "    </tr>\n",
       "  </thead>\n",
       "  <tbody>\n",
       "    <tr>\n",
       "      <th>2570</th>\n",
       "      <td>17-0585</td>\n",
       "      <td>07/11/2017 12:00:00 AM</td>\n",
       "      <td>Female</td>\n",
       "      <td>White</td>\n",
       "      <td>SUFFIELD</td>\n",
       "      <td>SUFFIELD</td>\n",
       "      <td>Residence</td>\n",
       "      <td>Substance Abuse</td>\n",
       "      <td>Residence</td>\n",
       "      <td>Acute Intoxication due to the Combined Effects...</td>\n",
       "      <td>...</td>\n",
       "      <td>0</td>\n",
       "      <td>0</td>\n",
       "      <td>0</td>\n",
       "      <td>0</td>\n",
       "      <td>0</td>\n",
       "      <td>Accident</td>\n",
       "      <td>0</td>\n",
       "      <td>0</td>\n",
       "      <td>0</td>\n",
       "      <td>1</td>\n",
       "    </tr>\n",
       "    <tr>\n",
       "      <th>2415</th>\n",
       "      <td>17-0078</td>\n",
       "      <td>01/29/2017 12:00:00 AM</td>\n",
       "      <td>Female</td>\n",
       "      <td>White</td>\n",
       "      <td>COVENTRY</td>\n",
       "      <td>COVENTRY</td>\n",
       "      <td>Residence</td>\n",
       "      <td>Prescription Medicine Abuse</td>\n",
       "      <td>Residence</td>\n",
       "      <td>Acute Intoxication From the Combined Effects o...</td>\n",
       "      <td>...</td>\n",
       "      <td>0</td>\n",
       "      <td>1</td>\n",
       "      <td>1</td>\n",
       "      <td>0</td>\n",
       "      <td>0</td>\n",
       "      <td>Accident</td>\n",
       "      <td>0</td>\n",
       "      <td>0</td>\n",
       "      <td>0</td>\n",
       "      <td>1</td>\n",
       "    </tr>\n",
       "    <tr>\n",
       "      <th>4289</th>\n",
       "      <td>18-0792</td>\n",
       "      <td>10/07/2018 12:00:00 AM</td>\n",
       "      <td>Male</td>\n",
       "      <td>White</td>\n",
       "      <td>STRATFORD</td>\n",
       "      <td>STRATFORD</td>\n",
       "      <td>Residence</td>\n",
       "      <td>Substance Abuse</td>\n",
       "      <td>Residence</td>\n",
       "      <td>Acute Intoxication From the Combined Effects o...</td>\n",
       "      <td>...</td>\n",
       "      <td>0</td>\n",
       "      <td>0</td>\n",
       "      <td>0</td>\n",
       "      <td>0</td>\n",
       "      <td>1</td>\n",
       "      <td>Accident</td>\n",
       "      <td>0</td>\n",
       "      <td>0</td>\n",
       "      <td>0</td>\n",
       "      <td>1</td>\n",
       "    </tr>\n",
       "    <tr>\n",
       "      <th>4620</th>\n",
       "      <td>17-0093</td>\n",
       "      <td>02/03/2017 12:00:00 AM</td>\n",
       "      <td>Male</td>\n",
       "      <td>White</td>\n",
       "      <td>WINCHESTER</td>\n",
       "      <td>WINCHESTER</td>\n",
       "      <td>Residence</td>\n",
       "      <td>SUBSTANCE ABUSE</td>\n",
       "      <td>Residence</td>\n",
       "      <td>ACUTE HEROIN, FENTANYL AND COCAINE TOXICITIES,...</td>\n",
       "      <td>...</td>\n",
       "      <td>0</td>\n",
       "      <td>0</td>\n",
       "      <td>0</td>\n",
       "      <td>0</td>\n",
       "      <td>0</td>\n",
       "      <td>Accident</td>\n",
       "      <td>0</td>\n",
       "      <td>0</td>\n",
       "      <td>0</td>\n",
       "      <td>1</td>\n",
       "    </tr>\n",
       "    <tr>\n",
       "      <th>2996</th>\n",
       "      <td>17-0016</td>\n",
       "      <td>01/05/2017 12:00:00 AM</td>\n",
       "      <td>Male</td>\n",
       "      <td>White</td>\n",
       "      <td>DANBURY</td>\n",
       "      <td>DANBURY</td>\n",
       "      <td>Residence</td>\n",
       "      <td>Substance Abuse</td>\n",
       "      <td>Residence</td>\n",
       "      <td>Acute Fentanyl Intoxication</td>\n",
       "      <td>...</td>\n",
       "      <td>0</td>\n",
       "      <td>0</td>\n",
       "      <td>0</td>\n",
       "      <td>0</td>\n",
       "      <td>0</td>\n",
       "      <td>Accident</td>\n",
       "      <td>0</td>\n",
       "      <td>0</td>\n",
       "      <td>0</td>\n",
       "      <td>1</td>\n",
       "    </tr>\n",
       "  </tbody>\n",
       "</table>\n",
       "<p>5 rows × 31 columns</p>\n",
       "</div>"
      ],
      "text/plain": [
       "           ID                    Date     Sex   Race ResidenceCity  \\\n",
       "2570  17-0585  07/11/2017 12:00:00 AM  Female  White      SUFFIELD   \n",
       "2415  17-0078  01/29/2017 12:00:00 AM  Female  White      COVENTRY   \n",
       "4289  18-0792  10/07/2018 12:00:00 AM    Male  White     STRATFORD   \n",
       "4620  17-0093  02/03/2017 12:00:00 AM    Male  White    WINCHESTER   \n",
       "2996  17-0016  01/05/2017 12:00:00 AM    Male  White       DANBURY   \n",
       "\n",
       "       DeathCity   Location          DescriptionofInjury InjuryPlace  \\\n",
       "2570    SUFFIELD  Residence              Substance Abuse   Residence   \n",
       "2415    COVENTRY  Residence  Prescription Medicine Abuse   Residence   \n",
       "4289   STRATFORD  Residence              Substance Abuse   Residence   \n",
       "4620  WINCHESTER  Residence              SUBSTANCE ABUSE   Residence   \n",
       "2996     DANBURY  Residence              Substance Abuse   Residence   \n",
       "\n",
       "                                                    COD  ...  Tramad  \\\n",
       "2570  Acute Intoxication due to the Combined Effects...  ...       0   \n",
       "2415  Acute Intoxication From the Combined Effects o...  ...       0   \n",
       "4289  Acute Intoxication From the Combined Effects o...  ...       0   \n",
       "4620  ACUTE HEROIN, FENTANYL AND COCAINE TOXICITIES,...  ...       0   \n",
       "2996                        Acute Fentanyl Intoxication  ...       0   \n",
       "\n",
       "      Morphine_NotHeroin Hydromorphone  OpiateNOS  AnyOpioid  MannerofDeath  \\\n",
       "2570                   0             0          0          0       Accident   \n",
       "2415                   1             1          0          0       Accident   \n",
       "4289                   0             0          0          1       Accident   \n",
       "4620                   0             0          0          0       Accident   \n",
       "2996                   0             0          0          0       Accident   \n",
       "\n",
       "      Hispanic  Other  Unknown  White  \n",
       "2570         0      0        0      1  \n",
       "2415         0      0        0      1  \n",
       "4289         0      0        0      1  \n",
       "4620         0      0        0      1  \n",
       "2996         0      0        0      1  \n",
       "\n",
       "[5 rows x 31 columns]"
      ]
     },
     "execution_count": 59,
     "metadata": {},
     "output_type": "execute_result"
    }
   ],
   "source": [
    "#take a look at X_train dataframe\n",
    "X_train.head()"
   ]
  },
  {
   "cell_type": "markdown",
   "metadata": {},
   "source": [
    "### Create Baseline"
   ]
  },
  {
   "cell_type": "code",
   "execution_count": 60,
   "metadata": {},
   "outputs": [],
   "source": [
    "#create a baseline\n",
    "# We need y_train and y_validate to be dataframes to append the new columns with predicted values. \n",
    "y_train = pd.DataFrame(y_train)\n",
    "y_validate = pd.DataFrame(y_validate)"
   ]
  },
  {
   "cell_type": "code",
   "execution_count": 61,
   "metadata": {},
   "outputs": [],
   "source": [
    "# 1. Predict assessed_value_pred_mean\n",
    "\n",
    "#predicted mean will be the mean of value_assessed column\n",
    "age_pred_mean = y_train['Age'].mean()\n",
    "#new column created\n",
    "y_train['age_pred_mean'] = age_pred_mean\n",
    "y_validate['age_pred_mean'] = age_pred_mean"
   ]
  },
  {
   "cell_type": "code",
   "execution_count": 62,
   "metadata": {},
   "outputs": [
    {
     "data": {
      "text/html": [
       "<div>\n",
       "<style scoped>\n",
       "    .dataframe tbody tr th:only-of-type {\n",
       "        vertical-align: middle;\n",
       "    }\n",
       "\n",
       "    .dataframe tbody tr th {\n",
       "        vertical-align: top;\n",
       "    }\n",
       "\n",
       "    .dataframe thead th {\n",
       "        text-align: right;\n",
       "    }\n",
       "</style>\n",
       "<table border=\"1\" class=\"dataframe\">\n",
       "  <thead>\n",
       "    <tr style=\"text-align: right;\">\n",
       "      <th></th>\n",
       "      <th>Age</th>\n",
       "      <th>age_pred_mean</th>\n",
       "    </tr>\n",
       "  </thead>\n",
       "  <tbody>\n",
       "    <tr>\n",
       "      <th>2570</th>\n",
       "      <td>27</td>\n",
       "      <td>41.907628</td>\n",
       "    </tr>\n",
       "    <tr>\n",
       "      <th>2415</th>\n",
       "      <td>61</td>\n",
       "      <td>41.907628</td>\n",
       "    </tr>\n",
       "    <tr>\n",
       "      <th>4289</th>\n",
       "      <td>24</td>\n",
       "      <td>41.907628</td>\n",
       "    </tr>\n",
       "    <tr>\n",
       "      <th>4620</th>\n",
       "      <td>47</td>\n",
       "      <td>41.907628</td>\n",
       "    </tr>\n",
       "    <tr>\n",
       "      <th>2996</th>\n",
       "      <td>23</td>\n",
       "      <td>41.907628</td>\n",
       "    </tr>\n",
       "  </tbody>\n",
       "</table>\n",
       "</div>"
      ],
      "text/plain": [
       "      Age  age_pred_mean\n",
       "2570   27      41.907628\n",
       "2415   61      41.907628\n",
       "4289   24      41.907628\n",
       "4620   47      41.907628\n",
       "2996   23      41.907628"
      ]
     },
     "execution_count": 62,
     "metadata": {},
     "output_type": "execute_result"
    }
   ],
   "source": [
    "y_train.head()"
   ]
  },
  {
   "cell_type": "code",
   "execution_count": 63,
   "metadata": {},
   "outputs": [
    {
     "name": "stdout",
     "output_type": "stream",
     "text": [
      "RMSE using Mean\n",
      "Train/In-Sample:  12.24 \n",
      "Validate/Out-of-Sample:  12.536\n"
     ]
    }
   ],
   "source": [
    "# 2. RMSE of value_assessed_pred_mean\n",
    "\n",
    "#root mean squared error of the predicted mean\n",
    "rmse_train = mean_squared_error(y_train.Age, y_train.age_pred_mean)**(1/2)\n",
    "rmse_validate = mean_squared_error(y_validate.Age, y_validate.age_pred_mean)**(1/2)\n",
    "print(\"RMSE using Mean\\nTrain/In-Sample: \", round(rmse_train, 3), \n",
    "      \"\\nValidate/Out-of-Sample: \", round(rmse_validate, 3))"
   ]
  },
  {
   "cell_type": "code",
   "execution_count": 64,
   "metadata": {},
   "outputs": [
    {
     "data": {
      "text/html": [
       "<div>\n",
       "<style scoped>\n",
       "    .dataframe tbody tr th:only-of-type {\n",
       "        vertical-align: middle;\n",
       "    }\n",
       "\n",
       "    .dataframe tbody tr th {\n",
       "        vertical-align: top;\n",
       "    }\n",
       "\n",
       "    .dataframe thead th {\n",
       "        text-align: right;\n",
       "    }\n",
       "</style>\n",
       "<table border=\"1\" class=\"dataframe\">\n",
       "  <thead>\n",
       "    <tr style=\"text-align: right;\">\n",
       "      <th></th>\n",
       "      <th>model</th>\n",
       "      <th>rmse_train</th>\n",
       "      <th>rmse_validate</th>\n",
       "      <th>rmse_test</th>\n",
       "      <th>r^2</th>\n",
       "    </tr>\n",
       "  </thead>\n",
       "  <tbody>\n",
       "    <tr>\n",
       "      <th>0</th>\n",
       "      <td>mean_baseline</td>\n",
       "      <td>12.24</td>\n",
       "      <td>12.536</td>\n",
       "      <td>N/A</td>\n",
       "      <td>0.0</td>\n",
       "    </tr>\n",
       "  </tbody>\n",
       "</table>\n",
       "</div>"
      ],
      "text/plain": [
       "           model  rmse_train  rmse_validate rmse_test  r^2\n",
       "0  mean_baseline       12.24         12.536       N/A  0.0"
      ]
     },
     "execution_count": 64,
     "metadata": {},
     "output_type": "execute_result"
    }
   ],
   "source": [
    "#create a dataframe to make data easier to visualize/understand\n",
    "metric_df = pd.DataFrame(data=[{\n",
    "    'model': 'mean_baseline',\n",
    "    'rmse_train': (round(rmse_train,3)),\n",
    "    'rmse_validate': (round(rmse_validate,3)),\n",
    "    'rmse_test': 'N/A',\n",
    "    'r^2': (round(explained_variance_score(y_validate.Age, y_validate.age_pred_mean),3))}])\n",
    "\n",
    "metric_df\n",
    "#we now have out baseline model to work off of"
   ]
  },
  {
   "cell_type": "markdown",
   "metadata": {},
   "source": [
    "___________________________________"
   ]
  },
  {
   "cell_type": "markdown",
   "metadata": {},
   "source": [
    "## Linear Regression Model"
   ]
  },
  {
   "cell_type": "code",
   "execution_count": 65,
   "metadata": {},
   "outputs": [],
   "source": [
    "#set X_train to drivers only\n",
    "#we do not want to include all columns in this because it could cause overfitting\n",
    "#these two features have the highest correlation\n",
    "drivers_train = X_train[['Oxycodone', 'Heroin']]\n",
    "\n",
    "#set X_validate_scaled to drivers only\n",
    "drivers_validate= X_validate[['Oxycodone', 'Heroin']]\n",
    "\n",
    "#set X_test_scaled to drivers only\n",
    "drivers_test= X_test[['Oxycodone', 'Heroin']]"
   ]
  },
  {
   "cell_type": "code",
   "execution_count": 66,
   "metadata": {},
   "outputs": [
    {
     "data": {
      "text/plain": [
       "LinearRegression(normalize=True)"
      ]
     },
     "execution_count": 66,
     "metadata": {},
     "output_type": "execute_result"
    }
   ],
   "source": [
    "#create the model \n",
    "lm = LinearRegression(normalize=True)\n",
    "\n",
    "#fit\n",
    "lm.fit(drivers_train, y_train.Age)"
   ]
  },
  {
   "cell_type": "code",
   "execution_count": 67,
   "metadata": {},
   "outputs": [],
   "source": [
    "# predict train\n",
    "y_train['age_pred_lm'] = lm.predict(drivers_train)\n",
    "\n",
    "# evaluate: rmse\n",
    "rmse_train = mean_squared_error(y_train.Age, y_train.age_pred_lm)**(1/2)\n",
    "\n",
    "# predict validate\n",
    "y_validate['age_pred_lm'] = lm.predict(drivers_validate)\n",
    "\n",
    "# evaluate: rmse\n",
    "rmse_validate = mean_squared_error(y_validate.Age, y_validate.age_pred_lm)**(1/2)"
   ]
  },
  {
   "cell_type": "code",
   "execution_count": 68,
   "metadata": {},
   "outputs": [
    {
     "name": "stdout",
     "output_type": "stream",
     "text": [
      "RMSE for OLS using LinearRegression\n",
      "Training/In-Sample:  12.118785439335973 \n",
      "Validation/Out-of-Sample:  12.380931745188388\n"
     ]
    }
   ],
   "source": [
    "print(\"RMSE for OLS using LinearRegression\\nTraining/In-Sample: \", rmse_train, \n",
    "      \"\\nValidation/Out-of-Sample: \", rmse_validate)"
   ]
  },
  {
   "cell_type": "code",
   "execution_count": 69,
   "metadata": {},
   "outputs": [
    {
     "data": {
      "text/html": [
       "<div>\n",
       "<style scoped>\n",
       "    .dataframe tbody tr th:only-of-type {\n",
       "        vertical-align: middle;\n",
       "    }\n",
       "\n",
       "    .dataframe tbody tr th {\n",
       "        vertical-align: top;\n",
       "    }\n",
       "\n",
       "    .dataframe thead th {\n",
       "        text-align: right;\n",
       "    }\n",
       "</style>\n",
       "<table border=\"1\" class=\"dataframe\">\n",
       "  <thead>\n",
       "    <tr style=\"text-align: right;\">\n",
       "      <th></th>\n",
       "      <th>model</th>\n",
       "      <th>rmse_train</th>\n",
       "      <th>rmse_validate</th>\n",
       "      <th>rmse_test</th>\n",
       "      <th>r^2</th>\n",
       "    </tr>\n",
       "  </thead>\n",
       "  <tbody>\n",
       "    <tr>\n",
       "      <th>0</th>\n",
       "      <td>mean_baseline</td>\n",
       "      <td>12.240</td>\n",
       "      <td>12.536</td>\n",
       "      <td>N/A</td>\n",
       "      <td>0.000</td>\n",
       "    </tr>\n",
       "    <tr>\n",
       "      <th>1</th>\n",
       "      <td>OLS</td>\n",
       "      <td>12.119</td>\n",
       "      <td>12.381</td>\n",
       "      <td>N/A</td>\n",
       "      <td>0.024</td>\n",
       "    </tr>\n",
       "  </tbody>\n",
       "</table>\n",
       "</div>"
      ],
      "text/plain": [
       "           model  rmse_train  rmse_validate rmse_test    r^2\n",
       "0  mean_baseline      12.240         12.536       N/A  0.000\n",
       "1            OLS      12.119         12.381       N/A  0.024"
      ]
     },
     "execution_count": 69,
     "metadata": {},
     "output_type": "execute_result"
    }
   ],
   "source": [
    "#create visual to see baseline vs LinearRegression model\n",
    "metric_df = metric_df.append(\n",
    "    {\n",
    "    'model': 'OLS',\n",
    "    'rmse_train': (round(rmse_train,3)),\n",
    "    'rmse_validate': (round(rmse_validate,3)),\n",
    "    'rmse_test': 'N/A',\n",
    "    'r^2': (round(explained_variance_score(y_validate.Age, y_validate.age_pred_lm),3))}, ignore_index=True)\n",
    "\n",
    "metric_df"
   ]
  },
  {
   "cell_type": "markdown",
   "metadata": {},
   "source": [
    "________________________________"
   ]
  },
  {
   "cell_type": "markdown",
   "metadata": {},
   "source": [
    "### LassoLars Model"
   ]
  },
  {
   "cell_type": "code",
   "execution_count": 70,
   "metadata": {},
   "outputs": [
    {
     "name": "stdout",
     "output_type": "stream",
     "text": [
      "RMSE for Lasso + Lars\n",
      "Training/In-Sample:  12.240213149907696 \n",
      "Validation/Out-of-Sample:  12.535506516301341\n"
     ]
    }
   ],
   "source": [
    "# create the model object\n",
    "lars = LassoLars(alpha= 2)\n",
    "\n",
    "# fit the model to our training data. We must specify the column in y_train, \n",
    "# since we have converted it to a dataframe from a series! \n",
    "lars.fit(drivers_train, y_train.Age)\n",
    "\n",
    "# predict train\n",
    "y_train['age_pred_lars'] = lars.predict(drivers_train)\n",
    "\n",
    "# evaluate: rmse\n",
    "rmse_train = mean_squared_error(y_train.Age, y_train.age_pred_lars)**(1/2)\n",
    "\n",
    "# predict validate\n",
    "y_validate['age_pred_lars'] = lars.predict(drivers_validate)\n",
    "\n",
    "# evaluate: rmse\n",
    "rmse_validate = mean_squared_error(y_validate.Age, y_validate.age_pred_lars)**(1/2)\n",
    "\n",
    "print(\"RMSE for Lasso + Lars\\nTraining/In-Sample: \", rmse_train, \n",
    "      \"\\nValidation/Out-of-Sample: \", rmse_validate)"
   ]
  },
  {
   "cell_type": "code",
   "execution_count": 71,
   "metadata": {},
   "outputs": [
    {
     "data": {
      "text/html": [
       "<div>\n",
       "<style scoped>\n",
       "    .dataframe tbody tr th:only-of-type {\n",
       "        vertical-align: middle;\n",
       "    }\n",
       "\n",
       "    .dataframe tbody tr th {\n",
       "        vertical-align: top;\n",
       "    }\n",
       "\n",
       "    .dataframe thead th {\n",
       "        text-align: right;\n",
       "    }\n",
       "</style>\n",
       "<table border=\"1\" class=\"dataframe\">\n",
       "  <thead>\n",
       "    <tr style=\"text-align: right;\">\n",
       "      <th></th>\n",
       "      <th>model</th>\n",
       "      <th>rmse_train</th>\n",
       "      <th>rmse_validate</th>\n",
       "      <th>rmse_test</th>\n",
       "      <th>r^2</th>\n",
       "    </tr>\n",
       "  </thead>\n",
       "  <tbody>\n",
       "    <tr>\n",
       "      <th>0</th>\n",
       "      <td>mean_baseline</td>\n",
       "      <td>12.240</td>\n",
       "      <td>12.536</td>\n",
       "      <td>N/A</td>\n",
       "      <td>0.000</td>\n",
       "    </tr>\n",
       "    <tr>\n",
       "      <th>1</th>\n",
       "      <td>OLS</td>\n",
       "      <td>12.119</td>\n",
       "      <td>12.381</td>\n",
       "      <td>N/A</td>\n",
       "      <td>0.024</td>\n",
       "    </tr>\n",
       "    <tr>\n",
       "      <th>2</th>\n",
       "      <td>LassoLars (alpha 2)</td>\n",
       "      <td>12.240</td>\n",
       "      <td>12.536</td>\n",
       "      <td>N/A</td>\n",
       "      <td>0.000</td>\n",
       "    </tr>\n",
       "  </tbody>\n",
       "</table>\n",
       "</div>"
      ],
      "text/plain": [
       "                 model  rmse_train  rmse_validate rmse_test    r^2\n",
       "0        mean_baseline      12.240         12.536       N/A  0.000\n",
       "1                  OLS      12.119         12.381       N/A  0.024\n",
       "2  LassoLars (alpha 2)      12.240         12.536       N/A  0.000"
      ]
     },
     "execution_count": 71,
     "metadata": {},
     "output_type": "execute_result"
    }
   ],
   "source": [
    "#shows baseline vs LinearRegression vs LassoLars\n",
    "metric_df = metric_df.append(\n",
    "    {\n",
    "    'model': 'LassoLars (alpha 2)',\n",
    "    'rmse_train': (round(rmse_train,3)),\n",
    "    'rmse_validate': (round(rmse_validate,3)),\n",
    "    'rmse_test': 'N/A',\n",
    "    'r^2': (round(explained_variance_score(y_validate.Age, y_validate.age_pred_lars),3))}, ignore_index=True)\n",
    "\n",
    "metric_df"
   ]
  },
  {
   "cell_type": "markdown",
   "metadata": {},
   "source": [
    "___________________________________________"
   ]
  },
  {
   "cell_type": "code",
   "execution_count": 72,
   "metadata": {},
   "outputs": [
    {
     "name": "stdout",
     "output_type": "stream",
     "text": [
      "RMSE for GLM using Tweedie, power=1 & alpha=0\n",
      "Training/In-Sample:  12.12 \n",
      "Validation/Out-of-Sample:  12.383584360786044\n"
     ]
    }
   ],
   "source": [
    "# create the model object\n",
    "glm = TweedieRegressor(power=1, alpha=1)\n",
    "\n",
    "# fit the model to our training data. We must specify the column in y_train, \n",
    "# since we have converted it to a dataframe from a series! \n",
    "glm.fit(drivers_train, y_train.Age)\n",
    "\n",
    "# predict train\n",
    "y_train['age_pred_glm'] = glm.predict(drivers_train)\n",
    "\n",
    "# evaluate: rmse\n",
    "rmse_train = (mean_squared_error(y_train.Age, y_train.age_pred_glm)**(1/2))\n",
    "\n",
    "# predict validate\n",
    "y_validate['age_pred_glm'] = glm.predict(drivers_validate)\n",
    "\n",
    "# evaluate: rmse\n",
    "rmse_validate = mean_squared_error(y_validate.Age, y_validate.age_pred_glm)**(1/2)\n",
    "\n",
    "print(\"RMSE for GLM using Tweedie, power=1 & alpha=0\\nTraining/In-Sample: \", (round(rmse_train,2)), \n",
    "      \"\\nValidation/Out-of-Sample: \", rmse_validate)"
   ]
  },
  {
   "cell_type": "code",
   "execution_count": 73,
   "metadata": {},
   "outputs": [
    {
     "data": {
      "text/html": [
       "<div>\n",
       "<style scoped>\n",
       "    .dataframe tbody tr th:only-of-type {\n",
       "        vertical-align: middle;\n",
       "    }\n",
       "\n",
       "    .dataframe tbody tr th {\n",
       "        vertical-align: top;\n",
       "    }\n",
       "\n",
       "    .dataframe thead th {\n",
       "        text-align: right;\n",
       "    }\n",
       "</style>\n",
       "<table border=\"1\" class=\"dataframe\">\n",
       "  <thead>\n",
       "    <tr style=\"text-align: right;\">\n",
       "      <th></th>\n",
       "      <th>model</th>\n",
       "      <th>rmse_train</th>\n",
       "      <th>rmse_validate</th>\n",
       "      <th>rmse_test</th>\n",
       "      <th>r^2</th>\n",
       "    </tr>\n",
       "  </thead>\n",
       "  <tbody>\n",
       "    <tr>\n",
       "      <th>0</th>\n",
       "      <td>mean_baseline</td>\n",
       "      <td>12.240</td>\n",
       "      <td>12.536</td>\n",
       "      <td>N/A</td>\n",
       "      <td>0.000</td>\n",
       "    </tr>\n",
       "    <tr>\n",
       "      <th>1</th>\n",
       "      <td>OLS</td>\n",
       "      <td>12.119</td>\n",
       "      <td>12.381</td>\n",
       "      <td>N/A</td>\n",
       "      <td>0.024</td>\n",
       "    </tr>\n",
       "    <tr>\n",
       "      <th>2</th>\n",
       "      <td>LassoLars (alpha 2)</td>\n",
       "      <td>12.240</td>\n",
       "      <td>12.536</td>\n",
       "      <td>N/A</td>\n",
       "      <td>0.000</td>\n",
       "    </tr>\n",
       "    <tr>\n",
       "      <th>3</th>\n",
       "      <td>TweedieRegresson (power 1, alpha 2)</td>\n",
       "      <td>12.121</td>\n",
       "      <td>12.384</td>\n",
       "      <td>NaN</td>\n",
       "      <td>0.024</td>\n",
       "    </tr>\n",
       "  </tbody>\n",
       "</table>\n",
       "</div>"
      ],
      "text/plain": [
       "                                 model  rmse_train  rmse_validate rmse_test  \\\n",
       "0                        mean_baseline      12.240         12.536       N/A   \n",
       "1                                  OLS      12.119         12.381       N/A   \n",
       "2                  LassoLars (alpha 2)      12.240         12.536       N/A   \n",
       "3  TweedieRegresson (power 1, alpha 2)      12.121         12.384       NaN   \n",
       "\n",
       "     r^2  \n",
       "0  0.000  \n",
       "1  0.024  \n",
       "2  0.000  \n",
       "3  0.024  "
      ]
     },
     "execution_count": 73,
     "metadata": {},
     "output_type": "execute_result"
    }
   ],
   "source": [
    "#compares all four models\n",
    "metric_df = metric_df.append(\n",
    "    {\n",
    "    'model': 'TweedieRegresson (power 1, alpha 2)',\n",
    "    'rmse_train': (round(rmse_train,3)),\n",
    "    'rmse_validate': (round(rmse_validate,3)),\n",
    "    'r^2': (round(explained_variance_score(y_validate.Age, y_validate.age_pred_glm),3))}, ignore_index=True)\n",
    "\n",
    "metric_df"
   ]
  },
  {
   "cell_type": "code",
   "execution_count": 74,
   "metadata": {},
   "outputs": [
    {
     "data": {
      "image/png": "[encoded data removed]",
      "text/plain": [
       "<Figure size 1152x576 with 1 Axes>"
      ]
     },
     "metadata": {
      "needs_background": "light"
     },
     "output_type": "display_data"
    }
   ],
   "source": [
    "# plot to visualize actual vs predicted. \n",
    "plt.figure(figsize=(16,8))\n",
    "plt.hist(y_validate.Age, color='blue', alpha=.5, label=\"Actual Age\")\n",
    "plt.hist(y_validate.age_pred_lm, color='red', alpha=.5, label=\"Model: OLS\")\n",
    "plt.hist(y_validate.age_pred_glm, color='yellow', alpha=.5, label=\"Model: TweedieRegressor\")\n",
    "plt.hist(y_validate.age_pred_lars, color='green', alpha=.5, label=\"Model: LassoLars\")\n",
    "plt.xlabel(\"Age\")\n",
    "plt.ylabel(\"Number of Homes\")\n",
    "plt.title(\"Distribution of Actual Age vs Predicted Age for Top Performing Models\")\n",
    "plt.legend()\n",
    "plt.show()"
   ]
  },
  {
   "cell_type": "markdown",
   "metadata": {},
   "source": [
    "____________________________"
   ]
  },
  {
   "cell_type": "markdown",
   "metadata": {},
   "source": [
    "### Use Test set on Best Performing Model"
   ]
  },
  {
   "cell_type": "code",
   "execution_count": 75,
   "metadata": {},
   "outputs": [
    {
     "name": "stdout",
     "output_type": "stream",
     "text": [
      "RMSE for OLS Model using LinearRegression\n",
      "Out-of-Sample Performance:  12.087717914301749\n"
     ]
    }
   ],
   "source": [
    "y_test = pd.DataFrame(y_test)\n",
    "\n",
    "# predict on test\n",
    "y_test['age_pred_lm'] = lm.predict(drivers_test)\n",
    "\n",
    "# evaluate: rmse\n",
    "rmse_test = mean_squared_error(y_test.Age, y_test.age_pred_lm)**(1/2)\n",
    "\n",
    "print(\"RMSE for OLS Model using LinearRegression\\nOut-of-Sample Performance: \", rmse_test)"
   ]
  },
  {
   "cell_type": "code",
   "execution_count": 76,
   "metadata": {},
   "outputs": [
    {
     "data": {
      "text/html": [
       "<div>\n",
       "<style scoped>\n",
       "    .dataframe tbody tr th:only-of-type {\n",
       "        vertical-align: middle;\n",
       "    }\n",
       "\n",
       "    .dataframe tbody tr th {\n",
       "        vertical-align: top;\n",
       "    }\n",
       "\n",
       "    .dataframe thead th {\n",
       "        text-align: right;\n",
       "    }\n",
       "</style>\n",
       "<table border=\"1\" class=\"dataframe\">\n",
       "  <thead>\n",
       "    <tr style=\"text-align: right;\">\n",
       "      <th></th>\n",
       "      <th>model</th>\n",
       "      <th>rmse_train</th>\n",
       "      <th>rmse_validate</th>\n",
       "      <th>rmse_test</th>\n",
       "      <th>r^2</th>\n",
       "      <th>rmse_vaidate</th>\n",
       "    </tr>\n",
       "  </thead>\n",
       "  <tbody>\n",
       "    <tr>\n",
       "      <th>0</th>\n",
       "      <td>mean_baseline</td>\n",
       "      <td>12.24</td>\n",
       "      <td>12.536</td>\n",
       "      <td>N/A</td>\n",
       "      <td>0.000</td>\n",
       "      <td>NaN</td>\n",
       "    </tr>\n",
       "    <tr>\n",
       "      <th>1</th>\n",
       "      <td>OLS</td>\n",
       "      <td>12.119</td>\n",
       "      <td>12.381</td>\n",
       "      <td>N/A</td>\n",
       "      <td>0.024</td>\n",
       "      <td>NaN</td>\n",
       "    </tr>\n",
       "    <tr>\n",
       "      <th>2</th>\n",
       "      <td>LassoLars (alpha 2)</td>\n",
       "      <td>12.24</td>\n",
       "      <td>12.536</td>\n",
       "      <td>N/A</td>\n",
       "      <td>0.000</td>\n",
       "      <td>NaN</td>\n",
       "    </tr>\n",
       "    <tr>\n",
       "      <th>3</th>\n",
       "      <td>TweedieRegresson (power 1, alpha 2)</td>\n",
       "      <td>12.121</td>\n",
       "      <td>12.384</td>\n",
       "      <td>NaN</td>\n",
       "      <td>0.024</td>\n",
       "      <td>NaN</td>\n",
       "    </tr>\n",
       "    <tr>\n",
       "      <th>4</th>\n",
       "      <td>OLS on Test set</td>\n",
       "      <td>N/A</td>\n",
       "      <td>NaN</td>\n",
       "      <td>12.088</td>\n",
       "      <td>0.041</td>\n",
       "      <td>N/A</td>\n",
       "    </tr>\n",
       "  </tbody>\n",
       "</table>\n",
       "</div>"
      ],
      "text/plain": [
       "                                 model rmse_train  rmse_validate rmse_test  \\\n",
       "0                        mean_baseline      12.24         12.536       N/A   \n",
       "1                                  OLS     12.119         12.381       N/A   \n",
       "2                  LassoLars (alpha 2)      12.24         12.536       N/A   \n",
       "3  TweedieRegresson (power 1, alpha 2)     12.121         12.384       NaN   \n",
       "4                      OLS on Test set        N/A            NaN    12.088   \n",
       "\n",
       "     r^2 rmse_vaidate  \n",
       "0  0.000          NaN  \n",
       "1  0.024          NaN  \n",
       "2  0.000          NaN  \n",
       "3  0.024          NaN  \n",
       "4  0.041          N/A  "
      ]
     },
     "execution_count": 76,
     "metadata": {},
     "output_type": "execute_result"
    }
   ],
   "source": [
    "#compares all four models\n",
    "metric_df = metric_df.append(\n",
    "    {\n",
    "    'model': 'OLS on Test set',\n",
    "    'rmse_train': 'N/A',\n",
    "    'rmse_vaidate': 'N/A',\n",
    "    'rmse_test': (round(rmse_test,3)),\n",
    "    'r^2': (round(explained_variance_score(y_test.Age, y_test.age_pred_lm),3))}, ignore_index=True)\n",
    "\n",
    "metric_df"
   ]
  },
  {
   "cell_type": "markdown",
   "metadata": {},
   "source": [
    "### Takeaways from Modeling:\n",
    "OLS model performs better than the baseline and other predictive models"
   ]
  },
  {
   "cell_type": "markdown",
   "metadata": {},
   "source": [
    "_____________________________________________"
   ]
  },
  {
   "cell_type": "markdown",
   "metadata": {},
   "source": [
    "## Final Takeaways and Next Steps:"
   ]
  },
  {
   "cell_type": "code",
   "execution_count": null,
   "metadata": {},
   "outputs": [],
   "source": []
  }
 ],
 "metadata": {
  "kernelspec": {
   "display_name": "Python 3",
   "language": "python",
   "name": "python3"
  },
  "language_info": {
   "codemirror_mode": {
    "name": "ipython",
    "version": 3
   },
   "file_extension": ".py",
   "mimetype": "text/x-python",
   "name": "python",
   "nbconvert_exporter": "python",
   "pygments_lexer": "ipython3",
   "version": "3.8.5"
  }
 },
 "nbformat": 4,
 "nbformat_minor": 4
}
